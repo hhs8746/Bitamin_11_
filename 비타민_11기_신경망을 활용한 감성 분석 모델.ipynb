{
  "cells": [
    {
      "cell_type": "code",
      "execution_count": null,
      "id": "398e9f29",
      "metadata": {
        "id": "398e9f29"
      },
      "outputs": [],
      "source": [
        "import torch\n",
        "import torch.nn as nn\n",
        "from torch.utils.data import DataLoader\n",
        "import torch.optim as optim\n",
        "import torch.nn.functional as F\n",
        "import numpy as np\n",
        "import pandas as pd\n",
        "from sklearn.feature_extraction.text import TfidfVectorizer\n",
        "from sklearn.model_selection import train_test_split\n",
        "from sklearn.metrics import classification_report\n",
        "import warnings\n",
        "\n",
        "warnings.filterwarnings('ignore')"
      ]
    },
    {
      "cell_type": "markdown",
      "id": "378c1e37",
      "metadata": {
        "id": "378c1e37"
      },
      "source": [
        "## 문제1. MasterCard 리뷰 데이터셋을 사용해서 고객 트윗의 감성을 분석하는 간단한 모델을 만들어봅시다."
      ]
    },
    {
      "cell_type": "markdown",
      "id": "bb6ceab4",
      "metadata": {
        "id": "bb6ceab4"
      },
      "source": [
        "#### MasterCardReview : 2018년도부터 2022년도까지 마스터카드의 공식 트위터 계정이 태그된 트윗들과 해당 트윗들의 감성이 분류된 데이터셋\n",
        "\n",
        "- datetime: 트윗 업로드 일시\n",
        "- username: 사용자\n",
        "- content: 트윗 원문\n",
        "- preprocessed_content: 전처리된 트윗\n",
        "- sentiment: 해당 트윗의 감성 (긍정(0) / 중립(1) / 부정(2)으로 구분)"
      ]
    },
    {
      "cell_type": "markdown",
      "id": "aac07dea",
      "metadata": {
        "id": "aac07dea"
      },
      "source": [
        "1. MasterCardReview.csv 파일을 불러오고 출력해주세요. (1점)"
      ]
    },
    {
      "cell_type": "code",
      "execution_count": null,
      "id": "c880db6a",
      "metadata": {
        "colab": {
          "base_uri": "https://localhost:8080/",
          "height": 354
        },
        "id": "c880db6a",
        "outputId": "71579b80-3b44-409b-89a1-606d37fcc45e"
      },
      "outputs": [
        {
          "output_type": "execute_result",
          "data": {
            "text/plain": [
              "  In this comprehensive dataset, we have compiled an extensive collection of Twitter reviews from MasterCard customers spanning from 2018 to 2022.  \\\n",
              "0  The dataset not only captures the tweets thems...                                                                                                 \n",
              "1  By analyzing this data, researchers can gain a...                                                                                                 \n",
              "2                                                NaN                                                                                                 \n",
              "3                                                  0                                                                                                 \n",
              "4                                                  1                                                                                                 \n",
              "\n",
              "                  Unnamed: 1 Unnamed: 2  \\\n",
              "0                        NaN        NaN   \n",
              "1                        NaN        NaN   \n",
              "2                   datetime   username   \n",
              "3  2018-01-01 16:30:03+00:00     tunein   \n",
              "4  2018-01-02 18:10:09+00:00  MediaPost   \n",
              "\n",
              "                                          Unnamed: 3  \\\n",
              "0                                                NaN   \n",
              "1                                                NaN   \n",
              "2                                            content   \n",
              "3  What happens when we take risks, take control ...   \n",
              "4  Electronics Such As Amazon Echo Win The Holida...   \n",
              "\n",
              "                                          Unnamed: 4 Unnamed: 5  \n",
              "0                                                NaN        NaN  \n",
              "1                                                NaN        NaN  \n",
              "2                               preprocessed_content  sentiment  \n",
              "3  happen take risk take control redefin relation...          1  \n",
              "4  electron amazon echo win holiday user spending...          0  "
            ],
            "text/html": [
              "\n",
              "  <div id=\"df-854de854-e42b-4ad1-8876-dc299e30e021\">\n",
              "    <div class=\"colab-df-container\">\n",
              "      <div>\n",
              "<style scoped>\n",
              "    .dataframe tbody tr th:only-of-type {\n",
              "        vertical-align: middle;\n",
              "    }\n",
              "\n",
              "    .dataframe tbody tr th {\n",
              "        vertical-align: top;\n",
              "    }\n",
              "\n",
              "    .dataframe thead th {\n",
              "        text-align: right;\n",
              "    }\n",
              "</style>\n",
              "<table border=\"1\" class=\"dataframe\">\n",
              "  <thead>\n",
              "    <tr style=\"text-align: right;\">\n",
              "      <th></th>\n",
              "      <th>In this comprehensive dataset, we have compiled an extensive collection of Twitter reviews from MasterCard customers spanning from 2018 to 2022.</th>\n",
              "      <th>Unnamed: 1</th>\n",
              "      <th>Unnamed: 2</th>\n",
              "      <th>Unnamed: 3</th>\n",
              "      <th>Unnamed: 4</th>\n",
              "      <th>Unnamed: 5</th>\n",
              "    </tr>\n",
              "  </thead>\n",
              "  <tbody>\n",
              "    <tr>\n",
              "      <th>0</th>\n",
              "      <td>The dataset not only captures the tweets thems...</td>\n",
              "      <td>NaN</td>\n",
              "      <td>NaN</td>\n",
              "      <td>NaN</td>\n",
              "      <td>NaN</td>\n",
              "      <td>NaN</td>\n",
              "    </tr>\n",
              "    <tr>\n",
              "      <th>1</th>\n",
              "      <td>By analyzing this data, researchers can gain a...</td>\n",
              "      <td>NaN</td>\n",
              "      <td>NaN</td>\n",
              "      <td>NaN</td>\n",
              "      <td>NaN</td>\n",
              "      <td>NaN</td>\n",
              "    </tr>\n",
              "    <tr>\n",
              "      <th>2</th>\n",
              "      <td>NaN</td>\n",
              "      <td>datetime</td>\n",
              "      <td>username</td>\n",
              "      <td>content</td>\n",
              "      <td>preprocessed_content</td>\n",
              "      <td>sentiment</td>\n",
              "    </tr>\n",
              "    <tr>\n",
              "      <th>3</th>\n",
              "      <td>0</td>\n",
              "      <td>2018-01-01 16:30:03+00:00</td>\n",
              "      <td>tunein</td>\n",
              "      <td>What happens when we take risks, take control ...</td>\n",
              "      <td>happen take risk take control redefin relation...</td>\n",
              "      <td>1</td>\n",
              "    </tr>\n",
              "    <tr>\n",
              "      <th>4</th>\n",
              "      <td>1</td>\n",
              "      <td>2018-01-02 18:10:09+00:00</td>\n",
              "      <td>MediaPost</td>\n",
              "      <td>Electronics Such As Amazon Echo Win The Holida...</td>\n",
              "      <td>electron amazon echo win holiday user spending...</td>\n",
              "      <td>0</td>\n",
              "    </tr>\n",
              "  </tbody>\n",
              "</table>\n",
              "</div>\n",
              "      <button class=\"colab-df-convert\" onclick=\"convertToInteractive('df-854de854-e42b-4ad1-8876-dc299e30e021')\"\n",
              "              title=\"Convert this dataframe to an interactive table.\"\n",
              "              style=\"display:none;\">\n",
              "        \n",
              "  <svg xmlns=\"http://www.w3.org/2000/svg\" height=\"24px\"viewBox=\"0 0 24 24\"\n",
              "       width=\"24px\">\n",
              "    <path d=\"M0 0h24v24H0V0z\" fill=\"none\"/>\n",
              "    <path d=\"M18.56 5.44l.94 2.06.94-2.06 2.06-.94-2.06-.94-.94-2.06-.94 2.06-2.06.94zm-11 1L8.5 8.5l.94-2.06 2.06-.94-2.06-.94L8.5 2.5l-.94 2.06-2.06.94zm10 10l.94 2.06.94-2.06 2.06-.94-2.06-.94-.94-2.06-.94 2.06-2.06.94z\"/><path d=\"M17.41 7.96l-1.37-1.37c-.4-.4-.92-.59-1.43-.59-.52 0-1.04.2-1.43.59L10.3 9.45l-7.72 7.72c-.78.78-.78 2.05 0 2.83L4 21.41c.39.39.9.59 1.41.59.51 0 1.02-.2 1.41-.59l7.78-7.78 2.81-2.81c.8-.78.8-2.07 0-2.86zM5.41 20L4 18.59l7.72-7.72 1.47 1.35L5.41 20z\"/>\n",
              "  </svg>\n",
              "      </button>\n",
              "      \n",
              "  <style>\n",
              "    .colab-df-container {\n",
              "      display:flex;\n",
              "      flex-wrap:wrap;\n",
              "      gap: 12px;\n",
              "    }\n",
              "\n",
              "    .colab-df-convert {\n",
              "      background-color: #E8F0FE;\n",
              "      border: none;\n",
              "      border-radius: 50%;\n",
              "      cursor: pointer;\n",
              "      display: none;\n",
              "      fill: #1967D2;\n",
              "      height: 32px;\n",
              "      padding: 0 0 0 0;\n",
              "      width: 32px;\n",
              "    }\n",
              "\n",
              "    .colab-df-convert:hover {\n",
              "      background-color: #E2EBFA;\n",
              "      box-shadow: 0px 1px 2px rgba(60, 64, 67, 0.3), 0px 1px 3px 1px rgba(60, 64, 67, 0.15);\n",
              "      fill: #174EA6;\n",
              "    }\n",
              "\n",
              "    [theme=dark] .colab-df-convert {\n",
              "      background-color: #3B4455;\n",
              "      fill: #D2E3FC;\n",
              "    }\n",
              "\n",
              "    [theme=dark] .colab-df-convert:hover {\n",
              "      background-color: #434B5C;\n",
              "      box-shadow: 0px 1px 3px 1px rgba(0, 0, 0, 0.15);\n",
              "      filter: drop-shadow(0px 1px 2px rgba(0, 0, 0, 0.3));\n",
              "      fill: #FFFFFF;\n",
              "    }\n",
              "  </style>\n",
              "\n",
              "      <script>\n",
              "        const buttonEl =\n",
              "          document.querySelector('#df-854de854-e42b-4ad1-8876-dc299e30e021 button.colab-df-convert');\n",
              "        buttonEl.style.display =\n",
              "          google.colab.kernel.accessAllowed ? 'block' : 'none';\n",
              "\n",
              "        async function convertToInteractive(key) {\n",
              "          const element = document.querySelector('#df-854de854-e42b-4ad1-8876-dc299e30e021');\n",
              "          const dataTable =\n",
              "            await google.colab.kernel.invokeFunction('convertToInteractive',\n",
              "                                                     [key], {});\n",
              "          if (!dataTable) return;\n",
              "\n",
              "          const docLinkHtml = 'Like what you see? Visit the ' +\n",
              "            '<a target=\"_blank\" href=https://colab.research.google.com/notebooks/data_table.ipynb>data table notebook</a>'\n",
              "            + ' to learn more about interactive tables.';\n",
              "          element.innerHTML = '';\n",
              "          dataTable['output_type'] = 'display_data';\n",
              "          await google.colab.output.renderOutput(dataTable, element);\n",
              "          const docLink = document.createElement('div');\n",
              "          docLink.innerHTML = docLinkHtml;\n",
              "          element.appendChild(docLink);\n",
              "        }\n",
              "      </script>\n",
              "    </div>\n",
              "  </div>\n",
              "  "
            ]
          },
          "metadata": {},
          "execution_count": 2
        }
      ],
      "source": [
        "master = pd.read_csv(\"MasterCardReview.csv\")\n",
        "master.head()"
      ]
    },
    {
      "cell_type": "markdown",
      "id": "db05a93a",
      "metadata": {
        "id": "db05a93a"
      },
      "source": [
        "2. 화면에 출력된 데이터가 조금 이상해보입니다. MasterCardReview 데이터셋에는 첫번째 열에 이미 인덱스열이 있지만 판다스는 데이터를 로드하며 자동으로 인덱스열을 추가합니다. 또, MasterCardReview 데이터의 처음 세개 행에는 무의미한 데이터 소개가 포함되어 있습니다. 따라서 인덱스열로 첫번째 열을 지정하여 불필요한 인덱스열이 추가되지 않게 하고, 처음 세개의 행은 건너뛰고 데이터를 불러와주세요. 불러온 데이터는 df 변수에 저장해주세요. (1점)\n",
        "- (read_csv() 함수의 index_col 파라미터와 skiprows 파라미터를 사용하시면 됩니다)"
      ]
    },
    {
      "cell_type": "code",
      "execution_count": null,
      "id": "b76e8a58",
      "metadata": {
        "colab": {
          "base_uri": "https://localhost:8080/",
          "height": 250
        },
        "id": "b76e8a58",
        "outputId": "ee83fd1c-bb2b-4478-90f4-6af9a10a90bb"
      },
      "outputs": [
        {
          "output_type": "execute_result",
          "data": {
            "text/plain": [
              "                    datetime      username  \\\n",
              "0  2018-01-01 16:30:03+00:00        tunein   \n",
              "1  2018-01-02 18:10:09+00:00     MediaPost   \n",
              "2  2018-01-02 23:19:11+00:00     mgiffhorn   \n",
              "3  2018-01-03 09:18:34+00:00    stoullieux   \n",
              "4  2018-01-03 12:33:07+00:00  ashoori_2010   \n",
              "\n",
              "                                             content  \\\n",
              "0  What happens when we take risks, take control ...   \n",
              "1  Electronics Such As Amazon Echo Win The Holida...   \n",
              "2  Electronics Such As Amazon Echo Win The Holida...   \n",
              "3  Mastercard SpendingPulse: Retail Sales Grew 4....   \n",
              "4  @MastercardNews Hello, your new app ( MASTER P...   \n",
              "\n",
              "                                preprocessed_content  sentiment  \n",
              "0  happen take risk take control redefin relation...          1  \n",
              "1  electron amazon echo win holiday user spending...          0  \n",
              "2  electron amazon echo win holiday user spending...          0  \n",
              "3  mastercard spendingpuls retail sale grew perce...          0  \n",
              "4  user hello new app master pass avail play stor...          0  "
            ],
            "text/html": [
              "\n",
              "  <div id=\"df-b9751ccf-7c10-433d-8aa8-2df7b379646d\">\n",
              "    <div class=\"colab-df-container\">\n",
              "      <div>\n",
              "<style scoped>\n",
              "    .dataframe tbody tr th:only-of-type {\n",
              "        vertical-align: middle;\n",
              "    }\n",
              "\n",
              "    .dataframe tbody tr th {\n",
              "        vertical-align: top;\n",
              "    }\n",
              "\n",
              "    .dataframe thead th {\n",
              "        text-align: right;\n",
              "    }\n",
              "</style>\n",
              "<table border=\"1\" class=\"dataframe\">\n",
              "  <thead>\n",
              "    <tr style=\"text-align: right;\">\n",
              "      <th></th>\n",
              "      <th>datetime</th>\n",
              "      <th>username</th>\n",
              "      <th>content</th>\n",
              "      <th>preprocessed_content</th>\n",
              "      <th>sentiment</th>\n",
              "    </tr>\n",
              "  </thead>\n",
              "  <tbody>\n",
              "    <tr>\n",
              "      <th>0</th>\n",
              "      <td>2018-01-01 16:30:03+00:00</td>\n",
              "      <td>tunein</td>\n",
              "      <td>What happens when we take risks, take control ...</td>\n",
              "      <td>happen take risk take control redefin relation...</td>\n",
              "      <td>1</td>\n",
              "    </tr>\n",
              "    <tr>\n",
              "      <th>1</th>\n",
              "      <td>2018-01-02 18:10:09+00:00</td>\n",
              "      <td>MediaPost</td>\n",
              "      <td>Electronics Such As Amazon Echo Win The Holida...</td>\n",
              "      <td>electron amazon echo win holiday user spending...</td>\n",
              "      <td>0</td>\n",
              "    </tr>\n",
              "    <tr>\n",
              "      <th>2</th>\n",
              "      <td>2018-01-02 23:19:11+00:00</td>\n",
              "      <td>mgiffhorn</td>\n",
              "      <td>Electronics Such As Amazon Echo Win The Holida...</td>\n",
              "      <td>electron amazon echo win holiday user spending...</td>\n",
              "      <td>0</td>\n",
              "    </tr>\n",
              "    <tr>\n",
              "      <th>3</th>\n",
              "      <td>2018-01-03 09:18:34+00:00</td>\n",
              "      <td>stoullieux</td>\n",
              "      <td>Mastercard SpendingPulse: Retail Sales Grew 4....</td>\n",
              "      <td>mastercard spendingpuls retail sale grew perce...</td>\n",
              "      <td>0</td>\n",
              "    </tr>\n",
              "    <tr>\n",
              "      <th>4</th>\n",
              "      <td>2018-01-03 12:33:07+00:00</td>\n",
              "      <td>ashoori_2010</td>\n",
              "      <td>@MastercardNews Hello, your new app ( MASTER P...</td>\n",
              "      <td>user hello new app master pass avail play stor...</td>\n",
              "      <td>0</td>\n",
              "    </tr>\n",
              "  </tbody>\n",
              "</table>\n",
              "</div>\n",
              "      <button class=\"colab-df-convert\" onclick=\"convertToInteractive('df-b9751ccf-7c10-433d-8aa8-2df7b379646d')\"\n",
              "              title=\"Convert this dataframe to an interactive table.\"\n",
              "              style=\"display:none;\">\n",
              "        \n",
              "  <svg xmlns=\"http://www.w3.org/2000/svg\" height=\"24px\"viewBox=\"0 0 24 24\"\n",
              "       width=\"24px\">\n",
              "    <path d=\"M0 0h24v24H0V0z\" fill=\"none\"/>\n",
              "    <path d=\"M18.56 5.44l.94 2.06.94-2.06 2.06-.94-2.06-.94-.94-2.06-.94 2.06-2.06.94zm-11 1L8.5 8.5l.94-2.06 2.06-.94-2.06-.94L8.5 2.5l-.94 2.06-2.06.94zm10 10l.94 2.06.94-2.06 2.06-.94-2.06-.94-.94-2.06-.94 2.06-2.06.94z\"/><path d=\"M17.41 7.96l-1.37-1.37c-.4-.4-.92-.59-1.43-.59-.52 0-1.04.2-1.43.59L10.3 9.45l-7.72 7.72c-.78.78-.78 2.05 0 2.83L4 21.41c.39.39.9.59 1.41.59.51 0 1.02-.2 1.41-.59l7.78-7.78 2.81-2.81c.8-.78.8-2.07 0-2.86zM5.41 20L4 18.59l7.72-7.72 1.47 1.35L5.41 20z\"/>\n",
              "  </svg>\n",
              "      </button>\n",
              "      \n",
              "  <style>\n",
              "    .colab-df-container {\n",
              "      display:flex;\n",
              "      flex-wrap:wrap;\n",
              "      gap: 12px;\n",
              "    }\n",
              "\n",
              "    .colab-df-convert {\n",
              "      background-color: #E8F0FE;\n",
              "      border: none;\n",
              "      border-radius: 50%;\n",
              "      cursor: pointer;\n",
              "      display: none;\n",
              "      fill: #1967D2;\n",
              "      height: 32px;\n",
              "      padding: 0 0 0 0;\n",
              "      width: 32px;\n",
              "    }\n",
              "\n",
              "    .colab-df-convert:hover {\n",
              "      background-color: #E2EBFA;\n",
              "      box-shadow: 0px 1px 2px rgba(60, 64, 67, 0.3), 0px 1px 3px 1px rgba(60, 64, 67, 0.15);\n",
              "      fill: #174EA6;\n",
              "    }\n",
              "\n",
              "    [theme=dark] .colab-df-convert {\n",
              "      background-color: #3B4455;\n",
              "      fill: #D2E3FC;\n",
              "    }\n",
              "\n",
              "    [theme=dark] .colab-df-convert:hover {\n",
              "      background-color: #434B5C;\n",
              "      box-shadow: 0px 1px 3px 1px rgba(0, 0, 0, 0.15);\n",
              "      filter: drop-shadow(0px 1px 2px rgba(0, 0, 0, 0.3));\n",
              "      fill: #FFFFFF;\n",
              "    }\n",
              "  </style>\n",
              "\n",
              "      <script>\n",
              "        const buttonEl =\n",
              "          document.querySelector('#df-b9751ccf-7c10-433d-8aa8-2df7b379646d button.colab-df-convert');\n",
              "        buttonEl.style.display =\n",
              "          google.colab.kernel.accessAllowed ? 'block' : 'none';\n",
              "\n",
              "        async function convertToInteractive(key) {\n",
              "          const element = document.querySelector('#df-b9751ccf-7c10-433d-8aa8-2df7b379646d');\n",
              "          const dataTable =\n",
              "            await google.colab.kernel.invokeFunction('convertToInteractive',\n",
              "                                                     [key], {});\n",
              "          if (!dataTable) return;\n",
              "\n",
              "          const docLinkHtml = 'Like what you see? Visit the ' +\n",
              "            '<a target=\"_blank\" href=https://colab.research.google.com/notebooks/data_table.ipynb>data table notebook</a>'\n",
              "            + ' to learn more about interactive tables.';\n",
              "          element.innerHTML = '';\n",
              "          dataTable['output_type'] = 'display_data';\n",
              "          await google.colab.output.renderOutput(dataTable, element);\n",
              "          const docLink = document.createElement('div');\n",
              "          docLink.innerHTML = docLinkHtml;\n",
              "          element.appendChild(docLink);\n",
              "        }\n",
              "      </script>\n",
              "    </div>\n",
              "  </div>\n",
              "  "
            ]
          },
          "metadata": {},
          "execution_count": 3
        }
      ],
      "source": [
        "master = pd.read_csv(\"MasterCardReview.csv\",index_col=0,skiprows=3)\n",
        "master.head()"
      ]
    },
    {
      "cell_type": "markdown",
      "id": "a97138c2",
      "metadata": {
        "id": "a97138c2"
      },
      "source": [
        "3. preprocessed_content 칼럼과 sentiment 칼럼을 넘파이 array로 변환하여 각각 x_array 변수에, y_array 변수에 저장해주세요. (1점)"
      ]
    },
    {
      "cell_type": "code",
      "execution_count": null,
      "id": "13f086a8",
      "metadata": {
        "id": "13f086a8"
      },
      "outputs": [],
      "source": [
        "x_array = master['preprocessed_content'].to_numpy()\n",
        "y_array = master['sentiment'].to_numpy()"
      ]
    },
    {
      "cell_type": "code",
      "source": [
        "x_array"
      ],
      "metadata": {
        "colab": {
          "base_uri": "https://localhost:8080/"
        },
        "id": "Rihm2munSh2p",
        "outputId": "d128f9b8-96ab-4aa7-bde4-ea1b186c4967"
      },
      "id": "Rihm2munSh2p",
      "execution_count": null,
      "outputs": [
        {
          "output_type": "execute_result",
          "data": {
            "text/plain": [
              "array(['happen take risk take control redefin relationship money find fortun favor bold new podcast user storylab amp user http',\n",
              "       'electron amazon echo win holiday user spendingpuls retail http user http',\n",
              "       'electron amazon echo win holiday user spendingpuls retail http user',\n",
              "       ..., 'mastercard crypto tool combat fraud http user user',\n",
              "       'invit becom hi http web bank nft mastercard debitcard crypto stake trade earn api nftart superrar user user user user user user user user http',\n",
              "       'call new financi paradigm peopl particip current system part new one either user user co founder featur user piec highlight womenintech check http'],\n",
              "      dtype=object)"
            ]
          },
          "metadata": {},
          "execution_count": 5
        }
      ]
    },
    {
      "cell_type": "markdown",
      "id": "3e39741d",
      "metadata": {
        "id": "3e39741d"
      },
      "source": [
        "설명변수에 해당하는 전처리된 트윗을 모델에 돌리기 위해 사이킷런의 TfidfVectorizer를 활용하여 문자를 숫자로 변환하겠습니다. 아래의 코드를 실행해주세요."
      ]
    },
    {
      "cell_type": "code",
      "execution_count": null,
      "id": "24018009",
      "metadata": {
        "colab": {
          "base_uri": "https://localhost:8080/",
          "height": 423
        },
        "id": "24018009",
        "outputId": "24d87792-bb0c-4a87-e38e-0a49c8cf1194"
      },
      "outputs": [
        {
          "output_type": "execute_result",
          "data": {
            "text/plain": [
              "       0      1      2      3      4      5      6      7      8      9      \\\n",
              "0        0.0    0.0    0.0    0.0    0.0    0.0    0.0    0.0    0.0    0.0   \n",
              "1        0.0    0.0    0.0    0.0    0.0    0.0    0.0    0.0    0.0    0.0   \n",
              "2        0.0    0.0    0.0    0.0    0.0    0.0    0.0    0.0    0.0    0.0   \n",
              "3        0.0    0.0    0.0    0.0    0.0    0.0    0.0    0.0    0.0    0.0   \n",
              "4        0.0    0.0    0.0    0.0    0.0    0.0    0.0    0.0    0.0    0.0   \n",
              "...      ...    ...    ...    ...    ...    ...    ...    ...    ...    ...   \n",
              "12118    0.0    0.0    0.0    0.0    0.0    0.0    0.0    0.0    0.0    0.0   \n",
              "12119    0.0    0.0    0.0    0.0    0.0    0.0    0.0    0.0    0.0    0.0   \n",
              "12120    0.0    0.0    0.0    0.0    0.0    0.0    0.0    0.0    0.0    0.0   \n",
              "12121    0.0    0.0    0.0    0.0    0.0    0.0    0.0    0.0    0.0    0.0   \n",
              "12122    0.0    0.0    0.0    0.0    0.0    0.0    0.0    0.0    0.0    0.0   \n",
              "\n",
              "       ...  11335  11336  11337  11338  11339  11340  11341  11342  11343  \\\n",
              "0      ...    0.0    0.0    0.0    0.0    0.0    0.0    0.0    0.0    0.0   \n",
              "1      ...    0.0    0.0    0.0    0.0    0.0    0.0    0.0    0.0    0.0   \n",
              "2      ...    0.0    0.0    0.0    0.0    0.0    0.0    0.0    0.0    0.0   \n",
              "3      ...    0.0    0.0    0.0    0.0    0.0    0.0    0.0    0.0    0.0   \n",
              "4      ...    0.0    0.0    0.0    0.0    0.0    0.0    0.0    0.0    0.0   \n",
              "...    ...    ...    ...    ...    ...    ...    ...    ...    ...    ...   \n",
              "12118  ...    0.0    0.0    0.0    0.0    0.0    0.0    0.0    0.0    0.0   \n",
              "12119  ...    0.0    0.0    0.0    0.0    0.0    0.0    0.0    0.0    0.0   \n",
              "12120  ...    0.0    0.0    0.0    0.0    0.0    0.0    0.0    0.0    0.0   \n",
              "12121  ...    0.0    0.0    0.0    0.0    0.0    0.0    0.0    0.0    0.0   \n",
              "12122  ...    0.0    0.0    0.0    0.0    0.0    0.0    0.0    0.0    0.0   \n",
              "\n",
              "       11344  \n",
              "0        0.0  \n",
              "1        0.0  \n",
              "2        0.0  \n",
              "3        0.0  \n",
              "4        0.0  \n",
              "...      ...  \n",
              "12118    0.0  \n",
              "12119    0.0  \n",
              "12120    0.0  \n",
              "12121    0.0  \n",
              "12122    0.0  \n",
              "\n",
              "[12123 rows x 11345 columns]"
            ],
            "text/html": [
              "\n",
              "  <div id=\"df-d968eed4-2828-448e-a40e-119dbc16d169\">\n",
              "    <div class=\"colab-df-container\">\n",
              "      <div>\n",
              "<style scoped>\n",
              "    .dataframe tbody tr th:only-of-type {\n",
              "        vertical-align: middle;\n",
              "    }\n",
              "\n",
              "    .dataframe tbody tr th {\n",
              "        vertical-align: top;\n",
              "    }\n",
              "\n",
              "    .dataframe thead th {\n",
              "        text-align: right;\n",
              "    }\n",
              "</style>\n",
              "<table border=\"1\" class=\"dataframe\">\n",
              "  <thead>\n",
              "    <tr style=\"text-align: right;\">\n",
              "      <th></th>\n",
              "      <th>0</th>\n",
              "      <th>1</th>\n",
              "      <th>2</th>\n",
              "      <th>3</th>\n",
              "      <th>4</th>\n",
              "      <th>5</th>\n",
              "      <th>6</th>\n",
              "      <th>7</th>\n",
              "      <th>8</th>\n",
              "      <th>9</th>\n",
              "      <th>...</th>\n",
              "      <th>11335</th>\n",
              "      <th>11336</th>\n",
              "      <th>11337</th>\n",
              "      <th>11338</th>\n",
              "      <th>11339</th>\n",
              "      <th>11340</th>\n",
              "      <th>11341</th>\n",
              "      <th>11342</th>\n",
              "      <th>11343</th>\n",
              "      <th>11344</th>\n",
              "    </tr>\n",
              "  </thead>\n",
              "  <tbody>\n",
              "    <tr>\n",
              "      <th>0</th>\n",
              "      <td>0.0</td>\n",
              "      <td>0.0</td>\n",
              "      <td>0.0</td>\n",
              "      <td>0.0</td>\n",
              "      <td>0.0</td>\n",
              "      <td>0.0</td>\n",
              "      <td>0.0</td>\n",
              "      <td>0.0</td>\n",
              "      <td>0.0</td>\n",
              "      <td>0.0</td>\n",
              "      <td>...</td>\n",
              "      <td>0.0</td>\n",
              "      <td>0.0</td>\n",
              "      <td>0.0</td>\n",
              "      <td>0.0</td>\n",
              "      <td>0.0</td>\n",
              "      <td>0.0</td>\n",
              "      <td>0.0</td>\n",
              "      <td>0.0</td>\n",
              "      <td>0.0</td>\n",
              "      <td>0.0</td>\n",
              "    </tr>\n",
              "    <tr>\n",
              "      <th>1</th>\n",
              "      <td>0.0</td>\n",
              "      <td>0.0</td>\n",
              "      <td>0.0</td>\n",
              "      <td>0.0</td>\n",
              "      <td>0.0</td>\n",
              "      <td>0.0</td>\n",
              "      <td>0.0</td>\n",
              "      <td>0.0</td>\n",
              "      <td>0.0</td>\n",
              "      <td>0.0</td>\n",
              "      <td>...</td>\n",
              "      <td>0.0</td>\n",
              "      <td>0.0</td>\n",
              "      <td>0.0</td>\n",
              "      <td>0.0</td>\n",
              "      <td>0.0</td>\n",
              "      <td>0.0</td>\n",
              "      <td>0.0</td>\n",
              "      <td>0.0</td>\n",
              "      <td>0.0</td>\n",
              "      <td>0.0</td>\n",
              "    </tr>\n",
              "    <tr>\n",
              "      <th>2</th>\n",
              "      <td>0.0</td>\n",
              "      <td>0.0</td>\n",
              "      <td>0.0</td>\n",
              "      <td>0.0</td>\n",
              "      <td>0.0</td>\n",
              "      <td>0.0</td>\n",
              "      <td>0.0</td>\n",
              "      <td>0.0</td>\n",
              "      <td>0.0</td>\n",
              "      <td>0.0</td>\n",
              "      <td>...</td>\n",
              "      <td>0.0</td>\n",
              "      <td>0.0</td>\n",
              "      <td>0.0</td>\n",
              "      <td>0.0</td>\n",
              "      <td>0.0</td>\n",
              "      <td>0.0</td>\n",
              "      <td>0.0</td>\n",
              "      <td>0.0</td>\n",
              "      <td>0.0</td>\n",
              "      <td>0.0</td>\n",
              "    </tr>\n",
              "    <tr>\n",
              "      <th>3</th>\n",
              "      <td>0.0</td>\n",
              "      <td>0.0</td>\n",
              "      <td>0.0</td>\n",
              "      <td>0.0</td>\n",
              "      <td>0.0</td>\n",
              "      <td>0.0</td>\n",
              "      <td>0.0</td>\n",
              "      <td>0.0</td>\n",
              "      <td>0.0</td>\n",
              "      <td>0.0</td>\n",
              "      <td>...</td>\n",
              "      <td>0.0</td>\n",
              "      <td>0.0</td>\n",
              "      <td>0.0</td>\n",
              "      <td>0.0</td>\n",
              "      <td>0.0</td>\n",
              "      <td>0.0</td>\n",
              "      <td>0.0</td>\n",
              "      <td>0.0</td>\n",
              "      <td>0.0</td>\n",
              "      <td>0.0</td>\n",
              "    </tr>\n",
              "    <tr>\n",
              "      <th>4</th>\n",
              "      <td>0.0</td>\n",
              "      <td>0.0</td>\n",
              "      <td>0.0</td>\n",
              "      <td>0.0</td>\n",
              "      <td>0.0</td>\n",
              "      <td>0.0</td>\n",
              "      <td>0.0</td>\n",
              "      <td>0.0</td>\n",
              "      <td>0.0</td>\n",
              "      <td>0.0</td>\n",
              "      <td>...</td>\n",
              "      <td>0.0</td>\n",
              "      <td>0.0</td>\n",
              "      <td>0.0</td>\n",
              "      <td>0.0</td>\n",
              "      <td>0.0</td>\n",
              "      <td>0.0</td>\n",
              "      <td>0.0</td>\n",
              "      <td>0.0</td>\n",
              "      <td>0.0</td>\n",
              "      <td>0.0</td>\n",
              "    </tr>\n",
              "    <tr>\n",
              "      <th>...</th>\n",
              "      <td>...</td>\n",
              "      <td>...</td>\n",
              "      <td>...</td>\n",
              "      <td>...</td>\n",
              "      <td>...</td>\n",
              "      <td>...</td>\n",
              "      <td>...</td>\n",
              "      <td>...</td>\n",
              "      <td>...</td>\n",
              "      <td>...</td>\n",
              "      <td>...</td>\n",
              "      <td>...</td>\n",
              "      <td>...</td>\n",
              "      <td>...</td>\n",
              "      <td>...</td>\n",
              "      <td>...</td>\n",
              "      <td>...</td>\n",
              "      <td>...</td>\n",
              "      <td>...</td>\n",
              "      <td>...</td>\n",
              "      <td>...</td>\n",
              "    </tr>\n",
              "    <tr>\n",
              "      <th>12118</th>\n",
              "      <td>0.0</td>\n",
              "      <td>0.0</td>\n",
              "      <td>0.0</td>\n",
              "      <td>0.0</td>\n",
              "      <td>0.0</td>\n",
              "      <td>0.0</td>\n",
              "      <td>0.0</td>\n",
              "      <td>0.0</td>\n",
              "      <td>0.0</td>\n",
              "      <td>0.0</td>\n",
              "      <td>...</td>\n",
              "      <td>0.0</td>\n",
              "      <td>0.0</td>\n",
              "      <td>0.0</td>\n",
              "      <td>0.0</td>\n",
              "      <td>0.0</td>\n",
              "      <td>0.0</td>\n",
              "      <td>0.0</td>\n",
              "      <td>0.0</td>\n",
              "      <td>0.0</td>\n",
              "      <td>0.0</td>\n",
              "    </tr>\n",
              "    <tr>\n",
              "      <th>12119</th>\n",
              "      <td>0.0</td>\n",
              "      <td>0.0</td>\n",
              "      <td>0.0</td>\n",
              "      <td>0.0</td>\n",
              "      <td>0.0</td>\n",
              "      <td>0.0</td>\n",
              "      <td>0.0</td>\n",
              "      <td>0.0</td>\n",
              "      <td>0.0</td>\n",
              "      <td>0.0</td>\n",
              "      <td>...</td>\n",
              "      <td>0.0</td>\n",
              "      <td>0.0</td>\n",
              "      <td>0.0</td>\n",
              "      <td>0.0</td>\n",
              "      <td>0.0</td>\n",
              "      <td>0.0</td>\n",
              "      <td>0.0</td>\n",
              "      <td>0.0</td>\n",
              "      <td>0.0</td>\n",
              "      <td>0.0</td>\n",
              "    </tr>\n",
              "    <tr>\n",
              "      <th>12120</th>\n",
              "      <td>0.0</td>\n",
              "      <td>0.0</td>\n",
              "      <td>0.0</td>\n",
              "      <td>0.0</td>\n",
              "      <td>0.0</td>\n",
              "      <td>0.0</td>\n",
              "      <td>0.0</td>\n",
              "      <td>0.0</td>\n",
              "      <td>0.0</td>\n",
              "      <td>0.0</td>\n",
              "      <td>...</td>\n",
              "      <td>0.0</td>\n",
              "      <td>0.0</td>\n",
              "      <td>0.0</td>\n",
              "      <td>0.0</td>\n",
              "      <td>0.0</td>\n",
              "      <td>0.0</td>\n",
              "      <td>0.0</td>\n",
              "      <td>0.0</td>\n",
              "      <td>0.0</td>\n",
              "      <td>0.0</td>\n",
              "    </tr>\n",
              "    <tr>\n",
              "      <th>12121</th>\n",
              "      <td>0.0</td>\n",
              "      <td>0.0</td>\n",
              "      <td>0.0</td>\n",
              "      <td>0.0</td>\n",
              "      <td>0.0</td>\n",
              "      <td>0.0</td>\n",
              "      <td>0.0</td>\n",
              "      <td>0.0</td>\n",
              "      <td>0.0</td>\n",
              "      <td>0.0</td>\n",
              "      <td>...</td>\n",
              "      <td>0.0</td>\n",
              "      <td>0.0</td>\n",
              "      <td>0.0</td>\n",
              "      <td>0.0</td>\n",
              "      <td>0.0</td>\n",
              "      <td>0.0</td>\n",
              "      <td>0.0</td>\n",
              "      <td>0.0</td>\n",
              "      <td>0.0</td>\n",
              "      <td>0.0</td>\n",
              "    </tr>\n",
              "    <tr>\n",
              "      <th>12122</th>\n",
              "      <td>0.0</td>\n",
              "      <td>0.0</td>\n",
              "      <td>0.0</td>\n",
              "      <td>0.0</td>\n",
              "      <td>0.0</td>\n",
              "      <td>0.0</td>\n",
              "      <td>0.0</td>\n",
              "      <td>0.0</td>\n",
              "      <td>0.0</td>\n",
              "      <td>0.0</td>\n",
              "      <td>...</td>\n",
              "      <td>0.0</td>\n",
              "      <td>0.0</td>\n",
              "      <td>0.0</td>\n",
              "      <td>0.0</td>\n",
              "      <td>0.0</td>\n",
              "      <td>0.0</td>\n",
              "      <td>0.0</td>\n",
              "      <td>0.0</td>\n",
              "      <td>0.0</td>\n",
              "      <td>0.0</td>\n",
              "    </tr>\n",
              "  </tbody>\n",
              "</table>\n",
              "<p>12123 rows × 11345 columns</p>\n",
              "</div>\n",
              "      <button class=\"colab-df-convert\" onclick=\"convertToInteractive('df-d968eed4-2828-448e-a40e-119dbc16d169')\"\n",
              "              title=\"Convert this dataframe to an interactive table.\"\n",
              "              style=\"display:none;\">\n",
              "        \n",
              "  <svg xmlns=\"http://www.w3.org/2000/svg\" height=\"24px\"viewBox=\"0 0 24 24\"\n",
              "       width=\"24px\">\n",
              "    <path d=\"M0 0h24v24H0V0z\" fill=\"none\"/>\n",
              "    <path d=\"M18.56 5.44l.94 2.06.94-2.06 2.06-.94-2.06-.94-.94-2.06-.94 2.06-2.06.94zm-11 1L8.5 8.5l.94-2.06 2.06-.94-2.06-.94L8.5 2.5l-.94 2.06-2.06.94zm10 10l.94 2.06.94-2.06 2.06-.94-2.06-.94-.94-2.06-.94 2.06-2.06.94z\"/><path d=\"M17.41 7.96l-1.37-1.37c-.4-.4-.92-.59-1.43-.59-.52 0-1.04.2-1.43.59L10.3 9.45l-7.72 7.72c-.78.78-.78 2.05 0 2.83L4 21.41c.39.39.9.59 1.41.59.51 0 1.02-.2 1.41-.59l7.78-7.78 2.81-2.81c.8-.78.8-2.07 0-2.86zM5.41 20L4 18.59l7.72-7.72 1.47 1.35L5.41 20z\"/>\n",
              "  </svg>\n",
              "      </button>\n",
              "      \n",
              "  <style>\n",
              "    .colab-df-container {\n",
              "      display:flex;\n",
              "      flex-wrap:wrap;\n",
              "      gap: 12px;\n",
              "    }\n",
              "\n",
              "    .colab-df-convert {\n",
              "      background-color: #E8F0FE;\n",
              "      border: none;\n",
              "      border-radius: 50%;\n",
              "      cursor: pointer;\n",
              "      display: none;\n",
              "      fill: #1967D2;\n",
              "      height: 32px;\n",
              "      padding: 0 0 0 0;\n",
              "      width: 32px;\n",
              "    }\n",
              "\n",
              "    .colab-df-convert:hover {\n",
              "      background-color: #E2EBFA;\n",
              "      box-shadow: 0px 1px 2px rgba(60, 64, 67, 0.3), 0px 1px 3px 1px rgba(60, 64, 67, 0.15);\n",
              "      fill: #174EA6;\n",
              "    }\n",
              "\n",
              "    [theme=dark] .colab-df-convert {\n",
              "      background-color: #3B4455;\n",
              "      fill: #D2E3FC;\n",
              "    }\n",
              "\n",
              "    [theme=dark] .colab-df-convert:hover {\n",
              "      background-color: #434B5C;\n",
              "      box-shadow: 0px 1px 3px 1px rgba(0, 0, 0, 0.15);\n",
              "      filter: drop-shadow(0px 1px 2px rgba(0, 0, 0, 0.3));\n",
              "      fill: #FFFFFF;\n",
              "    }\n",
              "  </style>\n",
              "\n",
              "      <script>\n",
              "        const buttonEl =\n",
              "          document.querySelector('#df-d968eed4-2828-448e-a40e-119dbc16d169 button.colab-df-convert');\n",
              "        buttonEl.style.display =\n",
              "          google.colab.kernel.accessAllowed ? 'block' : 'none';\n",
              "\n",
              "        async function convertToInteractive(key) {\n",
              "          const element = document.querySelector('#df-d968eed4-2828-448e-a40e-119dbc16d169');\n",
              "          const dataTable =\n",
              "            await google.colab.kernel.invokeFunction('convertToInteractive',\n",
              "                                                     [key], {});\n",
              "          if (!dataTable) return;\n",
              "\n",
              "          const docLinkHtml = 'Like what you see? Visit the ' +\n",
              "            '<a target=\"_blank\" href=https://colab.research.google.com/notebooks/data_table.ipynb>data table notebook</a>'\n",
              "            + ' to learn more about interactive tables.';\n",
              "          element.innerHTML = '';\n",
              "          dataTable['output_type'] = 'display_data';\n",
              "          await google.colab.output.renderOutput(dataTable, element);\n",
              "          const docLink = document.createElement('div');\n",
              "          docLink.innerHTML = docLinkHtml;\n",
              "          element.appendChild(docLink);\n",
              "        }\n",
              "      </script>\n",
              "    </div>\n",
              "  </div>\n",
              "  "
            ]
          },
          "metadata": {},
          "execution_count": 6
        }
      ],
      "source": [
        "# 말뭉치에 등장한 각 단어의 TF-IDF 계산\n",
        "tfidf = TfidfVectorizer(use_idf=True)\n",
        "x_tfidf = tfidf.fit_transform(x_array)\n",
        "x_tfidf_array = x_tfidf.toarray()\n",
        "\n",
        "#테이블 형태로 출력해보기\n",
        "pd.DataFrame(x_tfidf_array)"
      ]
    },
    {
      "cell_type": "markdown",
      "id": "a1fdff83",
      "metadata": {
        "id": "a1fdff83"
      },
      "source": [
        "실행결과 나타나는 테이블의 행은 각 레코드(Document), 이 경우에는 트윗을 의미합니다. 열은 전체 말뭉치, 이 경우에는 전체 트윗들에 등장한 고유 단어(Term)를 의미합니다. 그리고 각 셀은 단어의 중요도를 나타냅니다. 다만, 이것은 풀이 과정의 이해를 돕기 위한 추가 내용일 뿐이니 지금은 모델 학습을 위해 문자를 숫자로 바꾸어주었다는 것만 기억해도 무방합니다."
      ]
    },
    {
      "cell_type": "markdown",
      "id": "8d94f335",
      "metadata": {
        "id": "8d94f335"
      },
      "source": [
        "4. x_tfidf_array와 y_array를 사이킷런의 train_test_split을 이용하여 훈련 데이터와 테스트 데이터로 분할해 주세요 (test_size는 0.2로 설정해주세요). (1점)"
      ]
    },
    {
      "cell_type": "code",
      "execution_count": null,
      "id": "18c71a84",
      "metadata": {
        "id": "18c71a84"
      },
      "outputs": [],
      "source": [
        "x_train, x_test, y_train, y_test = train_test_split(x_tfidf_array, y_array, test_size=0.2)\n",
        "\n"
      ]
    },
    {
      "cell_type": "markdown",
      "id": "76ccf819",
      "metadata": {
        "id": "76ccf819"
      },
      "source": [
        "5. torch의 from_numpy() 함수를 사용하여 분할된 훈련 데이터와 테스트 데이터로 텐서를 생성하여 각각 X_train, X_test, y_train, y_test 변수에 저장해주세요. 이때 훈련 데이터와 테스트 데이터의 설명 변수는 float 타입으로, 목적 변수는 long 타입으로 설정해주세요. 그리고 텐서로 변환한 훈련데이터의 설명변수(X_train)와 목적변수(y_train)의 shape을 출력해주세요. (1점)"
      ]
    },
    {
      "cell_type": "code",
      "execution_count": null,
      "id": "4de40615",
      "metadata": {
        "id": "4de40615"
      },
      "outputs": [],
      "source": [
        "X_train = torch.from_numpy(x_train).float()\n",
        "y_train = torch.from_numpy(y_train).long()\n",
        "X_test = torch.from_numpy(x_test).float()\n",
        "y_test = torch.from_numpy(y_test).long()"
      ]
    },
    {
      "cell_type": "code",
      "source": [
        "X_train.shape"
      ],
      "metadata": {
        "colab": {
          "base_uri": "https://localhost:8080/"
        },
        "id": "YKUKoiQPU8hc",
        "outputId": "8d73cf8f-a9e8-44ec-bcbd-7fe36e6f45ff"
      },
      "id": "YKUKoiQPU8hc",
      "execution_count": null,
      "outputs": [
        {
          "output_type": "execute_result",
          "data": {
            "text/plain": [
              "torch.Size([9698, 11345])"
            ]
          },
          "metadata": {},
          "execution_count": 22
        }
      ]
    },
    {
      "cell_type": "markdown",
      "id": "8a150d85",
      "metadata": {
        "id": "8a150d85"
      },
      "source": [
        "6. 이제 신경망을 구성하겠습니다. 적절한 코드를 작성하여 입력층, 출력층이 1개씩 있고, 은닉층이 5개인 신경망을 구성해주세요. 이때, 은닉층의 노드의 수는 모두 256개로 통일하고, 입력층과 출력층의 노드의 수는 지금까지의 과정을 생각해 적절하게 선택해주세요. 또, 각 계층은 모두 선형 계층으로 nn.Linear로 통일해주세요. (아래 코드의 주석을 참고해 주세요) (1점)"
      ]
    },
    {
      "cell_type": "code",
      "execution_count": null,
      "id": "647d99e4",
      "metadata": {
        "id": "647d99e4"
      },
      "outputs": [],
      "source": [
        "class Net(nn.Module):\n",
        "    def __init__(self):\n",
        "        super(Net, self).__init__()\n",
        "\n",
        "        self.layer1 = nn.Linear(11345,256)\n",
        "        self.layer2 = nn.Linear(256,256)\n",
        "        self.layer3 = nn.Linear(256,256)\n",
        "        self.layer4 = nn.Linear(256,256)\n",
        "        self.layer5 = nn.Linear(256,256)\n",
        "        self.layer6 = nn.Linear(256,256)\n",
        "        self.layer7 = nn.Linear(256,3)\n",
        "\n",
        "\n",
        "    def forward(self, x):\n",
        "        x = F.relu(self.layer1(x))\n",
        "        x = F.relu(self.layer2(x))\n",
        "        x = F.relu(self.layer3(x))\n",
        "        x = F.relu(self.layer4(x))\n",
        "        x = F.relu(self.layer5(x))\n",
        "        x = F.relu(self.layer6(x))\n",
        "        x = self.layer7(x)\n",
        "        return F.log_softmax(x)\n",
        "\n",
        "# 인스턴스 생성\n",
        "model = Net()"
      ]
    },
    {
      "cell_type": "markdown",
      "id": "69254217",
      "metadata": {
        "id": "69254217"
      },
      "source": [
        "7. 모델 학습을 위한 손실함수와 옵티마이저를 정의하겠습니다. 손실함수는 CrossEntropyLoss로 정의하여 loss_function 변수에 저장하고, 옵티마이저는 Adam으로 정의하여 optimizer 변수에 저장해주세요(학습률은 0.005로 설정해주세요). (1점)"
      ]
    },
    {
      "cell_type": "code",
      "execution_count": null,
      "id": "25341fcd",
      "metadata": {
        "id": "25341fcd"
      },
      "outputs": [],
      "source": [
        "loss_function = nn.CrossEntropyLoss()\n",
        "optimizer = torch.optim.Adam(model.parameters(),lr=0.005)"
      ]
    },
    {
      "cell_type": "markdown",
      "id": "c575b162",
      "metadata": {
        "id": "c575b162"
      },
      "source": [
        "8. 모델을 학습시키겠습니다. 아래 코드의 세 개의 주석 #경사 초기화, #오차 역전파 계산, #가중치 업데이트 부분에 각각의 기능을 수행하는 적절한 코드를 작성하고 실행해 주세요. (1점)"
      ]
    },
    {
      "cell_type": "code",
      "execution_count": null,
      "id": "ca8be436",
      "metadata": {
        "colab": {
          "base_uri": "https://localhost:8080/"
        },
        "id": "ca8be436",
        "outputId": "737fdde3-4fa0-4756-f205-7538e1cdbd01"
      },
      "outputs": [
        {
          "output_type": "stream",
          "name": "stdout",
          "text": [
            "epoch:   1 loss: 1.09257805\n",
            "epoch:  11 loss: 0.79496109\n",
            "epoch:  21 loss: 0.26287663\n",
            "epoch:  31 loss: 0.06062154\n",
            "epoch:  41 loss: 0.02690736\n",
            "epoch:  51 loss: 0.01692359\n",
            "epoch:  61 loss: 0.01278319\n",
            "epoch:  71 loss: 0.01067127\n",
            "epoch:  81 loss: 0.00934941\n",
            "epoch:  91 loss: 0.00839674\n",
            "epoch: 100 loss: 0.0087892143\n"
          ]
        }
      ],
      "source": [
        "epochs = 100\n",
        "\n",
        "for i in range(epochs):\n",
        "    i += 1\n",
        "    y_pred = model(X_train)\n",
        "    single_loss = loss_function(y_pred, y_train)\n",
        "\n",
        "    if i%10 == 1:\n",
        "        print(f'epoch: {i:3} loss: {single_loss.item():10.8f}')\n",
        "\n",
        "    #경사 초기화\n",
        "    optimizer.zero_grad()\n",
        "\n",
        "    #오차 역전파 계산\n",
        "    single_loss.backward()\n",
        "    #가중치 업데이트\n",
        "    optimizer.step()\n",
        "print(f'epoch: {i:3} loss: {single_loss.item():10.10f}')"
      ]
    },
    {
      "cell_type": "markdown",
      "id": "4c4f2fbb",
      "metadata": {
        "id": "4c4f2fbb"
      },
      "source": [
        "9. 모델을 평가하겠습니다. 아래 코드를 실행해 주세요. (1점)"
      ]
    },
    {
      "cell_type": "code",
      "execution_count": null,
      "id": "68068dd4",
      "metadata": {
        "colab": {
          "base_uri": "https://localhost:8080/"
        },
        "id": "68068dd4",
        "outputId": "2031a9ee-d27d-4d56-cc27-0fdbda4f099d"
      },
      "outputs": [
        {
          "output_type": "stream",
          "name": "stdout",
          "text": [
            "Loss: 5.48732281\n"
          ]
        }
      ],
      "source": [
        "with torch.no_grad():\n",
        "    y_val = model(X_test)\n",
        "    loss = loss_function(y_val, y_test)\n",
        "print(f'Loss: {loss:.8f}')\n",
        "y_val = np.argmax(y_val, axis=1)"
      ]
    },
    {
      "cell_type": "markdown",
      "id": "313a824c",
      "metadata": {
        "id": "313a824c"
      },
      "source": [
        "10. y_test와 y_val에 대하여 classification_report를 출력하고 모델의 성능을 확인해주세요. (1점)"
      ]
    },
    {
      "cell_type": "code",
      "execution_count": null,
      "id": "b2ff7f5c",
      "metadata": {
        "colab": {
          "base_uri": "https://localhost:8080/"
        },
        "id": "b2ff7f5c",
        "outputId": "100dc3fb-74a7-42fa-bccd-5ca06d68d0e6"
      },
      "outputs": [
        {
          "output_type": "stream",
          "name": "stdout",
          "text": [
            "              precision    recall  f1-score   support\n",
            "\n",
            "           0       1.00      0.99      1.00      3960\n",
            "           1       0.99      1.00      1.00      4044\n",
            "           2       1.00      1.00      1.00      1694\n",
            "\n",
            "    accuracy                           1.00      9698\n",
            "   macro avg       1.00      1.00      1.00      9698\n",
            "weighted avg       1.00      1.00      1.00      9698\n",
            "\n",
            "              precision    recall  f1-score   support\n",
            "\n",
            "           0       0.72      0.77      0.74       993\n",
            "           1       0.72      0.69      0.70      1040\n",
            "           2       0.70      0.62      0.66       392\n",
            "\n",
            "    accuracy                           0.71      2425\n",
            "   macro avg       0.71      0.70      0.70      2425\n",
            "weighted avg       0.71      0.71      0.71      2425\n",
            "\n"
          ]
        }
      ],
      "source": [
        "\n",
        "y_pred = model(X_train)\n",
        "y_val = model(X_test)\n",
        "y_pred = torch.argmax(y_pred, dim=1).detach().numpy()\n",
        "y_pred2 = torch.argmax(y_val, dim=1).detach().numpy()\n",
        "print(classification_report(y_train.numpy(), y_pred))\n",
        "print(classification_report(y_test.numpy(), y_pred2))"
      ]
    },
    {
      "cell_type": "markdown",
      "id": "00bc725f",
      "metadata": {
        "id": "00bc725f"
      },
      "source": [
        "## 문제2."
      ]
    },
    {
      "cell_type": "markdown",
      "id": "5159d08e",
      "metadata": {
        "id": "5159d08e"
      },
      "source": [
        "1. 아래의 Table의 Data를 텐서로 직접 생성하시오, (변수명 = A) (1점)"
      ]
    },
    {
      "cell_type": "code",
      "execution_count": null,
      "id": "2bbeb384",
      "metadata": {
        "colab": {
          "base_uri": "https://localhost:8080/",
          "height": 35
        },
        "id": "2bbeb384",
        "outputId": "646aeb33-6df4-41c2-c0dd-371126f220cd"
      },
      "outputs": [
        {
          "output_type": "execute_result",
          "data": {
            "text/plain": [
              "'/content'"
            ],
            "application/vnd.google.colaboratory.intrinsic+json": {
              "type": "string"
            }
          },
          "metadata": {},
          "execution_count": 32
        }
      ],
      "source": [
        "import os\n",
        "\n",
        "path = os.getcwd()\n",
        "path # 본인의 현재 코드 파일 경로 확인"
      ]
    },
    {
      "cell_type": "code",
      "execution_count": null,
      "id": "ad6b1921",
      "metadata": {
        "colab": {
          "base_uri": "https://localhost:8080/",
          "height": 192
        },
        "id": "ad6b1921",
        "outputId": "d36c6212-50c0-441a-974d-beeac9280df7"
      },
      "outputs": [
        {
          "output_type": "execute_result",
          "data": {
            "image/png": "[encoded data removed]",
            "text/plain": [
              "<IPython.core.display.Image object>"
            ]
          },
          "metadata": {},
          "execution_count": 33
        }
      ],
      "source": [
        "from IPython.display import Image\n",
        "\n",
        "Image('Table_1.png') # 이미지가 해당 경로의 폴더 안에 정상적으로 들어있어야 이미지가 로딩됩니다!"
      ]
    },
    {
      "cell_type": "code",
      "execution_count": null,
      "id": "607bfc1d",
      "metadata": {
        "colab": {
          "base_uri": "https://localhost:8080/"
        },
        "id": "607bfc1d",
        "outputId": "4d07a9bd-4679-4057-a052-6597943960eb"
      },
      "outputs": [
        {
          "output_type": "execute_result",
          "data": {
            "text/plain": [
              "tensor([[ 9.,  8.,  1.],\n",
              "        [ 8., 10.,  0.],\n",
              "        [10.,  9.,  1.],\n",
              "        [ 9.,  8.,  0.],\n",
              "        [ 7.,  7.,  0.]])"
            ]
          },
          "metadata": {},
          "execution_count": 52
        }
      ],
      "source": [
        "A = torch.Tensor([[9,8,1],[8,10,0],[10,9,1],[9,8,0],[7,7,0]])\n",
        "A"
      ]
    },
    {
      "cell_type": "markdown",
      "id": "a7e82975",
      "metadata": {
        "id": "a7e82975"
      },
      "source": [
        "2. 복습과제, 조민호, 여성에 해당하는 데이터들을 각각 Numpy식의 표준 인덱싱 혹은 슬라이싱으로 도출하시오 (1점)"
      ]
    },
    {
      "cell_type": "code",
      "execution_count": null,
      "id": "88d066f9",
      "metadata": {
        "scrolled": true,
        "colab": {
          "base_uri": "https://localhost:8080/"
        },
        "id": "88d066f9",
        "outputId": "32539b39-f2f7-4fa8-8bb0-7e891e48cfd3"
      },
      "outputs": [
        {
          "output_type": "stream",
          "name": "stdout",
          "text": [
            "복습과제:  tensor([ 8., 10.,  9.,  8.,  7.])\n",
            "조민호:  tensor([7., 7., 0.])\n",
            "여성:  tensor([[ 9.,  8.,  1.],\n",
            "        [10.,  9.,  1.]])\n"
          ]
        }
      ],
      "source": [
        "print(f\"복습과제: \",A[:,1])\n",
        "print(f\"조민호: \",A[4,:])\n",
        "print(f\"여성: \",A[[0,2],:])"
      ]
    },
    {
      "cell_type": "markdown",
      "id": "af60396b",
      "metadata": {
        "id": "af60396b"
      },
      "source": [
        "3. torch.ones를 활용하여 요소를 1로 가지는 Matrix를 만들어 A와 행렬곱 (Matrix Multiplication)을 계산하시오.(변수명=y1) 이렇게 만들어진 결과에 실습과제 점수 총합과 복습과제 점수 총합이 포함되어야 하며, 실습과제 점수 총합과 복습과제 점수 총합을 인덱싱 혹은 슬라이싱을 활용해 도출하시오. (1점)"
      ]
    },
    {
      "cell_type": "code",
      "execution_count": null,
      "id": "20de778c",
      "metadata": {
        "colab": {
          "base_uri": "https://localhost:8080/"
        },
        "id": "20de778c",
        "outputId": "4dbec757-d043-41d0-8a6a-a8be2ff1fb16"
      },
      "outputs": [
        {
          "output_type": "stream",
          "name": "stdout",
          "text": [
            "행렬곱:  tensor([[43., 42.,  2.],\n",
            "        [43., 42.,  2.],\n",
            "        [43., 42.,  2.],\n",
            "        [43., 42.,  2.],\n",
            "        [43., 42.,  2.]])\n",
            "실습과제 총합:  43\n",
            "복습과제 총합:  42\n"
          ]
        }
      ],
      "source": [
        "y1 = torch.ones(5,5)\n",
        "print(f\"행렬곱: \",y1@A)\n",
        "print(f\"실습과제 총합: \",43)\n",
        "print(f\"복습과제 총합: \",42)"
      ]
    },
    {
      "cell_type": "markdown",
      "id": "37c88e31",
      "metadata": {
        "id": "37c88e31"
      },
      "source": [
        "4. 텐서 A를 Transpose 시키시오. (변수명 = A_T) (1점)"
      ]
    },
    {
      "cell_type": "code",
      "execution_count": null,
      "id": "e36a10b8",
      "metadata": {
        "id": "e36a10b8"
      },
      "outputs": [],
      "source": [
        "A_T=np.transpose(A)"
      ]
    },
    {
      "cell_type": "markdown",
      "id": "93b75f75",
      "metadata": {
        "id": "93b75f75"
      },
      "source": [
        "5. A_T와 A를 행렬곱(변수명=y2)하고 행렬곱의 요소 중 실습과제의 점수의 제곱합과 복습과제 점수의 제곱합을 도출하시오. (1점)"
      ]
    },
    {
      "cell_type": "code",
      "execution_count": null,
      "id": "34ba9d68",
      "metadata": {
        "colab": {
          "base_uri": "https://localhost:8080/"
        },
        "id": "34ba9d68",
        "outputId": "5f54fd47-10c4-463d-f08c-80f706bae000"
      },
      "outputs": [
        {
          "output_type": "execute_result",
          "data": {
            "text/plain": [
              "tensor([[375., 363.,  19.],\n",
              "        [363., 358.,  17.],\n",
              "        [ 19.,  17.,   2.]])"
            ]
          },
          "metadata": {},
          "execution_count": 66
        }
      ],
      "source": [
        "y2 = A_T@A\n",
        "y2\n",
        "print(f\"실습과제 제곱합: \",375)\n",
        "print(f\"복습과제 제곱합: \",358)"
      ]
    },
    {
      "cell_type": "markdown",
      "id": "ac4285ca",
      "metadata": {
        "id": "ac4285ca"
      },
      "source": [
        "6. 특정 상수만을 요소로 가지는 텐서를 만들어 1-5로 나온 행렬곱 결과에 요소 곱을 하시오. 이 때 행렬곱에서 실습과제, 복습과제의 제곱합이었던 요소들이 분산으로 바뀌고 나머지 요소들은 0이 되도록 하시오. (2점)"
      ]
    },
    {
      "cell_type": "code",
      "execution_count": null,
      "id": "befd15dc",
      "metadata": {
        "id": "befd15dc"
      },
      "outputs": [],
      "source": []
    },
    {
      "cell_type": "code",
      "source": [
        "M=torch.tensor([[1.3/375,0,0],[0,1.3/358,0],[0,0,0]])\n",
        "result = torch.mul(y2, M)\n",
        "result"
      ],
      "metadata": {
        "colab": {
          "base_uri": "https://localhost:8080/"
        },
        "id": "RRsQHOpFdHgX",
        "outputId": "11d4835f-2106-4c4e-8eca-b15fa5ae1e00"
      },
      "id": "RRsQHOpFdHgX",
      "execution_count": null,
      "outputs": [
        {
          "output_type": "execute_result",
          "data": {
            "text/plain": [
              "tensor([[1.3000, 0.0000, 0.0000],\n",
              "        [0.0000, 1.3000, 0.0000],\n",
              "        [0.0000, 0.0000, 0.0000]])"
            ]
          },
          "metadata": {},
          "execution_count": 92
        }
      ]
    },
    {
      "cell_type": "markdown",
      "id": "34a7eb35",
      "metadata": {
        "id": "34a7eb35"
      },
      "source": [
        "7. 아래의 Dataset class는 3가지의 함수를 구현한다. 각각의 함수의 역할이 무엇인지 답하시오. (1점)"
      ]
    },
    {
      "cell_type": "code",
      "execution_count": null,
      "id": "c3768fb9",
      "metadata": {
        "colab": {
          "base_uri": "https://localhost:8080/",
          "height": 462
        },
        "id": "c3768fb9",
        "outputId": "8b7965f6-743f-4bd6-ceee-6424b0cc67ad"
      },
      "outputs": [
        {
          "output_type": "execute_result",
          "data": {
            "image/png": "[encoded data removed]",
            "text/plain": [
              "<IPython.core.display.Image object>"
            ]
          },
          "metadata": {},
          "execution_count": 70
        }
      ],
      "source": [
        "Image('Class_1.png')"
      ]
    },
    {
      "cell_type": "markdown",
      "id": "013e2a44",
      "metadata": {
        "id": "013e2a44"
      },
      "source": [
        "답안)__init__함수는 class를 instance로 구체화 하기위한 요소를 정의한다. 또한 초기화한다. 위에서 img_labels에 파일을 받고 img_dir에서는 입력한 img_dir을 transform도 정의한 transform을 target_transform도 정의한 것을 받는다.\n",
        "def __len__는 받은 데이터의 길이를 return한다.\n",
        "\n",
        "def__getitem__에서는 idx에 해당하는 img_path와 그에 해당하는 image, label을 받는다. 그리고 transform을 입력한다면 그에 맞는 transform을 적용하고 target_transform도 미리 정의된 것이 있다면 label에 적용하여 image, label반환한다.\n"
      ]
    },
    {
      "cell_type": "markdown",
      "id": "4294cb8d",
      "metadata": {
        "id": "4294cb8d"
      },
      "source": [
        "8. 아래의 class에 대해 __init__과 forward의 기능을 포함하여 설명하시오. (2점)"
      ]
    },
    {
      "cell_type": "code",
      "execution_count": null,
      "id": "b86fad42",
      "metadata": {
        "colab": {
          "base_uri": "https://localhost:8080/",
          "height": 408
        },
        "id": "b86fad42",
        "outputId": "02c942ef-95d4-4e8a-fdb0-ae4e3bd9576d"
      },
      "outputs": [
        {
          "output_type": "execute_result",
          "data": {
            "image/png": "[encoded data removed]",
            "text/plain": [
              "<IPython.core.display.Image object>"
            ]
          },
          "metadata": {},
          "execution_count": 71
        }
      ],
      "source": [
        "Image('Class_2.png')\n"
      ]
    },
    {
      "cell_type": "markdown",
      "id": "623ee748",
      "metadata": {
        "id": "623ee748"
      },
      "source": [
        "답안)처음 nn.Module을 상속받고 super()를 사용하여 상위 클래스의 생성자를 호출하여 상속받은 속성과 메서드를 초기화한다. 이후 flatten을 통해 1차원으로 풀어주고 이를 nn.sequential을 이용해 연속적인 layer를 쌓는다. 28*28차원을 flatten했다면 28X28차원 이므로 이를 linear에 input으로 받고 512차원으로 보낸다. 이후 활성화 함수 Relu취하고 다시 Linear로 보내 512 ->512차원이고 또 Relu씌우고 마지막은 필요한 output차원에 맞게 linear를 사용한다.\n",
        "아러한 init부분은 class를 인스턴스로 구체화 하는 과정이다.\n",
        "\n",
        "\n",
        "forward에서는 x를 입력받으면 이를 flatten하고 위에서 정의한 linear_relu_stack에 통과시켜 logits을 만들고 반환한다.\n",
        "이때의 x는 인스턴스로 구체화한 model에 넣는 입력이다.\n"
      ]
    }
  ],
  "metadata": {
    "kernelspec": {
      "display_name": "Python 3 (ipykernel)",
      "language": "python",
      "name": "python3"
    },
    "language_info": {
      "codemirror_mode": {
        "name": "ipython",
        "version": 3
      },
      "file_extension": ".py",
      "mimetype": "text/x-python",
      "name": "python",
      "nbconvert_exporter": "python",
      "pygments_lexer": "ipython3",
      "version": "3.10.9"
    },
    "colab": {
      "provenance": []
    }
  },
  "nbformat": 4,
  "nbformat_minor": 5
}