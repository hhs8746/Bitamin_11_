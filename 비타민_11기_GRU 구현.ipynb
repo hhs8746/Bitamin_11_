{
  "nbformat": 4,
  "nbformat_minor": 0,
  "metadata": {
    "colab": {
      "provenance": [],
      "gpuType": "T4"
    },
    "kernelspec": {
      "name": "python3",
      "display_name": "Python 3"
    },
    "language_info": {
      "name": "python"
    },
    "accelerator": "GPU"
  },
  "cells": [
    {
      "cell_type": "code",
      "execution_count": null,
      "metadata": {
        "id": "C6k2wDt-zJt0"
      },
      "outputs": [],
      "source": [
        "import torch\n",
        "import torch.nn as nn\n",
        "import torchvision.transforms as transforms\n",
        "import torchvision.datasets as dataset\n",
        "from torch.autograd import Variable\n",
        "from torch.nn import Parameter\n",
        "from torch import Tensor\n",
        "import torch.nn.functional as F\n",
        "from torch.utils.data import DataLoader\n",
        "import math"
      ]
    },
    {
      "cell_type": "code",
      "source": [
        "device=torch.device('cuda:0' if torch.cuda.is_available() else 'cpu')\n",
        "print(device)"
      ],
      "metadata": {
        "colab": {
          "base_uri": "https://localhost:8080/"
        },
        "id": "XxhiHxnR28YZ",
        "outputId": "f0e4de24-6b0f-4cc6-e63a-32037313fd27"
      },
      "execution_count": null,
      "outputs": [
        {
          "output_type": "stream",
          "name": "stdout",
          "text": [
            "cuda:0\n"
          ]
        }
      ]
    },
    {
      "cell_type": "markdown",
      "source": [
        "### 그냥 실행해 주세요"
      ],
      "metadata": {
        "id": "DG-1Ys8kZAXD"
      }
    },
    {
      "cell_type": "code",
      "source": [
        "cuda=True if torch.cuda.is_available() else False\n",
        "Tensor=torch.cuda.FloatTensor if cuda else torch.FloatTensor\n",
        "\n",
        "torch.manual_seed(125)\n",
        "if torch.cuda.is_available():\n",
        "  torch.cuda.manual_seed_all(125)"
      ],
      "metadata": {
        "id": "Vo7JJ69E3NgZ"
      },
      "execution_count": null,
      "outputs": []
    },
    {
      "cell_type": "markdown",
      "source": [
        "### 데이터셋을 평균 0.5, 표준편차 1.0을 기준으로 정규화하고 텐서로 변경해 주세요!(transforms 이용 )"
      ],
      "metadata": {
        "id": "P6F4DILPZia_"
      }
    },
    {
      "cell_type": "code",
      "source": [
        "mnist_transform = transforms.Compose([\n",
        "    transforms.ToTensor(),\n",
        "    transforms.Normalize((0.5,), (1.0,))\n",
        "])"
      ],
      "metadata": {
        "id": "Ij-fVZZE3mfl"
      },
      "execution_count": null,
      "outputs": []
    },
    {
      "cell_type": "markdown",
      "source": [
        "### MNIST 데이터셋 다운로드 해주세요!"
      ],
      "metadata": {
        "id": "AkCz1RNAZ0Au"
      }
    },
    {
      "cell_type": "code",
      "source": [
        "from torchvision.datasets import MNIST\n",
        "dataload_root='your_path'\n",
        "train_dataset=MNIST(dataload_root, transform= mnist_transform, train=True , download=True)\n",
        "valid_dataset=MNIST(dataload_root, transform= mnist_transform, train=False , download=True)\n",
        "test_dataset=MNIST(dataload_root, transform=  mnist_transform, train=False , download=True)"
      ],
      "metadata": {
        "id": "_D9B8a_N35-V"
      },
      "execution_count": null,
      "outputs": []
    },
    {
      "cell_type": "markdown",
      "source": [
        "### batch_size=64로 하고 train_loader, valid_loader, test_loader를 만들어 주세요!"
      ],
      "metadata": {
        "id": "82zn1aJDaCOE"
      }
    },
    {
      "cell_type": "code",
      "source": [
        "batch_size=64\n",
        "train_loader=DataLoader(dataset=train_dataset,\n",
        "                       batch_size=batch_size,\n",
        "                       shuffle=True)\n",
        "valid_loader=DataLoader(dataset=valid_dataset,\n",
        "                       batch_size=batch_size,\n",
        "                       shuffle=False)\n",
        "test_loader=DataLoader(dataset=test_dataset,\n",
        "                       batch_size=batch_size,\n",
        "                       shuffle=False)"
      ],
      "metadata": {
        "id": "2ZhB8rQj5J0j"
      },
      "execution_count": null,
      "outputs": []
    },
    {
      "cell_type": "markdown",
      "source": [
        "###  GRU 셀 네트워크를 만들어 주세요!\n",
        "\n",
        "이때 GRU 에서는 3개 (망각, 입력, 활성화함수) 게이트가 사용된다는 점을 기억해 주세요!\n"
      ],
      "metadata": {
        "id": "DjeWAYJFa4_M"
      }
    },
    {
      "cell_type": "code",
      "source": [
        "class GRUCell(nn.Module):\n",
        "  def __init__(self, input_size , hidden_size, bias =True):\n",
        "    super(GRUCell,self).__init__()\n",
        "    self.input_size=input_size\n",
        "    self.hidden_size=hidden_size\n",
        "    self.bias=bias\n",
        "    self.x2h=nn.Linear(input_size,3 * hidden_size,bias=bias)\n",
        "    self.h2h=nn.Linear(hidden_size,3 * hidden_size,bias=bias)\n",
        "    self.reset_parameters()\n",
        "\n",
        "\n",
        "  # 파라미터를 초기화(균등 분포를 이용해 초기화)\n",
        "  def reset_parameters(self):\n",
        "    std=1.0/math.sqrt(self.hidden_size)\n",
        "    for w in self.parameters():\n",
        "      w.data.uniform_(-std,std)\n",
        "\n",
        "  def forward(self,x,hidden):\n",
        "    x=x.view(-1,x.size(1))\n",
        "\n",
        "    gate_x=self.x2h(x)\n",
        "    gate_h=self.h2h(hidden)\n",
        "    gate_x=gate_x.squeeze()\n",
        "    gate_h=gate_h.squeeze()\n",
        "\n",
        "    # 3개의 게이트로 쪼갬 (chunk 사용)\n",
        "    i_r, i_i, i_n = gate_x.chunk(3, 1)\n",
        "    h_r, h_i, h_n = gate_h.chunk(3, 1)\n",
        "\n",
        "    resetgate=F.sigmoid(i_r+h_r)\n",
        "    inputgate=F.sigmoid(i_i+h_i)\n",
        "    newgate = F.tanh(i_n + (resetgate * h_n))\n",
        "    hy = newgate + inputgate*(hidden-newgate)\n",
        "    return hy\n"
      ],
      "metadata": {
        "id": "xM9Fpg9V602H"
      },
      "execution_count": null,
      "outputs": []
    },
    {
      "cell_type": "markdown",
      "source": [
        "### 전반적인 네트워크 구성하기"
      ],
      "metadata": {
        "id": "TNOEOXS2cWN8"
      }
    },
    {
      "cell_type": "code",
      "source": [
        "class GRUModel(nn.Module):\n",
        "  def __init__(self,input_dim,hidden_dim,layer_dim,output_dim,bias=True):\n",
        "    super(GRUModel,self).__init__()\n",
        "    self.hidden_dim=hidden_dim\n",
        "    self.layer_dim=layer_dim\n",
        "    self.gru_cell=GRUCell(input_dim,hidden_dim,layer_dim)\n",
        "    self.fc=nn.Linear(hidden_dim,output_dim)\n",
        "\n",
        "  def forward(self,x):\n",
        "    if torch.cuda.is_available():\n",
        "      h0=Variable(torch.zeros(self.layer_dim,x.size(0),self.hidden_dim).cuda())\n",
        "    else:\n",
        "      h0=Variable(torch.zeros(self.layer_dim,x.size(0),self.hidden_dim))\n",
        "\n",
        "    outs=[]\n",
        "    hn=h0[0,:,:]\n",
        "\n",
        "    for seq in range(x.size(1)):\n",
        "      hn=self.gru_cell(x[:,seq,:],hn)\n",
        "      outs.append(hn)\n",
        "    # 최종 출력 반환\n",
        "    out = outs[-1].squeeze()\n",
        "    out=self.fc(out)\n",
        "    return out\n"
      ],
      "metadata": {
        "id": "ExT_RJGsGEcp"
      },
      "execution_count": null,
      "outputs": []
    },
    {
      "cell_type": "markdown",
      "source": [
        "### 옵티마이저와 손실 함수 설정(자유롭게 설정!)"
      ],
      "metadata": {
        "id": "yE115EAmdFtA"
      }
    },
    {
      "cell_type": "code",
      "source": [
        "input_dim=28\n",
        "hidden_dim=128\n",
        "layer_dim=1\n",
        "output_dim=10\n",
        "\n",
        "model=GRUModel(input_dim , hidden_dim , layer_dim , output_dim)\n",
        "if torch.cuda.is_available():\n",
        "  model.cuda()\n",
        "criterion=nn.CrossEntropyLoss()\n",
        "learning_rate=5e-5\n",
        "optimizer=torch.optim.AdamW(model.parameters(),lr=learning_rate)"
      ],
      "metadata": {
        "id": "31AWsdyQJZoj"
      },
      "execution_count": null,
      "outputs": []
    },
    {
      "cell_type": "markdown",
      "source": [
        "### 5 에포크로 모델 학습과 성능을 검증해 주세요 ( # 부분에 코드 입력)"
      ],
      "metadata": {
        "id": "GMRZrkxXdVKU"
      }
    },
    {
      "cell_type": "code",
      "source": [
        "num_epochs = 5\n",
        "seq_dim=28\n",
        "loss_list=[]\n",
        "iter=0\n",
        "for epoch in range(num_epochs):\n",
        "  for i, (images, labels) in enumerate(train_loader):\n",
        "    if torch.cuda.is_available():\n",
        "      images=Variable(images.view(-1,seq_dim,input_dim).cuda())\n",
        "      labels=Variable(labels.cuda())\n",
        "    else:\n",
        "      images=Variable(images.view(-1,seq_dim,input_dim))\n",
        "      labels=Variable(labels)\n",
        "\n",
        "    optimizer.zero_grad()\n",
        "    outputs=model(images)\n",
        "    loss=criterion(outputs,labels)\n",
        "\n",
        "    if torch.cuda.is_available():\n",
        "      loss.cuda()\n",
        "    #역전파\n",
        "      loss.backward()\n",
        "    #가중치 업데이트\n",
        "      optimizer.step()\n",
        "    loss_list.append(loss.item())\n",
        "    iter += 1\n",
        "    if iter % 500 == 0:\n",
        "      correct=0\n",
        "      total=0\n",
        "      for images, labels in valid_loader:\n",
        "        if torch.cuda.is_available():\n",
        "          images=Variable(images.view(-1,seq_dim,input_dim).cuda())\n",
        "        else:\n",
        "          images=Variable(images.view(-1,seq_dim,input_dim))\n",
        "        outputs=model(images)\n",
        "        _, predicted=torch.max(outputs.data,1)\n",
        "        total += labels.size(0)\n",
        "\n",
        "        if torch.cuda.is_available():\n",
        "          correct += (predicted.cpu()==labels.cpu()).sum()\n",
        "        else:\n",
        "          correct+=(predicted == labels).sum()\n",
        "      accuracy= correct/total * 100 #\n",
        "      print('Iteration : {}. Loss: {}. Accuracy:{}'.format(iter,loss.item(),accuracy))"
      ],
      "metadata": {
        "id": "28fio3kSK7fk",
        "colab": {
          "base_uri": "https://localhost:8080/"
        },
        "outputId": "10f69b23-6d07-4567-d1ea-dd948626ad83"
      },
      "execution_count": null,
      "outputs": [
        {
          "output_type": "stream",
          "name": "stdout",
          "text": [
            "Iteration : 500. Loss: 1.060360074043274. Accuracy:72.93000030517578\n",
            "Iteration : 1000. Loss: 0.6739810705184937. Accuracy:76.08000183105469\n",
            "Iteration : 1500. Loss: 0.6330926418304443. Accuracy:78.9699935913086\n",
            "Iteration : 2000. Loss: 0.6121330857276917. Accuracy:80.65999603271484\n",
            "Iteration : 2500. Loss: 0.5029085874557495. Accuracy:82.56999969482422\n",
            "Iteration : 3000. Loss: 0.49117323756217957. Accuracy:83.81000518798828\n",
            "Iteration : 3500. Loss: 0.5620765089988708. Accuracy:84.73999786376953\n",
            "Iteration : 4000. Loss: 0.4079395830631256. Accuracy:85.56999969482422\n",
            "Iteration : 4500. Loss: 0.4665379524230957. Accuracy:85.43000030517578\n"
          ]
        }
      ]
    },
    {
      "cell_type": "markdown",
      "source": [
        "### 테스트셋을 이용해 모델을 예측해 주세요 ( # 부분에 코드입력)"
      ],
      "metadata": {
        "id": "2zTDiSNAdpzY"
      }
    },
    {
      "cell_type": "code",
      "source": [
        "def evaluate(model, val_iter):\n",
        "  corrects, total, total_loss=0,0,0\n",
        "  #평가상태로 전환\n",
        "  model.eval()\n",
        "  for images, labels in val_iter:\n",
        "    if torch.cuda.is_available():\n",
        "      images=Variable(images.view(-1,seq_dim,input_dim).cuda())\n",
        "      labels=Variable(labels.cuda())\n",
        "    logit=model(images).to(device)\n",
        "    loss=F.cross_entropy(logit,labels,reduction='sum')\n",
        "    _, predicted = torch.max(logit.data,1)\n",
        "    total += labels.size(0)\n",
        "    total_loss += loss.item()\n",
        "    corrects += (predicted == labels).sum()\n",
        "\n",
        "  avg_loss=total_loss / len(val_iter.dataset)\n",
        "  avg_accuracy = 100 * corrects / total\n",
        "  return avg_loss , avg_accuracy"
      ],
      "metadata": {
        "id": "ujaLc-RpnpH2"
      },
      "execution_count": null,
      "outputs": []
    },
    {
      "cell_type": "markdown",
      "source": [
        "### Loss 값과 Accuracy 값을 출력해 주세요!"
      ],
      "metadata": {
        "id": "BCIIb_RNdxWC"
      }
    },
    {
      "cell_type": "code",
      "source": [
        "test_loss, test_acc = evaluate(model,test_loader)\n",
        "print(\"Test Loss: %5.2f | Test Accuracy: %5.2f\" % (test_loss,test_acc))"
      ],
      "metadata": {
        "id": "FwlRzJnjp376",
        "colab": {
          "base_uri": "https://localhost:8080/"
        },
        "outputId": "e04cd29d-b37d-4f86-c8bf-121f6e310def"
      },
      "execution_count": null,
      "outputs": [
        {
          "output_type": "stream",
          "name": "stdout",
          "text": [
            "Test Loss:  0.44 | Test Accuracy: 86.04\n"
          ]
        }
      ]
    },
    {
      "cell_type": "code",
      "source": [],
      "metadata": {
        "id": "vrIvyHjWcai5"
      },
      "execution_count": null,
      "outputs": []
    }
  ]
}