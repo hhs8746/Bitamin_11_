{
  "cells": [
    {
      "cell_type": "markdown",
      "metadata": {
        "id": "3HGN1Qj0PsHL"
      },
      "source": [
        "(코드관리자) 서울시립대학교 통계학과 전종준 (jj.jeon@uos.ac.kr)"
      ]
    },
    {
      "cell_type": "markdown",
      "metadata": {
        "id": "yl282kWzBuH3"
      },
      "source": [
        "# 3-1-2\n",
        "- 네이버 API를 통해서 데이터를 수집하고 정리해본다."
      ]
    },
    {
      "cell_type": "code",
      "execution_count": null,
      "metadata": {
        "id": "7YBMRrg-BOK7"
      },
      "outputs": [],
      "source": [
        "#%%\n",
        "import urllib.request\n",
        "import pandas as pd\n",
        "\n",
        "#%%\n",
        "client_id = ''\n",
        "client_secret = ''\n"
      ]
    },
    {
      "cell_type": "code",
      "execution_count": null,
      "metadata": {
        "colab": {
          "base_uri": "https://localhost:8080/"
        },
        "id": "H7l64dRdBao2",
        "outputId": "34aaee91-d5c3-4da7-daff-6a1371ba0cbb"
      },
      "outputs": [
        {
          "name": "stdout",
          "output_type": "stream",
          "text": [
            "%EB%82%98%EC%8A%A4%EB%8B%A5\n"
          ]
        }
      ],
      "source": [
        "#문자 만들기\n",
        "topic = urllib.parse.quote('나스닥')\n",
        "print(topic)"
      ]
    },
    {
      "cell_type": "code",
      "execution_count": null,
      "metadata": {
        "id": "g8lp5XsbsTMg"
      },
      "outputs": [],
      "source": [
        "#문자 100개요청\n",
        "item = str(100)"
      ]
    },
    {
      "cell_type": "code",
      "execution_count": null,
      "metadata": {
        "colab": {
          "base_uri": "https://localhost:8080/",
          "height": 36
        },
        "id": "ZK1Ir6RGC8Vp",
        "outputId": "e1fd7ae5-5d49-408a-c2f2-bd4a0c7f0d37"
      },
      "outputs": [
        {
          "data": {
            "application/vnd.google.colaboratory.intrinsic+json": {
              "type": "string"
            },
            "text/plain": [
              "'https://openapi.naver.com/v1/search/news.xml?query=%EB%82%98%EC%8A%A4%EB%8B%A5'"
            ]
          },
          "execution_count": 4,
          "metadata": {},
          "output_type": "execute_result"
        }
      ],
      "source": [
        "#주소에 내가 원하는 topic을 붙여서 검색해 url완성\n",
        "url = 'https://openapi.naver.com/v1/search/news.xml?query=' + topic # xml 결과\n",
        "url"
      ]
    },
    {
      "cell_type": "code",
      "execution_count": null,
      "metadata": {
        "id": "RuTzRU7vshTU"
      },
      "outputs": [],
      "source": [
        "# url = \"https://openapi.naver.com/v1/search/news?query=\" # json 결과\n",
        "#text만 있던 곳에 id, password넣게 한다. header안에 넣기\n",
        "request = urllib.request.Request(url)\n",
        "request.add_header('X-Naver-Client-ID', client_id)\n",
        "request.add_header('X-Naver-Client-Secret', client_secret)"
      ]
    },
    {
      "cell_type": "code",
      "execution_count": null,
      "metadata": {
        "colab": {
          "base_uri": "https://localhost:8080/"
        },
        "id": "ZSKoA-Ois0C1",
        "outputId": "28622d85-ad7c-4763-e59c-97122198a2f5"
      },
      "outputs": [
        {
          "data": {
            "text/plain": [
              "<urllib.request.Request at 0x7ff6183420a0>"
            ]
          },
          "execution_count": 6,
          "metadata": {},
          "output_type": "execute_result"
        }
      ],
      "source": [
        "request"
      ]
    },
    {
      "cell_type": "code",
      "execution_count": null,
      "metadata": {
        "id": "hDjENUDAsx8x"
      },
      "outputs": [],
      "source": [
        "#네이버에서 정보가 전달됨\n",
        "response = urllib.request.urlopen(request)"
      ]
    },
    {
      "cell_type": "code",
      "execution_count": null,
      "metadata": {
        "id": "QpVSPYKds9SK"
      },
      "outputs": [],
      "source": [
        "rescode = response.getcode()"
      ]
    },
    {
      "cell_type": "code",
      "execution_count": null,
      "metadata": {
        "colab": {
          "base_uri": "https://localhost:8080/"
        },
        "id": "ZCNZGk__DK0o",
        "outputId": "c21fd258-fa1e-49db-ed4f-3ee7f145f69a"
      },
      "outputs": [
        {
          "data": {
            "text/plain": [
              "200"
            ]
          },
          "execution_count": 9,
          "metadata": {},
          "output_type": "execute_result"
        }
      ],
      "source": [
        "#200이 뜨면 성공!, 400은 실패!\n",
        "rescode"
      ]
    },
    {
      "cell_type": "code",
      "execution_count": null,
      "metadata": {
        "colab": {
          "base_uri": "https://localhost:8080/"
        },
        "id": "XF8gQMC5C4V7",
        "outputId": "ca853907-e96f-4ec1-b5de-419776eebae2"
      },
      "outputs": [
        {
          "name": "stdout",
          "output_type": "stream",
          "text": [
            "<?xml version=\"1.0\" encoding=\"UTF-8\"?><rss version=\"2.0\"><channel><title>Naver Open API - news ::&apos;나스닥&apos;</title><link>https://search.naver.com</link><description>Naver Search Result</description><lastBuildDate>Wed, 12 Apr 2023 10:45:20 +0900</lastBuildDate><total>609292</total><start>1</start><display>10</display><item><title>&amp;quot;美 물가상승률 6% 넘으면 S&amp;amp;P 500 지수 최소 2% 하락&amp;quot;</title><originallink>http://www.wowtv.co.kr/NewsCenter/News/Read?articleId=A202304120119&amp;t=NN</originallink><link>https://n.news.naver.com/mnews/article/215/0001094901?sid=101</link><description>S&amp;amp;P500 지수는 전장보다 0.17포인트(0.00%), &lt;b&gt;나스닥&lt;/b&gt;지수는 52.48포인트(0.43%) 각각 떨어졌다. 지난해부터 미국 연방준비제도(연준·Fed)가 공격적으로 금리를 인상한 이후 CPI는 주식 시장 변동성을 높인 요인 중 하나가... </description><pubDate>Wed, 12 Apr 2023 10:42:00 +0900</pubDate></item><item><title>&amp;apos;키움 &lt;b&gt;나스닥&lt;/b&gt;100 ETF 스마트인베스터 분할매수 펀드&amp;apos; 판매 개시</title><originallink>http://www.lcnews.co.kr/news/articleView.html?idxno=49124</originallink><link>http://www.lcnews.co.kr/news/articleView.html?idxno=49124</link><description>키움투자자산운용이 &amp;apos;키움 &lt;b&gt;나스닥&lt;/b&gt;100 ETF Smart Investor 분할매수 펀드&amp;apos;를 출시했다. [사진=키움투자자산운용 제공] 라이센스뉴스 = 김형식 기자 | 키움투자자산운용(대표이사 김성훈)이 분할매수 전략으로 &lt;b&gt;나스닥&lt;/b&gt; 시장에... </description><pubDate>Wed, 12 Apr 2023 10:40:00 +0900</pubDate></item><item><title>코스피 개인 외국인 매수세에 장중 2550선 강보합, 코스닥은 소폭 내려</title><originallink>https://www.businesspost.co.kr/BP?command=article_view&amp;num=312038</originallink><link>https://www.businesspost.co.kr/BP?command=article_view&amp;num=312038</link><description>다우존스30산업평균지수(0.29%)가 올랐고 &lt;b&gt;나스닥&lt;/b&gt;지수(-0.43%)가 내렸다. 스탠다드앤드푸어스(S&amp;amp;P)500지수(0.0%)는 전날과 거의 같다. 코스피시장에서 이아이디(19.44%), 미래산업(18.82%), 다이나믹디자인(18.31... </description><pubDate>Wed, 12 Apr 2023 10:38:00 +0900</pubDate></item><item><title>[종합] 코스피, 개인·외국인 ‘사자’에 장초반 강보합</title><originallink>https://www.etoday.co.kr/news/view/2239729</originallink><link>https://www.etoday.co.kr/news/view/2239729</link><description>S&amp;amp;P500지수는 0.17포인트(0.0%) 하락한 4108.94에, 기술주 중심의 &lt;b&gt;나스닥&lt;/b&gt;지수는 52.48포인트(0.43%) 내린 1만2031.88에 거래를 마쳤다. 주요 종목 중엔 마이크로소프트(MS)가 2.27% 하락했고 아마존과 애플은 각각 2.... </description><pubDate>Wed, 12 Apr 2023 10:36:00 +0900</pubDate></item><item><title>&amp;apos;매각 실패&amp;apos; 손정의 반도체 회사 ARM, &lt;b&gt;나스닥&lt;/b&gt; 상장한다</title><originallink>http://news.mt.co.kr/mtview.php?no=2023041210155996134</originallink><link>https://n.news.naver.com/mnews/article/008/0004874005?sid=101</link><description>올가을 &lt;b&gt;나스닥&lt;/b&gt;에 상장한다. 흥행에 성공할지 이목이 쏠린다. 11일(현지시간) 파이낸셜타임스(FT)는 사안에 정통한 복수의 소식통을 인용해 ARM을 자회사로 둔 소프트뱅크와 &lt;b&gt;나스닥&lt;/b&gt;거래소가 지난 10일 ARM 상장에 잠정... </description><pubDate>Wed, 12 Apr 2023 10:34:00 +0900</pubDate></item><item><title>[오전 시황] 2560선 넘보는 코스피…2차전지·자동차株 주목</title><originallink>https://www.sedaily.com/NewsView/29O9VGR4K0</originallink><link>https://n.news.naver.com/mnews/article/011/0004178056?sid=101</link><description>27포인트(0.29%) 오른 3만3684.79로 거래를 마쳤다. 스탠더드앤드푸어스(S&amp;amp;P)500지수는 전장보다 0.17포인트(0.00%) 하락한 4108.94로, &lt;b&gt;나스닥&lt;/b&gt;지수는 전장보다 52.48포인트(0.43%) 떨어진 1만2031.88로 장을 마감했다.</description><pubDate>Wed, 12 Apr 2023 10:33:00 +0900</pubDate></item><item><title>[마켓ING]美 경제지표 발표 앞두고 관망세</title><originallink>https://view.asiae.co.kr/article/2023041210281409377</originallink><link>https://n.news.naver.com/mnews/article/277/0005244362?sid=101</link><description>S&amp;amp;P500지수는 0.0%로 거의 움직임이 없었고 &lt;b&gt;나스닥&lt;/b&gt;지수는 0.43% 하락 마감했다. 서상영 미래에셋증권 연구원은 &amp;quot;전일 ‘미국 증시가 금융시스템 불안 등이 여전하지만 확대되지 않을 경우 견고한 성장이 이어질 수 있다’... </description><pubDate>Wed, 12 Apr 2023 10:33:00 +0900</pubDate></item><item><title>[코인시황] 비트코인 3만달러 이상에서 견고하게 유지…CPI, 샤펠라 업그레이...</title><originallink>https://www.coindeskkorea.com/news/articleView.html?idxno=90918</originallink><link>https://www.coindeskkorea.com/news/articleView.html?idxno=90918</link><description>스탠더드앤드푸어스(S&amp;amp;P)500 지수는 보합세로 마감했고, &lt;b&gt;나스닥&lt;/b&gt; 지수는 0.4% 하락했다. 다우존스 산업평균지수(DJIA)는 0.2% 올랐다. 영어기사 : 최윤영 번역, 김기만 코인데스크 코리아 편집</description><pubDate>Wed, 12 Apr 2023 10:32:00 +0900</pubDate></item><item><title>[해외시황] 뉴욕증시, 물가 지표 앞두고 혼조…다우 0.2%↑</title><originallink>http://www.newsprime.co.kr/news/article.html?no=598450</originallink><link>http://www.newsprime.co.kr/news/article.html?no=598450</link><description>기술주 중심 &lt;b&gt;나스닥&lt;/b&gt; 지수는 52.48p(-0.43%) 하락한 1만2031.88에 장을 마쳤다. 이날 시장은 다음날 나오는 3월 CPI 보고서와 연방공개시장위원회(FOMC) 정례회의 의사록을 주시했다. 월스트리트저널(WSJ)에 따르면... </description><pubDate>Wed, 12 Apr 2023 10:30:00 +0900</pubDate></item><item><title>&amp;quot;美 물가상승률 6% 넘으면 S&amp;amp;P 500 지수 최소 2% 하락 전망&amp;quot;</title><originallink>https://www.yna.co.kr/view/AKR20230412058300009?input=1195m</originallink><link>https://n.news.naver.com/mnews/article/001/0013875170?sid=101</link><description>S&amp;amp;P500 지수는 전장보다 0.17포인트(0.00%), &lt;b&gt;나스닥&lt;/b&gt;지수는 52.48포인트(0.43%) 각각 떨어졌다. 지난해부터 미국 연방준비제도(연준·Fed)가 공격적으로 금리를 인상한 이후 CPI는 주식 시장 변동성을 높인 요인 중 하나가... </description><pubDate>Wed, 12 Apr 2023 10:28:00 +0900</pubDate></item></channel></rss>\n"
          ]
        }
      ],
      "source": [
        "if(rescode==200):\n",
        "    response_body = response.read()\n",
        "    print(response_body.decode('utf-8'))\n",
        "else:\n",
        "    print(\"Error Code:\" + rescode)\n"
      ]
    },
    {
      "cell_type": "code",
      "execution_count": null,
      "metadata": {
        "id": "CEK9caTjDH2K"
      },
      "outputs": [],
      "source": [
        "news_xml = response_body.decode('utf-8')"
      ]
    },
    {
      "cell_type": "code",
      "execution_count": null,
      "metadata": {
        "colab": {
          "base_uri": "https://localhost:8080/",
          "height": 252
        },
        "id": "4yaKp0vPtYx6",
        "outputId": "c994fe1d-9350-4a52-ef0e-c54c4778a7f2"
      },
      "outputs": [
        {
          "data": {
            "application/vnd.google.colaboratory.intrinsic+json": {
              "type": "string"
            },
            "text/plain": [
              "'<?xml version=\"1.0\" encoding=\"UTF-8\"?><rss version=\"2.0\"><channel><title>Naver Open API - news ::&apos;나스닥&apos;</title><link>https://search.naver.com</link><description>Naver Search Result</description><lastBuildDate>Wed, 12 Apr 2023 10:45:20 +0900</lastBuildDate><total>609292</total><start>1</start><display>10</display><item><title>&amp;quot;美 물가상승률 6% 넘으면 S&amp;amp;P 500 지수 최소 2% 하락&amp;quot;</title><originallink>http://www.wowtv.co.kr/NewsCenter/News/Read?articleId=A202304120119&amp;t=NN</originallink><link>https://n.news.naver.com/mnews/article/215/0001094901?sid=101</link><description>S&amp;amp;P500 지수는 전장보다 0.17포인트(0.00%), &lt;b&gt;나스닥&lt;/b&gt;지수는 52.48포인트(0.43%) 각각 떨어졌다. 지난해부터 미국 연방준비제도(연준·Fed)가 공격적으로 금리를 인상한 이후 CPI는 주식 시장 변동성을 높인 요인 중 하나가... </description><pubDate>Wed, 12 Apr 2023 10:42:00 +0900</pubDate></item><item><title>&amp;apos;키움 &lt;b&gt;나스닥&lt;/b&gt;100 ETF 스마트인베스터 분할매수 펀드&amp;apos; 판매 개시</title><originallink>http://www.lcnews.co.kr/news/articleView.html?idxno=49124</originallink><link>http://www.lcnews.co.kr/news/articleView.html?idxno=49124</link><description>키움투자자산운용이 &amp;apos;키움 &lt;b&gt;나스닥&lt;/b&gt;100 ETF Smart Investor 분할매수 펀드&amp;apos;를 출시했다. [사진=키움투자자산운용 제공] 라이센스뉴스 = 김형식 기자 | 키움투자자산운용(대표이사 김성훈)이 분할매수 전략으로 &lt;b&gt;나스닥&lt;/b&gt; 시장에... </description><pubDate>Wed, 12 Apr 2023 10:40:00 +0900</pubDate></item><item><title>코스피 개인 외국인 매수세에 장중 2550선 강보합, 코스닥은 소폭 내려</title><originallink>https://www.businesspost.co.kr/BP?command=article_view&amp;num=312038</originallink><link>https://www.businesspost.co.kr/BP?command=article_view&amp;num=312038</link><description>다우존스30산업평균지수(0.29%)가 올랐고 &lt;b&gt;나스닥&lt;/b&gt;지수(-0.43%)가 내렸다. 스탠다드앤드푸어스(S&amp;amp;P)500지수(0.0%)는 전날과 거의 같다. 코스피시장에서 이아이디(19.44%), 미래산업(18.82%), 다이나믹디자인(18.31... </description><pubDate>Wed, 12 Apr 2023 10:38:00 +0900</pubDate></item><item><title>[종합] 코스피, 개인·외국인 ‘사자’에 장초반 강보합</title><originallink>https://www.etoday.co.kr/news/view/2239729</originallink><link>https://www.etoday.co.kr/news/view/2239729</link><description>S&amp;amp;P500지수는 0.17포인트(0.0%) 하락한 4108.94에, 기술주 중심의 &lt;b&gt;나스닥&lt;/b&gt;지수는 52.48포인트(0.43%) 내린 1만2031.88에 거래를 마쳤다. 주요 종목 중엔 마이크로소프트(MS)가 2.27% 하락했고 아마존과 애플은 각각 2.... </description><pubDate>Wed, 12 Apr 2023 10:36:00 +0900</pubDate></item><item><title>&amp;apos;매각 실패&amp;apos; 손정의 반도체 회사 ARM, &lt;b&gt;나스닥&lt;/b&gt; 상장한다</title><originallink>http://news.mt.co.kr/mtview.php?no=2023041210155996134</originallink><link>https://n.news.naver.com/mnews/article/008/0004874005?sid=101</link><description>올가을 &lt;b&gt;나스닥&lt;/b&gt;에 상장한다. 흥행에 성공할지 이목이 쏠린다. 11일(현지시간) 파이낸셜타임스(FT)는 사안에 정통한 복수의 소식통을 인용해 ARM을 자회사로 둔 소프트뱅크와 &lt;b&gt;나스닥&lt;/b&gt;거래소가 지난 10일 ARM 상장에 잠정... </description><pubDate>Wed, 12 Apr 2023 10:34:00 +0900</pubDate></item><item><title>[오전 시황] 2560선 넘보는 코스피…2차전지·자동차株 주목</title><originallink>https://www.sedaily.com/NewsView/29O9VGR4K0</originallink><link>https://n.news.naver.com/mnews/article/011/0004178056?sid=101</link><description>27포인트(0.29%) 오른 3만3684.79로 거래를 마쳤다. 스탠더드앤드푸어스(S&amp;amp;P)500지수는 전장보다 0.17포인트(0.00%) 하락한 4108.94로, &lt;b&gt;나스닥&lt;/b&gt;지수는 전장보다 52.48포인트(0.43%) 떨어진 1만2031.88로 장을 마감했다.</description><pubDate>Wed, 12 Apr 2023 10:33:00 +0900</pubDate></item><item><title>[마켓ING]美 경제지표 발표 앞두고 관망세</title><originallink>https://view.asiae.co.kr/article/2023041210281409377</originallink><link>https://n.news.naver.com/mnews/article/277/0005244362?sid=101</link><description>S&amp;amp;P500지수는 0.0%로 거의 움직임이 없었고 &lt;b&gt;나스닥&lt;/b&gt;지수는 0.43% 하락 마감했다. 서상영 미래에셋증권 연구원은 &amp;quot;전일 ‘미국 증시가 금융시스템 불안 등이 여전하지만 확대되지 않을 경우 견고한 성장이 이어질 수 있다’... </description><pubDate>Wed, 12 Apr 2023 10:33:00 +0900</pubDate></item><item><title>[코인시황] 비트코인 3만달러 이상에서 견고하게 유지…CPI, 샤펠라 업그레이...</title><originallink>https://www.coindeskkorea.com/news/articleView.html?idxno=90918</originallink><link>https://www.coindeskkorea.com/news/articleView.html?idxno=90918</link><description>스탠더드앤드푸어스(S&amp;amp;P)500 지수는 보합세로 마감했고, &lt;b&gt;나스닥&lt;/b&gt; 지수는 0.4% 하락했다. 다우존스 산업평균지수(DJIA)는 0.2% 올랐다. 영어기사 : 최윤영 번역, 김기만 코인데스크 코리아 편집</description><pubDate>Wed, 12 Apr 2023 10:32:00 +0900</pubDate></item><item><title>[해외시황] 뉴욕증시, 물가 지표 앞두고 혼조…다우 0.2%↑</title><originallink>http://www.newsprime.co.kr/news/article.html?no=598450</originallink><link>http://www.newsprime.co.kr/news/article.html?no=598450</link><description>기술주 중심 &lt;b&gt;나스닥&lt;/b&gt; 지수는 52.48p(-0.43%) 하락한 1만2031.88에 장을 마쳤다. 이날 시장은 다음날 나오는 3월 CPI 보고서와 연방공개시장위원회(FOMC) 정례회의 의사록을 주시했다. 월스트리트저널(WSJ)에 따르면... </description><pubDate>Wed, 12 Apr 2023 10:30:00 +0900</pubDate></item><item><title>&amp;quot;美 물가상승률 6% 넘으면 S&amp;amp;P 500 지수 최소 2% 하락 전망&amp;quot;</title><originallink>https://www.yna.co.kr/view/AKR20230412058300009?input=1195m</originallink><link>https://n.news.naver.com/mnews/article/001/0013875170?sid=101</link><description>S&amp;amp;P500 지수는 전장보다 0.17포인트(0.00%), &lt;b&gt;나스닥&lt;/b&gt;지수는 52.48포인트(0.43%) 각각 떨어졌다. 지난해부터 미국 연방준비제도(연준·Fed)가 공격적으로 금리를 인상한 이후 CPI는 주식 시장 변동성을 높인 요인 중 하나가... </description><pubDate>Wed, 12 Apr 2023 10:28:00 +0900</pubDate></item></channel></rss>'"
            ]
          },
          "execution_count": 12,
          "metadata": {},
          "output_type": "execute_result"
        }
      ],
      "source": [
        "news_xml"
      ]
    },
    {
      "cell_type": "code",
      "execution_count": null,
      "metadata": {
        "colab": {
          "base_uri": "https://localhost:8080/",
          "height": 1000
        },
        "id": "StdNEOQQtT9B",
        "outputId": "461b41c3-3322-4f9b-c70e-acadc3bc7503"
      },
      "outputs": [
        {
          "data": {
            "text/html": [
              "\n",
              "  <div id=\"df-93cd2267-4eb5-4b08-b4dc-6622ac2a2b3f\">\n",
              "    <div class=\"colab-df-container\">\n",
              "      <div>\n",
              "<style scoped>\n",
              "    .dataframe tbody tr th:only-of-type {\n",
              "        vertical-align: middle;\n",
              "    }\n",
              "\n",
              "    .dataframe tbody tr th {\n",
              "        vertical-align: top;\n",
              "    }\n",
              "\n",
              "    .dataframe thead th {\n",
              "        text-align: right;\n",
              "    }\n",
              "</style>\n",
              "<table border=\"1\" class=\"dataframe\">\n",
              "  <thead>\n",
              "    <tr style=\"text-align: right;\">\n",
              "      <th></th>\n",
              "      <th>title</th>\n",
              "      <th>originallink</th>\n",
              "      <th>link</th>\n",
              "      <th>description</th>\n",
              "      <th>pubDate</th>\n",
              "    </tr>\n",
              "  </thead>\n",
              "  <tbody>\n",
              "    <tr>\n",
              "      <th>0</th>\n",
              "      <td>&amp;quot;美 물가상승률 6% 넘으면 S&amp;amp;P 500 지수 최소 2% 하락&amp;q...</td>\n",
              "      <td>http://www.wowtv.co.kr/NewsCenter/News/Read?ar...</td>\n",
              "      <td>https://n.news.naver.com/mnews/article/215/000...</td>\n",
              "      <td>S&amp;amp;P500 지수는 전장보다 0.17포인트(0.00%), &lt;b&gt;나스닥&lt;/b&gt;...</td>\n",
              "      <td>Wed, 12 Apr 2023 10:42:00 +0900</td>\n",
              "    </tr>\n",
              "    <tr>\n",
              "      <th>1</th>\n",
              "      <td>&amp;apos;키움 &lt;b&gt;나스닥&lt;/b&gt;100 ETF 스마트인베스터 분할매수 펀드&amp;apo...</td>\n",
              "      <td>http://www.lcnews.co.kr/news/articleView.html?...</td>\n",
              "      <td>http://www.lcnews.co.kr/news/articleView.html?...</td>\n",
              "      <td>키움투자자산운용이 &amp;apos;키움 &lt;b&gt;나스닥&lt;/b&gt;100 ETF Smart Inv...</td>\n",
              "      <td>Wed, 12 Apr 2023 10:40:00 +0900</td>\n",
              "    </tr>\n",
              "    <tr>\n",
              "      <th>2</th>\n",
              "      <td>코스피 개인 외국인 매수세에 장중 2550선 강보합, 코스닥은 소폭 내려</td>\n",
              "      <td>https://www.businesspost.co.kr/BP?command=arti...</td>\n",
              "      <td>https://www.businesspost.co.kr/BP?command=arti...</td>\n",
              "      <td>다우존스30산업평균지수(0.29%)가 올랐고 &lt;b&gt;나스닥&lt;/b&gt;지수(-0.43%)가...</td>\n",
              "      <td>Wed, 12 Apr 2023 10:38:00 +0900</td>\n",
              "    </tr>\n",
              "    <tr>\n",
              "      <th>3</th>\n",
              "      <td>[종합] 코스피, 개인·외국인 ‘사자’에 장초반 강보합</td>\n",
              "      <td>https://www.etoday.co.kr/news/view/2239729</td>\n",
              "      <td>https://www.etoday.co.kr/news/view/2239729</td>\n",
              "      <td>S&amp;amp;P500지수는 0.17포인트(0.0%) 하락한 4108.94에, 기술주 ...</td>\n",
              "      <td>Wed, 12 Apr 2023 10:36:00 +0900</td>\n",
              "    </tr>\n",
              "    <tr>\n",
              "      <th>4</th>\n",
              "      <td>&amp;apos;매각 실패&amp;apos; 손정의 반도체 회사 ARM, &lt;b&gt;나스닥&lt;/b&gt; 상장한다</td>\n",
              "      <td>http://news.mt.co.kr/mtview.php?no=20230412101...</td>\n",
              "      <td>https://n.news.naver.com/mnews/article/008/000...</td>\n",
              "      <td>올가을 &lt;b&gt;나스닥&lt;/b&gt;에 상장한다. 흥행에 성공할지 이목이 쏠린다. 11일(현지...</td>\n",
              "      <td>Wed, 12 Apr 2023 10:34:00 +0900</td>\n",
              "    </tr>\n",
              "    <tr>\n",
              "      <th>5</th>\n",
              "      <td>[오전 시황] 2560선 넘보는 코스피…2차전지·자동차株 주목</td>\n",
              "      <td>https://www.sedaily.com/NewsView/29O9VGR4K0</td>\n",
              "      <td>https://n.news.naver.com/mnews/article/011/000...</td>\n",
              "      <td>27포인트(0.29%) 오른 3만3684.79로 거래를 마쳤다. 스탠더드앤드푸어스(...</td>\n",
              "      <td>Wed, 12 Apr 2023 10:33:00 +0900</td>\n",
              "    </tr>\n",
              "    <tr>\n",
              "      <th>6</th>\n",
              "      <td>[마켓ING]美 경제지표 발표 앞두고 관망세</td>\n",
              "      <td>https://view.asiae.co.kr/article/2023041210281...</td>\n",
              "      <td>https://n.news.naver.com/mnews/article/277/000...</td>\n",
              "      <td>S&amp;amp;P500지수는 0.0%로 거의 움직임이 없었고 &lt;b&gt;나스닥&lt;/b&gt;지수는 ...</td>\n",
              "      <td>Wed, 12 Apr 2023 10:33:00 +0900</td>\n",
              "    </tr>\n",
              "    <tr>\n",
              "      <th>7</th>\n",
              "      <td>[코인시황] 비트코인 3만달러 이상에서 견고하게 유지…CPI, 샤펠라 업그레이...</td>\n",
              "      <td>https://www.coindeskkorea.com/news/articleView...</td>\n",
              "      <td>https://www.coindeskkorea.com/news/articleView...</td>\n",
              "      <td>스탠더드앤드푸어스(S&amp;amp;P)500 지수는 보합세로 마감했고, &lt;b&gt;나스닥&lt;/b...</td>\n",
              "      <td>Wed, 12 Apr 2023 10:32:00 +0900</td>\n",
              "    </tr>\n",
              "    <tr>\n",
              "      <th>8</th>\n",
              "      <td>[해외시황] 뉴욕증시, 물가 지표 앞두고 혼조…다우 0.2%↑</td>\n",
              "      <td>http://www.newsprime.co.kr/news/article.html?n...</td>\n",
              "      <td>http://www.newsprime.co.kr/news/article.html?n...</td>\n",
              "      <td>기술주 중심 &lt;b&gt;나스닥&lt;/b&gt; 지수는 52.48p(-0.43%) 하락한 1만203...</td>\n",
              "      <td>Wed, 12 Apr 2023 10:30:00 +0900</td>\n",
              "    </tr>\n",
              "    <tr>\n",
              "      <th>9</th>\n",
              "      <td>&amp;quot;美 물가상승률 6% 넘으면 S&amp;amp;P 500 지수 최소 2% 하락 전...</td>\n",
              "      <td>https://www.yna.co.kr/view/AKR2023041205830000...</td>\n",
              "      <td>https://n.news.naver.com/mnews/article/001/001...</td>\n",
              "      <td>S&amp;amp;P500 지수는 전장보다 0.17포인트(0.00%), &lt;b&gt;나스닥&lt;/b&gt;...</td>\n",
              "      <td>Wed, 12 Apr 2023 10:28:00 +0900</td>\n",
              "    </tr>\n",
              "  </tbody>\n",
              "</table>\n",
              "</div>\n",
              "      <button class=\"colab-df-convert\" onclick=\"convertToInteractive('df-93cd2267-4eb5-4b08-b4dc-6622ac2a2b3f')\"\n",
              "              title=\"Convert this dataframe to an interactive table.\"\n",
              "              style=\"display:none;\">\n",
              "        \n",
              "  <svg xmlns=\"http://www.w3.org/2000/svg\" height=\"24px\"viewBox=\"0 0 24 24\"\n",
              "       width=\"24px\">\n",
              "    <path d=\"M0 0h24v24H0V0z\" fill=\"none\"/>\n",
              "    <path d=\"M18.56 5.44l.94 2.06.94-2.06 2.06-.94-2.06-.94-.94-2.06-.94 2.06-2.06.94zm-11 1L8.5 8.5l.94-2.06 2.06-.94-2.06-.94L8.5 2.5l-.94 2.06-2.06.94zm10 10l.94 2.06.94-2.06 2.06-.94-2.06-.94-.94-2.06-.94 2.06-2.06.94z\"/><path d=\"M17.41 7.96l-1.37-1.37c-.4-.4-.92-.59-1.43-.59-.52 0-1.04.2-1.43.59L10.3 9.45l-7.72 7.72c-.78.78-.78 2.05 0 2.83L4 21.41c.39.39.9.59 1.41.59.51 0 1.02-.2 1.41-.59l7.78-7.78 2.81-2.81c.8-.78.8-2.07 0-2.86zM5.41 20L4 18.59l7.72-7.72 1.47 1.35L5.41 20z\"/>\n",
              "  </svg>\n",
              "      </button>\n",
              "      \n",
              "  <style>\n",
              "    .colab-df-container {\n",
              "      display:flex;\n",
              "      flex-wrap:wrap;\n",
              "      gap: 12px;\n",
              "    }\n",
              "\n",
              "    .colab-df-convert {\n",
              "      background-color: #E8F0FE;\n",
              "      border: none;\n",
              "      border-radius: 50%;\n",
              "      cursor: pointer;\n",
              "      display: none;\n",
              "      fill: #1967D2;\n",
              "      height: 32px;\n",
              "      padding: 0 0 0 0;\n",
              "      width: 32px;\n",
              "    }\n",
              "\n",
              "    .colab-df-convert:hover {\n",
              "      background-color: #E2EBFA;\n",
              "      box-shadow: 0px 1px 2px rgba(60, 64, 67, 0.3), 0px 1px 3px 1px rgba(60, 64, 67, 0.15);\n",
              "      fill: #174EA6;\n",
              "    }\n",
              "\n",
              "    [theme=dark] .colab-df-convert {\n",
              "      background-color: #3B4455;\n",
              "      fill: #D2E3FC;\n",
              "    }\n",
              "\n",
              "    [theme=dark] .colab-df-convert:hover {\n",
              "      background-color: #434B5C;\n",
              "      box-shadow: 0px 1px 3px 1px rgba(0, 0, 0, 0.15);\n",
              "      filter: drop-shadow(0px 1px 2px rgba(0, 0, 0, 0.3));\n",
              "      fill: #FFFFFF;\n",
              "    }\n",
              "  </style>\n",
              "\n",
              "      <script>\n",
              "        const buttonEl =\n",
              "          document.querySelector('#df-93cd2267-4eb5-4b08-b4dc-6622ac2a2b3f button.colab-df-convert');\n",
              "        buttonEl.style.display =\n",
              "          google.colab.kernel.accessAllowed ? 'block' : 'none';\n",
              "\n",
              "        async function convertToInteractive(key) {\n",
              "          const element = document.querySelector('#df-93cd2267-4eb5-4b08-b4dc-6622ac2a2b3f');\n",
              "          const dataTable =\n",
              "            await google.colab.kernel.invokeFunction('convertToInteractive',\n",
              "                                                     [key], {});\n",
              "          if (!dataTable) return;\n",
              "\n",
              "          const docLinkHtml = 'Like what you see? Visit the ' +\n",
              "            '<a target=\"_blank\" href=https://colab.research.google.com/notebooks/data_table.ipynb>data table notebook</a>'\n",
              "            + ' to learn more about interactive tables.';\n",
              "          element.innerHTML = '';\n",
              "          dataTable['output_type'] = 'display_data';\n",
              "          await google.colab.output.renderOutput(dataTable, element);\n",
              "          const docLink = document.createElement('div');\n",
              "          docLink.innerHTML = docLinkHtml;\n",
              "          element.appendChild(docLink);\n",
              "        }\n",
              "      </script>\n",
              "    </div>\n",
              "  </div>\n",
              "  "
            ],
            "text/plain": [
              "                                               title  \\\n",
              "0  &quot;美 물가상승률 6% 넘으면 S&amp;P 500 지수 최소 2% 하락&q...   \n",
              "1  &apos;키움 <b>나스닥</b>100 ETF 스마트인베스터 분할매수 펀드&apo...   \n",
              "2           코스피 개인 외국인 매수세에 장중 2550선 강보합, 코스닥은 소폭 내려   \n",
              "3                     [종합] 코스피, 개인·외국인 ‘사자’에 장초반 강보합   \n",
              "4  &apos;매각 실패&apos; 손정의 반도체 회사 ARM, <b>나스닥</b> 상장한다   \n",
              "5                 [오전 시황] 2560선 넘보는 코스피…2차전지·자동차株 주목   \n",
              "6                           [마켓ING]美 경제지표 발표 앞두고 관망세   \n",
              "7     [코인시황] 비트코인 3만달러 이상에서 견고하게 유지…CPI, 샤펠라 업그레이...   \n",
              "8                 [해외시황] 뉴욕증시, 물가 지표 앞두고 혼조…다우 0.2%↑   \n",
              "9  &quot;美 물가상승률 6% 넘으면 S&amp;P 500 지수 최소 2% 하락 전...   \n",
              "\n",
              "                                        originallink  \\\n",
              "0  http://www.wowtv.co.kr/NewsCenter/News/Read?ar...   \n",
              "1  http://www.lcnews.co.kr/news/articleView.html?...   \n",
              "2  https://www.businesspost.co.kr/BP?command=arti...   \n",
              "3         https://www.etoday.co.kr/news/view/2239729   \n",
              "4  http://news.mt.co.kr/mtview.php?no=20230412101...   \n",
              "5        https://www.sedaily.com/NewsView/29O9VGR4K0   \n",
              "6  https://view.asiae.co.kr/article/2023041210281...   \n",
              "7  https://www.coindeskkorea.com/news/articleView...   \n",
              "8  http://www.newsprime.co.kr/news/article.html?n...   \n",
              "9  https://www.yna.co.kr/view/AKR2023041205830000...   \n",
              "\n",
              "                                                link  \\\n",
              "0  https://n.news.naver.com/mnews/article/215/000...   \n",
              "1  http://www.lcnews.co.kr/news/articleView.html?...   \n",
              "2  https://www.businesspost.co.kr/BP?command=arti...   \n",
              "3         https://www.etoday.co.kr/news/view/2239729   \n",
              "4  https://n.news.naver.com/mnews/article/008/000...   \n",
              "5  https://n.news.naver.com/mnews/article/011/000...   \n",
              "6  https://n.news.naver.com/mnews/article/277/000...   \n",
              "7  https://www.coindeskkorea.com/news/articleView...   \n",
              "8  http://www.newsprime.co.kr/news/article.html?n...   \n",
              "9  https://n.news.naver.com/mnews/article/001/001...   \n",
              "\n",
              "                                         description  \\\n",
              "0  S&amp;P500 지수는 전장보다 0.17포인트(0.00%), <b>나스닥</b>...   \n",
              "1  키움투자자산운용이 &apos;키움 <b>나스닥</b>100 ETF Smart Inv...   \n",
              "2  다우존스30산업평균지수(0.29%)가 올랐고 <b>나스닥</b>지수(-0.43%)가...   \n",
              "3  S&amp;P500지수는 0.17포인트(0.0%) 하락한 4108.94에, 기술주 ...   \n",
              "4  올가을 <b>나스닥</b>에 상장한다. 흥행에 성공할지 이목이 쏠린다. 11일(현지...   \n",
              "5  27포인트(0.29%) 오른 3만3684.79로 거래를 마쳤다. 스탠더드앤드푸어스(...   \n",
              "6  S&amp;P500지수는 0.0%로 거의 움직임이 없었고 <b>나스닥</b>지수는 ...   \n",
              "7  스탠더드앤드푸어스(S&amp;P)500 지수는 보합세로 마감했고, <b>나스닥</b...   \n",
              "8  기술주 중심 <b>나스닥</b> 지수는 52.48p(-0.43%) 하락한 1만203...   \n",
              "9  S&amp;P500 지수는 전장보다 0.17포인트(0.00%), <b>나스닥</b>...   \n",
              "\n",
              "                           pubDate  \n",
              "0  Wed, 12 Apr 2023 10:42:00 +0900  \n",
              "1  Wed, 12 Apr 2023 10:40:00 +0900  \n",
              "2  Wed, 12 Apr 2023 10:38:00 +0900  \n",
              "3  Wed, 12 Apr 2023 10:36:00 +0900  \n",
              "4  Wed, 12 Apr 2023 10:34:00 +0900  \n",
              "5  Wed, 12 Apr 2023 10:33:00 +0900  \n",
              "6  Wed, 12 Apr 2023 10:33:00 +0900  \n",
              "7  Wed, 12 Apr 2023 10:32:00 +0900  \n",
              "8  Wed, 12 Apr 2023 10:30:00 +0900  \n",
              "9  Wed, 12 Apr 2023 10:28:00 +0900  "
            ]
          },
          "execution_count": 13,
          "metadata": {},
          "output_type": "execute_result"
        }
      ],
      "source": [
        "#xpath=.//item에 있는 정보를 읽는다.\n",
        "#describtion:기사의 요약정보\n",
        "news = pd.read_xml(news_xml, xpath = './/item')\n",
        "news"
      ]
    },
    {
      "cell_type": "code",
      "execution_count": null,
      "metadata": {
        "colab": {
          "base_uri": "https://localhost:8080/",
          "height": 72
        },
        "id": "2GK2DcxODP_Q",
        "outputId": "cdc94eb6-cd92-4e23-ec4e-22d46e500b06"
      },
      "outputs": [
        {
          "data": {
            "application/vnd.google.colaboratory.intrinsic+json": {
              "type": "string"
            },
            "text/plain": [
              "'S&amp;P500 지수는 전장보다 0.17포인트(0.00%), <b>나스닥</b>지수는 52.48포인트(0.43%) 각각 떨어졌다. 지난해부터 미국 연방준비제도(연준·Fed)가 공격적으로 금리를 인상한 이후 CPI는 주식 시장 변동성을 높인 요인 중 하나가...'"
            ]
          },
          "execution_count": 14,
          "metadata": {},
          "output_type": "execute_result"
        }
      ],
      "source": [
        "#re는 정규식 모듈\n",
        "#%%\n",
        "import re\n",
        "news['description'][0]"
      ]
    },
    {
      "cell_type": "code",
      "execution_count": null,
      "metadata": {
        "colab": {
          "base_uri": "https://localhost:8080/",
          "height": 72
        },
        "id": "v7QlsgQ4GvK7",
        "outputId": "9f7192a2-a3b2-4f62-ce21-8321f09d0960"
      },
      "outputs": [
        {
          "data": {
            "application/vnd.google.colaboratory.intrinsic+json": {
              "type": "string"
            },
            "text/plain": [
              "'S&amp;P500 지수는 전장보다 0.17포인트(0.00%), 나스닥지수는 52.48포인트(0.43%) 각각 떨어졌다. 지난해부터 미국 연방준비제도(연준·Fed)가 공격적으로 금리를 인상한 이후 CPI는 주식 시장 변동성을 높인 요인 중 하나가...'"
            ]
          },
          "execution_count": 15,
          "metadata": {},
          "output_type": "execute_result"
        }
      ],
      "source": [
        "# 태그(<.*?>)를 지우겠다는 의미\n",
        "re.sub('<.*?>', '', news['description'][0])"
      ]
    },
    {
      "cell_type": "code",
      "execution_count": null,
      "metadata": {
        "colab": {
          "base_uri": "https://localhost:8080/",
          "height": 72
        },
        "id": "jYnhBd9XGbTW",
        "outputId": "4d8eb918-c3d7-4fbe-f3ad-69e17d64a3d5"
      },
      "outputs": [
        {
          "data": {
            "application/vnd.google.colaboratory.intrinsic+json": {
              "type": "string"
            },
            "text/plain": [
              "'S&amp;P500 지수는 전장보다 0.17포인트(0.00%), 나스닥지수는 52.48포인트(0.43%) 각각 떨어졌다. 지난해부터 미국 연방준비제도(연준·Fed)가 공격적으로 금리를 인상한 이후 CPI는 주식 시장 변동성을 높인 요인 중 하나가...'"
            ]
          },
          "execution_count": 16,
          "metadata": {},
          "output_type": "execute_result"
        }
      ],
      "source": [
        "text = re.sub('<.*?>', '', news['description'][0])\n",
        "text\n",
        "re.sub('\\\\u2008', ' ', text)"
      ]
    },
    {
      "cell_type": "code",
      "execution_count": null,
      "metadata": {
        "colab": {
          "base_uri": "https://localhost:8080/",
          "height": 36
        },
        "id": "nKye49MJFACi",
        "outputId": "9be64614-8c46-41ee-f6ab-0f1130b65595"
      },
      "outputs": [
        {
          "data": {
            "application/vnd.google.colaboratory.intrinsic+json": {
              "type": "string"
            },
            "text/plain": [
              "'코스피 개인 외국인 매수세에 장중 2550선 강보합, 코스닥은 소폭 내려'"
            ]
          },
          "execution_count": 17,
          "metadata": {},
          "output_type": "execute_result"
        }
      ],
      "source": [
        "news['title'][2]"
      ]
    },
    {
      "cell_type": "code",
      "execution_count": null,
      "metadata": {
        "colab": {
          "base_uri": "https://localhost:8080/",
          "height": 36
        },
        "id": "tW1HTAyKHg7V",
        "outputId": "977fc462-b0ad-4180-be6e-0f4310b31b8c"
      },
      "outputs": [
        {
          "data": {
            "application/vnd.google.colaboratory.intrinsic+json": {
              "type": "string"
            },
            "text/plain": [
              "'코스피 개인 외국인 매수세에 장중 2550선 강보합, 코스닥은 소폭 내려'"
            ]
          },
          "execution_count": 18,
          "metadata": {},
          "output_type": "execute_result"
        }
      ],
      "source": [
        "re.sub('&apos;', '', news['title'][2])"
      ]
    },
    {
      "cell_type": "code",
      "execution_count": null,
      "metadata": {
        "id": "9ssYNbSLFSD8"
      },
      "outputs": [],
      "source": [
        "def cleaning(text):\n",
        "    text = re.sub('<.*?>', '', text)\n",
        "    text = re.sub('&apos;', '', text)\n",
        "    return(text)\n",
        "\n",
        "news['title'] = news['title'].map(lambda x: cleaning(x))\n",
        "news['description'] = news['description'].map(lambda x: cleaning(x))"
      ]
    },
    {
      "cell_type": "code",
      "execution_count": null,
      "metadata": {
        "colab": {
          "base_uri": "https://localhost:8080/",
          "height": 1000
        },
        "id": "H5QczZU7Hn-p",
        "outputId": "6c040f9f-3d39-4c0f-f385-7063a1b34c6e"
      },
      "outputs": [
        {
          "data": {
            "text/html": [
              "\n",
              "  <div id=\"df-25c3fe1a-f729-4237-8d18-1c79119c0d55\">\n",
              "    <div class=\"colab-df-container\">\n",
              "      <div>\n",
              "<style scoped>\n",
              "    .dataframe tbody tr th:only-of-type {\n",
              "        vertical-align: middle;\n",
              "    }\n",
              "\n",
              "    .dataframe tbody tr th {\n",
              "        vertical-align: top;\n",
              "    }\n",
              "\n",
              "    .dataframe thead th {\n",
              "        text-align: right;\n",
              "    }\n",
              "</style>\n",
              "<table border=\"1\" class=\"dataframe\">\n",
              "  <thead>\n",
              "    <tr style=\"text-align: right;\">\n",
              "      <th></th>\n",
              "      <th>title</th>\n",
              "      <th>originallink</th>\n",
              "      <th>link</th>\n",
              "      <th>description</th>\n",
              "      <th>pubDate</th>\n",
              "    </tr>\n",
              "  </thead>\n",
              "  <tbody>\n",
              "    <tr>\n",
              "      <th>0</th>\n",
              "      <td>&amp;quot;美 물가상승률 6% 넘으면 S&amp;amp;P 500 지수 최소 2% 하락&amp;q...</td>\n",
              "      <td>http://www.wowtv.co.kr/NewsCenter/News/Read?ar...</td>\n",
              "      <td>https://n.news.naver.com/mnews/article/215/000...</td>\n",
              "      <td>S&amp;amp;P500 지수는 전장보다 0.17포인트(0.00%), 나스닥지수는 52....</td>\n",
              "      <td>Wed, 12 Apr 2023 10:42:00 +0900</td>\n",
              "    </tr>\n",
              "    <tr>\n",
              "      <th>1</th>\n",
              "      <td>키움 나스닥100 ETF 스마트인베스터 분할매수 펀드 판매 개시</td>\n",
              "      <td>http://www.lcnews.co.kr/news/articleView.html?...</td>\n",
              "      <td>http://www.lcnews.co.kr/news/articleView.html?...</td>\n",
              "      <td>키움투자자산운용이 키움 나스닥100 ETF Smart Investor 분할매수 펀드...</td>\n",
              "      <td>Wed, 12 Apr 2023 10:40:00 +0900</td>\n",
              "    </tr>\n",
              "    <tr>\n",
              "      <th>2</th>\n",
              "      <td>코스피 개인 외국인 매수세에 장중 2550선 강보합, 코스닥은 소폭 내려</td>\n",
              "      <td>https://www.businesspost.co.kr/BP?command=arti...</td>\n",
              "      <td>https://www.businesspost.co.kr/BP?command=arti...</td>\n",
              "      <td>다우존스30산업평균지수(0.29%)가 올랐고 나스닥지수(-0.43%)가 내렸다. 스...</td>\n",
              "      <td>Wed, 12 Apr 2023 10:38:00 +0900</td>\n",
              "    </tr>\n",
              "    <tr>\n",
              "      <th>3</th>\n",
              "      <td>[종합] 코스피, 개인·외국인 ‘사자’에 장초반 강보합</td>\n",
              "      <td>https://www.etoday.co.kr/news/view/2239729</td>\n",
              "      <td>https://www.etoday.co.kr/news/view/2239729</td>\n",
              "      <td>S&amp;amp;P500지수는 0.17포인트(0.0%) 하락한 4108.94에, 기술주 ...</td>\n",
              "      <td>Wed, 12 Apr 2023 10:36:00 +0900</td>\n",
              "    </tr>\n",
              "    <tr>\n",
              "      <th>4</th>\n",
              "      <td>매각 실패 손정의 반도체 회사 ARM, 나스닥 상장한다</td>\n",
              "      <td>http://news.mt.co.kr/mtview.php?no=20230412101...</td>\n",
              "      <td>https://n.news.naver.com/mnews/article/008/000...</td>\n",
              "      <td>올가을 나스닥에 상장한다. 흥행에 성공할지 이목이 쏠린다. 11일(현지시간) 파이낸...</td>\n",
              "      <td>Wed, 12 Apr 2023 10:34:00 +0900</td>\n",
              "    </tr>\n",
              "    <tr>\n",
              "      <th>5</th>\n",
              "      <td>[오전 시황] 2560선 넘보는 코스피…2차전지·자동차株 주목</td>\n",
              "      <td>https://www.sedaily.com/NewsView/29O9VGR4K0</td>\n",
              "      <td>https://n.news.naver.com/mnews/article/011/000...</td>\n",
              "      <td>27포인트(0.29%) 오른 3만3684.79로 거래를 마쳤다. 스탠더드앤드푸어스(...</td>\n",
              "      <td>Wed, 12 Apr 2023 10:33:00 +0900</td>\n",
              "    </tr>\n",
              "    <tr>\n",
              "      <th>6</th>\n",
              "      <td>[마켓ING]美 경제지표 발표 앞두고 관망세</td>\n",
              "      <td>https://view.asiae.co.kr/article/2023041210281...</td>\n",
              "      <td>https://n.news.naver.com/mnews/article/277/000...</td>\n",
              "      <td>S&amp;amp;P500지수는 0.0%로 거의 움직임이 없었고 나스닥지수는 0.43% 하...</td>\n",
              "      <td>Wed, 12 Apr 2023 10:33:00 +0900</td>\n",
              "    </tr>\n",
              "    <tr>\n",
              "      <th>7</th>\n",
              "      <td>[코인시황] 비트코인 3만달러 이상에서 견고하게 유지…CPI, 샤펠라 업그레이...</td>\n",
              "      <td>https://www.coindeskkorea.com/news/articleView...</td>\n",
              "      <td>https://www.coindeskkorea.com/news/articleView...</td>\n",
              "      <td>스탠더드앤드푸어스(S&amp;amp;P)500 지수는 보합세로 마감했고, 나스닥 지수는 0...</td>\n",
              "      <td>Wed, 12 Apr 2023 10:32:00 +0900</td>\n",
              "    </tr>\n",
              "    <tr>\n",
              "      <th>8</th>\n",
              "      <td>[해외시황] 뉴욕증시, 물가 지표 앞두고 혼조…다우 0.2%↑</td>\n",
              "      <td>http://www.newsprime.co.kr/news/article.html?n...</td>\n",
              "      <td>http://www.newsprime.co.kr/news/article.html?n...</td>\n",
              "      <td>기술주 중심 나스닥 지수는 52.48p(-0.43%) 하락한 1만2031.88에 장...</td>\n",
              "      <td>Wed, 12 Apr 2023 10:30:00 +0900</td>\n",
              "    </tr>\n",
              "    <tr>\n",
              "      <th>9</th>\n",
              "      <td>&amp;quot;美 물가상승률 6% 넘으면 S&amp;amp;P 500 지수 최소 2% 하락 전...</td>\n",
              "      <td>https://www.yna.co.kr/view/AKR2023041205830000...</td>\n",
              "      <td>https://n.news.naver.com/mnews/article/001/001...</td>\n",
              "      <td>S&amp;amp;P500 지수는 전장보다 0.17포인트(0.00%), 나스닥지수는 52....</td>\n",
              "      <td>Wed, 12 Apr 2023 10:28:00 +0900</td>\n",
              "    </tr>\n",
              "  </tbody>\n",
              "</table>\n",
              "</div>\n",
              "      <button class=\"colab-df-convert\" onclick=\"convertToInteractive('df-25c3fe1a-f729-4237-8d18-1c79119c0d55')\"\n",
              "              title=\"Convert this dataframe to an interactive table.\"\n",
              "              style=\"display:none;\">\n",
              "        \n",
              "  <svg xmlns=\"http://www.w3.org/2000/svg\" height=\"24px\"viewBox=\"0 0 24 24\"\n",
              "       width=\"24px\">\n",
              "    <path d=\"M0 0h24v24H0V0z\" fill=\"none\"/>\n",
              "    <path d=\"M18.56 5.44l.94 2.06.94-2.06 2.06-.94-2.06-.94-.94-2.06-.94 2.06-2.06.94zm-11 1L8.5 8.5l.94-2.06 2.06-.94-2.06-.94L8.5 2.5l-.94 2.06-2.06.94zm10 10l.94 2.06.94-2.06 2.06-.94-2.06-.94-.94-2.06-.94 2.06-2.06.94z\"/><path d=\"M17.41 7.96l-1.37-1.37c-.4-.4-.92-.59-1.43-.59-.52 0-1.04.2-1.43.59L10.3 9.45l-7.72 7.72c-.78.78-.78 2.05 0 2.83L4 21.41c.39.39.9.59 1.41.59.51 0 1.02-.2 1.41-.59l7.78-7.78 2.81-2.81c.8-.78.8-2.07 0-2.86zM5.41 20L4 18.59l7.72-7.72 1.47 1.35L5.41 20z\"/>\n",
              "  </svg>\n",
              "      </button>\n",
              "      \n",
              "  <style>\n",
              "    .colab-df-container {\n",
              "      display:flex;\n",
              "      flex-wrap:wrap;\n",
              "      gap: 12px;\n",
              "    }\n",
              "\n",
              "    .colab-df-convert {\n",
              "      background-color: #E8F0FE;\n",
              "      border: none;\n",
              "      border-radius: 50%;\n",
              "      cursor: pointer;\n",
              "      display: none;\n",
              "      fill: #1967D2;\n",
              "      height: 32px;\n",
              "      padding: 0 0 0 0;\n",
              "      width: 32px;\n",
              "    }\n",
              "\n",
              "    .colab-df-convert:hover {\n",
              "      background-color: #E2EBFA;\n",
              "      box-shadow: 0px 1px 2px rgba(60, 64, 67, 0.3), 0px 1px 3px 1px rgba(60, 64, 67, 0.15);\n",
              "      fill: #174EA6;\n",
              "    }\n",
              "\n",
              "    [theme=dark] .colab-df-convert {\n",
              "      background-color: #3B4455;\n",
              "      fill: #D2E3FC;\n",
              "    }\n",
              "\n",
              "    [theme=dark] .colab-df-convert:hover {\n",
              "      background-color: #434B5C;\n",
              "      box-shadow: 0px 1px 3px 1px rgba(0, 0, 0, 0.15);\n",
              "      filter: drop-shadow(0px 1px 2px rgba(0, 0, 0, 0.3));\n",
              "      fill: #FFFFFF;\n",
              "    }\n",
              "  </style>\n",
              "\n",
              "      <script>\n",
              "        const buttonEl =\n",
              "          document.querySelector('#df-25c3fe1a-f729-4237-8d18-1c79119c0d55 button.colab-df-convert');\n",
              "        buttonEl.style.display =\n",
              "          google.colab.kernel.accessAllowed ? 'block' : 'none';\n",
              "\n",
              "        async function convertToInteractive(key) {\n",
              "          const element = document.querySelector('#df-25c3fe1a-f729-4237-8d18-1c79119c0d55');\n",
              "          const dataTable =\n",
              "            await google.colab.kernel.invokeFunction('convertToInteractive',\n",
              "                                                     [key], {});\n",
              "          if (!dataTable) return;\n",
              "\n",
              "          const docLinkHtml = 'Like what you see? Visit the ' +\n",
              "            '<a target=\"_blank\" href=https://colab.research.google.com/notebooks/data_table.ipynb>data table notebook</a>'\n",
              "            + ' to learn more about interactive tables.';\n",
              "          element.innerHTML = '';\n",
              "          dataTable['output_type'] = 'display_data';\n",
              "          await google.colab.output.renderOutput(dataTable, element);\n",
              "          const docLink = document.createElement('div');\n",
              "          docLink.innerHTML = docLinkHtml;\n",
              "          element.appendChild(docLink);\n",
              "        }\n",
              "      </script>\n",
              "    </div>\n",
              "  </div>\n",
              "  "
            ],
            "text/plain": [
              "                                               title  \\\n",
              "0  &quot;美 물가상승률 6% 넘으면 S&amp;P 500 지수 최소 2% 하락&q...   \n",
              "1                키움 나스닥100 ETF 스마트인베스터 분할매수 펀드 판매 개시   \n",
              "2           코스피 개인 외국인 매수세에 장중 2550선 강보합, 코스닥은 소폭 내려   \n",
              "3                     [종합] 코스피, 개인·외국인 ‘사자’에 장초반 강보합   \n",
              "4                     매각 실패 손정의 반도체 회사 ARM, 나스닥 상장한다   \n",
              "5                 [오전 시황] 2560선 넘보는 코스피…2차전지·자동차株 주목   \n",
              "6                           [마켓ING]美 경제지표 발표 앞두고 관망세   \n",
              "7     [코인시황] 비트코인 3만달러 이상에서 견고하게 유지…CPI, 샤펠라 업그레이...   \n",
              "8                 [해외시황] 뉴욕증시, 물가 지표 앞두고 혼조…다우 0.2%↑   \n",
              "9  &quot;美 물가상승률 6% 넘으면 S&amp;P 500 지수 최소 2% 하락 전...   \n",
              "\n",
              "                                        originallink  \\\n",
              "0  http://www.wowtv.co.kr/NewsCenter/News/Read?ar...   \n",
              "1  http://www.lcnews.co.kr/news/articleView.html?...   \n",
              "2  https://www.businesspost.co.kr/BP?command=arti...   \n",
              "3         https://www.etoday.co.kr/news/view/2239729   \n",
              "4  http://news.mt.co.kr/mtview.php?no=20230412101...   \n",
              "5        https://www.sedaily.com/NewsView/29O9VGR4K0   \n",
              "6  https://view.asiae.co.kr/article/2023041210281...   \n",
              "7  https://www.coindeskkorea.com/news/articleView...   \n",
              "8  http://www.newsprime.co.kr/news/article.html?n...   \n",
              "9  https://www.yna.co.kr/view/AKR2023041205830000...   \n",
              "\n",
              "                                                link  \\\n",
              "0  https://n.news.naver.com/mnews/article/215/000...   \n",
              "1  http://www.lcnews.co.kr/news/articleView.html?...   \n",
              "2  https://www.businesspost.co.kr/BP?command=arti...   \n",
              "3         https://www.etoday.co.kr/news/view/2239729   \n",
              "4  https://n.news.naver.com/mnews/article/008/000...   \n",
              "5  https://n.news.naver.com/mnews/article/011/000...   \n",
              "6  https://n.news.naver.com/mnews/article/277/000...   \n",
              "7  https://www.coindeskkorea.com/news/articleView...   \n",
              "8  http://www.newsprime.co.kr/news/article.html?n...   \n",
              "9  https://n.news.naver.com/mnews/article/001/001...   \n",
              "\n",
              "                                         description  \\\n",
              "0  S&amp;P500 지수는 전장보다 0.17포인트(0.00%), 나스닥지수는 52....   \n",
              "1  키움투자자산운용이 키움 나스닥100 ETF Smart Investor 분할매수 펀드...   \n",
              "2  다우존스30산업평균지수(0.29%)가 올랐고 나스닥지수(-0.43%)가 내렸다. 스...   \n",
              "3  S&amp;P500지수는 0.17포인트(0.0%) 하락한 4108.94에, 기술주 ...   \n",
              "4  올가을 나스닥에 상장한다. 흥행에 성공할지 이목이 쏠린다. 11일(현지시간) 파이낸...   \n",
              "5  27포인트(0.29%) 오른 3만3684.79로 거래를 마쳤다. 스탠더드앤드푸어스(...   \n",
              "6  S&amp;P500지수는 0.0%로 거의 움직임이 없었고 나스닥지수는 0.43% 하...   \n",
              "7  스탠더드앤드푸어스(S&amp;P)500 지수는 보합세로 마감했고, 나스닥 지수는 0...   \n",
              "8  기술주 중심 나스닥 지수는 52.48p(-0.43%) 하락한 1만2031.88에 장...   \n",
              "9  S&amp;P500 지수는 전장보다 0.17포인트(0.00%), 나스닥지수는 52....   \n",
              "\n",
              "                           pubDate  \n",
              "0  Wed, 12 Apr 2023 10:42:00 +0900  \n",
              "1  Wed, 12 Apr 2023 10:40:00 +0900  \n",
              "2  Wed, 12 Apr 2023 10:38:00 +0900  \n",
              "3  Wed, 12 Apr 2023 10:36:00 +0900  \n",
              "4  Wed, 12 Apr 2023 10:34:00 +0900  \n",
              "5  Wed, 12 Apr 2023 10:33:00 +0900  \n",
              "6  Wed, 12 Apr 2023 10:33:00 +0900  \n",
              "7  Wed, 12 Apr 2023 10:32:00 +0900  \n",
              "8  Wed, 12 Apr 2023 10:30:00 +0900  \n",
              "9  Wed, 12 Apr 2023 10:28:00 +0900  "
            ]
          },
          "execution_count": 20,
          "metadata": {},
          "output_type": "execute_result"
        }
      ],
      "source": [
        "news"
      ]
    },
    {
      "cell_type": "markdown",
      "metadata": {
        "id": "l5JVwPvyHptC"
      },
      "source": [
        "# 3-3-2"
      ]
    },
    {
      "cell_type": "code",
      "execution_count": null,
      "metadata": {
        "id": "J_vKkjW2H5v_"
      },
      "outputs": [],
      "source": [
        "#%%\n",
        "import tensorflow as tf\n",
        "import tensorflow.keras as K\n",
        "from tensorflow.keras import layers\n",
        "import pandas as pd\n",
        "import re\n",
        "from tqdm import tqdm\n",
        "import numpy as np"
      ]
    },
    {
      "cell_type": "code",
      "execution_count": null,
      "metadata": {
        "colab": {
          "base_uri": "https://localhost:8080/"
        },
        "id": "_kqRdTMqoCCu",
        "outputId": "4f319991-d18c-4d55-fe0b-500cc94b440f"
      },
      "outputs": [
        {
          "name": "stdout",
          "output_type": "stream",
          "text": [
            "Looking in indexes: https://pypi.org/simple, https://us-python.pkg.dev/colab-wheels/public/simple/\n",
            "Collecting konlpy\n",
            "  Downloading konlpy-0.6.0-py2.py3-none-any.whl (19.4 MB)\n",
            "\u001b[2K     \u001b[90m━━━━━━━━━━━━━━━━━━━━━━━━━━━━━━━━━━━━━━━━\u001b[0m \u001b[32m19.4/19.4 MB\u001b[0m \u001b[31m18.8 MB/s\u001b[0m eta \u001b[36m0:00:00\u001b[0m\n",
            "\u001b[?25hCollecting JPype1>=0.7.0\n",
            "  Downloading JPype1-1.4.1-cp39-cp39-manylinux_2_12_x86_64.manylinux2010_x86_64.whl (465 kB)\n",
            "\u001b[2K     \u001b[90m━━━━━━━━━━━━━━━━━━━━━━━━━━━━━━━━━━━━━━\u001b[0m \u001b[32m465.3/465.3 kB\u001b[0m \u001b[31m24.7 MB/s\u001b[0m eta \u001b[36m0:00:00\u001b[0m\n",
            "\u001b[?25hRequirement already satisfied: numpy>=1.6 in /usr/local/lib/python3.9/dist-packages (from konlpy) (1.22.4)\n",
            "Requirement already satisfied: lxml>=4.1.0 in /usr/local/lib/python3.9/dist-packages (from konlpy) (4.9.2)\n",
            "Requirement already satisfied: packaging in /usr/local/lib/python3.9/dist-packages (from JPype1>=0.7.0->konlpy) (23.0)\n",
            "Installing collected packages: JPype1, konlpy\n",
            "Successfully installed JPype1-1.4.1 konlpy-0.6.0\n"
          ]
        }
      ],
      "source": [
        "!pip3 install konlpy"
      ]
    },
    {
      "cell_type": "code",
      "execution_count": null,
      "metadata": {
        "colab": {
          "base_uri": "https://localhost:8080/",
          "height": 248
        },
        "id": "sOzpKLRSoC_W",
        "outputId": "eee2ecff-f9f2-4177-a242-07df0a2dc5dd"
      },
      "outputs": [
        {
          "data": {
            "text/html": [
              "\n",
              "  <div id=\"df-da2617ac-0bd9-491b-9d30-08555742a021\">\n",
              "    <div class=\"colab-df-container\">\n",
              "      <div>\n",
              "<style scoped>\n",
              "    .dataframe tbody tr th:only-of-type {\n",
              "        vertical-align: middle;\n",
              "    }\n",
              "\n",
              "    .dataframe tbody tr th {\n",
              "        vertical-align: top;\n",
              "    }\n",
              "\n",
              "    .dataframe thead th {\n",
              "        text-align: right;\n",
              "    }\n",
              "</style>\n",
              "<table border=\"1\" class=\"dataframe\">\n",
              "  <thead>\n",
              "    <tr style=\"text-align: right;\">\n",
              "      <th></th>\n",
              "      <th>Unnamed: 0</th>\n",
              "      <th>content_new</th>\n",
              "      <th>소비자</th>\n",
              "    </tr>\n",
              "  </thead>\n",
              "  <tbody>\n",
              "    <tr>\n",
              "      <th>995</th>\n",
              "      <td>14322</td>\n",
              "      <td>팔레스타인 주민의 40%인 150만명이 거주하는 가자 지역은 사실상 고립돼 ...</td>\n",
              "      <td>2</td>\n",
              "    </tr>\n",
              "    <tr>\n",
              "      <th>996</th>\n",
              "      <td>14334</td>\n",
              "      <td>지난주 발표된 미국의 8월 실업률은 6.1%로 5년만에 최고치로 치솟아 경제 전망...</td>\n",
              "      <td>2</td>\n",
              "    </tr>\n",
              "    <tr>\n",
              "      <th>997</th>\n",
              "      <td>14438</td>\n",
              "      <td>특히 가계부채의 급증과 부동산 프로젝트 파이낸싱(PF) 대출 부실 가능성 경상수지...</td>\n",
              "      <td>2</td>\n",
              "    </tr>\n",
              "    <tr>\n",
              "      <th>998</th>\n",
              "      <td>14439</td>\n",
              "      <td>이 대통령이 국민과의 대화에서 언급한 가계부채 급증으로 인한 부실은 경기하락과 금...</td>\n",
              "      <td>2</td>\n",
              "    </tr>\n",
              "    <tr>\n",
              "      <th>999</th>\n",
              "      <td>14440</td>\n",
              "      <td>6월말 현재 개인이 금융기관에서 빌린 가계신용(가계대출+판매신용) 잔액은 660조3...</td>\n",
              "      <td>2</td>\n",
              "    </tr>\n",
              "  </tbody>\n",
              "</table>\n",
              "</div>\n",
              "      <button class=\"colab-df-convert\" onclick=\"convertToInteractive('df-da2617ac-0bd9-491b-9d30-08555742a021')\"\n",
              "              title=\"Convert this dataframe to an interactive table.\"\n",
              "              style=\"display:none;\">\n",
              "        \n",
              "  <svg xmlns=\"http://www.w3.org/2000/svg\" height=\"24px\"viewBox=\"0 0 24 24\"\n",
              "       width=\"24px\">\n",
              "    <path d=\"M0 0h24v24H0V0z\" fill=\"none\"/>\n",
              "    <path d=\"M18.56 5.44l.94 2.06.94-2.06 2.06-.94-2.06-.94-.94-2.06-.94 2.06-2.06.94zm-11 1L8.5 8.5l.94-2.06 2.06-.94-2.06-.94L8.5 2.5l-.94 2.06-2.06.94zm10 10l.94 2.06.94-2.06 2.06-.94-2.06-.94-.94-2.06-.94 2.06-2.06.94z\"/><path d=\"M17.41 7.96l-1.37-1.37c-.4-.4-.92-.59-1.43-.59-.52 0-1.04.2-1.43.59L10.3 9.45l-7.72 7.72c-.78.78-.78 2.05 0 2.83L4 21.41c.39.39.9.59 1.41.59.51 0 1.02-.2 1.41-.59l7.78-7.78 2.81-2.81c.8-.78.8-2.07 0-2.86zM5.41 20L4 18.59l7.72-7.72 1.47 1.35L5.41 20z\"/>\n",
              "  </svg>\n",
              "      </button>\n",
              "      \n",
              "  <style>\n",
              "    .colab-df-container {\n",
              "      display:flex;\n",
              "      flex-wrap:wrap;\n",
              "      gap: 12px;\n",
              "    }\n",
              "\n",
              "    .colab-df-convert {\n",
              "      background-color: #E8F0FE;\n",
              "      border: none;\n",
              "      border-radius: 50%;\n",
              "      cursor: pointer;\n",
              "      display: none;\n",
              "      fill: #1967D2;\n",
              "      height: 32px;\n",
              "      padding: 0 0 0 0;\n",
              "      width: 32px;\n",
              "    }\n",
              "\n",
              "    .colab-df-convert:hover {\n",
              "      background-color: #E2EBFA;\n",
              "      box-shadow: 0px 1px 2px rgba(60, 64, 67, 0.3), 0px 1px 3px 1px rgba(60, 64, 67, 0.15);\n",
              "      fill: #174EA6;\n",
              "    }\n",
              "\n",
              "    [theme=dark] .colab-df-convert {\n",
              "      background-color: #3B4455;\n",
              "      fill: #D2E3FC;\n",
              "    }\n",
              "\n",
              "    [theme=dark] .colab-df-convert:hover {\n",
              "      background-color: #434B5C;\n",
              "      box-shadow: 0px 1px 3px 1px rgba(0, 0, 0, 0.15);\n",
              "      filter: drop-shadow(0px 1px 2px rgba(0, 0, 0, 0.3));\n",
              "      fill: #FFFFFF;\n",
              "    }\n",
              "  </style>\n",
              "\n",
              "      <script>\n",
              "        const buttonEl =\n",
              "          document.querySelector('#df-da2617ac-0bd9-491b-9d30-08555742a021 button.colab-df-convert');\n",
              "        buttonEl.style.display =\n",
              "          google.colab.kernel.accessAllowed ? 'block' : 'none';\n",
              "\n",
              "        async function convertToInteractive(key) {\n",
              "          const element = document.querySelector('#df-da2617ac-0bd9-491b-9d30-08555742a021');\n",
              "          const dataTable =\n",
              "            await google.colab.kernel.invokeFunction('convertToInteractive',\n",
              "                                                     [key], {});\n",
              "          if (!dataTable) return;\n",
              "\n",
              "          const docLinkHtml = 'Like what you see? Visit the ' +\n",
              "            '<a target=\"_blank\" href=https://colab.research.google.com/notebooks/data_table.ipynb>data table notebook</a>'\n",
              "            + ' to learn more about interactive tables.';\n",
              "          element.innerHTML = '';\n",
              "          dataTable['output_type'] = 'display_data';\n",
              "          await google.colab.output.renderOutput(dataTable, element);\n",
              "          const docLink = document.createElement('div');\n",
              "          docLink.innerHTML = docLinkHtml;\n",
              "          element.appendChild(docLink);\n",
              "        }\n",
              "      </script>\n",
              "    </div>\n",
              "  </div>\n",
              "  "
            ],
            "text/plain": [
              "     Unnamed: 0                                        content_new  소비자\n",
              "995       14322      팔레스타인 주민의 40%인 150만명이 거주하는 가자 지역은 사실상 고립돼 ...    2\n",
              "996       14334   지난주 발표된 미국의 8월 실업률은 6.1%로 5년만에 최고치로 치솟아 경제 전망...    2\n",
              "997       14438   특히 가계부채의 급증과 부동산 프로젝트 파이낸싱(PF) 대출 부실 가능성 경상수지...    2\n",
              "998       14439   이 대통령이 국민과의 대화에서 언급한 가계부채 급증으로 인한 부실은 경기하락과 금...    2\n",
              "999       14440  6월말 현재 개인이 금융기관에서 빌린 가계신용(가계대출+판매신용) 잔액은 660조3...    2"
            ]
          },
          "execution_count": 23,
          "metadata": {},
          "output_type": "execute_result"
        }
      ],
      "source": [
        "from konlpy.tag import Okt #형태소 분석기 Okt 소비자 열의 1긍정 2부정\n",
        "import matplotlib.pyplot as plt\n",
        "#import os\n",
        "df = pd.read_csv(\"https://raw.githubusercontent.com/jenjong/nnet_class/master/total_sample_labeling_small.csv\", encoding='cp949')\n",
        "df.tail()"
      ]
    },
    {
      "cell_type": "markdown",
      "metadata": {
        "id": "LVRXKhX1pc8v"
      },
      "source": [
        "소비자 컬럼값 1은 긍정, 2는 부정임"
      ]
    },
    {
      "cell_type": "code",
      "execution_count": null,
      "metadata": {
        "id": "ecGN5qiIpWSI"
      },
      "outputs": [],
      "source": [
        "#corpus에는 기사 제목을 리스트로, sentimet에는 소비자열에 들어있던 긍정1  부정 2가 들어가있음\n",
        "corpus = df['content_new'].to_list()\n",
        "sentiment = df['소비자'].to_list()"
      ]
    },
    {
      "cell_type": "code",
      "execution_count": null,
      "metadata": {
        "id": "htwh9aYFpvVJ"
      },
      "outputs": [],
      "source": [
        "def clean_korean(sent):\n",
        "    if type(sent) == str:\n",
        "        #compile은 정규 표현식 객체만드는 함수 h에는 한글이 아닌 것을 저장\n",
        "        h = re.compile('[^가-힣ㄱ-ㅎㅏ-ㅣ\\\\s]+')\n",
        "        #h.sub로 한글이 아닌 h를 띄어쓰기로 바꾼다.\n",
        "        result = h.sub(' ', sent)\n",
        "        result=result.replace('\\n','').strip()\n",
        "    else:\n",
        "        result = ''\n",
        "    return result"
      ]
    },
    {
      "cell_type": "markdown",
      "metadata": {
        "id": "uZjRz1MLpy9x"
      },
      "source": [
        "- h 는 정규표현식으로 re.compile 에서 정의한 정규표현식의 패턴들을 가지고 있다.\n",
        "- result는 sent에서 넘겨받은 리스트, 문자열에 h에서 정의한 패턴을 \" \" 로 변경하는 작업을 수행한 결과를 받는다.\n",
        "- sub는 re.sub 로 regular expression method다. 반면 replace는 string 의 method다. 같은 기능을 하지만 사용법이 다르다\n",
        "- strip(): str에 앞쪽 뒤쪽 공백을 제거한다.\n"
      ]
    },
    {
      "cell_type": "code",
      "execution_count": null,
      "metadata": {
        "colab": {
          "base_uri": "https://localhost:8080/",
          "height": 54
        },
        "id": "qVbKlO5bt-g7",
        "outputId": "de79b8f7-5b97-482b-c83c-ae5917b95435"
      },
      "outputs": [
        {
          "data": {
            "application/vnd.google.colaboratory.intrinsic+json": {
              "type": "string"
            },
            "text/plain": [
              "' 미국 증시는 12월달 민간 부분 고용이 크게 늘어났다는소식이 긍정적으로 작용하면서 어제의 급락에서 벗어나 상승세를 탔지만 오후까지 이 상승세를 지키지 못하고 보합으로 장을 마감했습니다.'"
            ]
          },
          "execution_count": 26,
          "metadata": {},
          "output_type": "execute_result"
        }
      ],
      "source": [
        "corpus[0]"
      ]
    },
    {
      "cell_type": "code",
      "execution_count": null,
      "metadata": {
        "colab": {
          "base_uri": "https://localhost:8080/",
          "height": 54
        },
        "id": "wkUwsmpQsJ85",
        "outputId": "083d9451-3c88-4fb3-e465-2003a5416e6f"
      },
      "outputs": [
        {
          "data": {
            "application/vnd.google.colaboratory.intrinsic+json": {
              "type": "string"
            },
            "text/plain": [
              "'미국증시는12월달민간부분고용이크게늘어났다는소식이긍정적으로작용하면서어제의급락에서벗어나상승세를탔지만오후까지이상승세를지키지못하고보합으로장을마감했습니다.'"
            ]
          },
          "execution_count": 27,
          "metadata": {},
          "output_type": "execute_result"
        }
      ],
      "source": [
        "corpus[0].replace(\" \", \"\")"
      ]
    },
    {
      "cell_type": "code",
      "execution_count": null,
      "metadata": {
        "id": "jhIjWHXttESR"
      },
      "outputs": [],
      "source": [
        "#corpus[0].sub(\" \", \"\")"
      ]
    },
    {
      "cell_type": "code",
      "execution_count": null,
      "metadata": {
        "colab": {
          "base_uri": "https://localhost:8080/",
          "height": 54
        },
        "id": "UqHvaK0mtI5p",
        "outputId": "f4a4904b-e6a2-40af-9687-4f73344f3e73"
      },
      "outputs": [
        {
          "data": {
            "application/vnd.google.colaboratory.intrinsic+json": {
              "type": "string"
            },
            "text/plain": [
              "'미국증시는12월달민간부분고용이크게늘어났다는소식이긍정적으로작용하면서어제의급락에서벗어나상승세를탔지만오후까지이상승세를지키지못하고보합으로장을마감했습니다.'"
            ]
          },
          "execution_count": 29,
          "metadata": {},
          "output_type": "execute_result"
        }
      ],
      "source": [
        "#hh에는 띄어쓰기가 저장됨\n",
        "hh = re.compile(\" \")\n",
        "hh.sub(\"\", corpus[0])"
      ]
    },
    {
      "cell_type": "code",
      "execution_count": null,
      "metadata": {
        "colab": {
          "base_uri": "https://localhost:8080/",
          "height": 54
        },
        "id": "BEqwUUn4qxzs",
        "outputId": "99a4f895-5fcf-4d81-ff14-2369e40f1c76"
      },
      "outputs": [
        {
          "data": {
            "application/vnd.google.colaboratory.intrinsic+json": {
              "type": "string"
            },
            "text/plain": [
              "'미국 증시는  월달 민간 부분 고용이 크게 늘어났다는소식이 긍정적으로 작용하면서 어제의 급락에서 벗어나 상승세를 탔지만 오후까지 이 상승세를 지키지 못하고 보합으로 장을 마감했습니다'"
            ]
          },
          "execution_count": 30,
          "metadata": {},
          "output_type": "execute_result"
        }
      ],
      "source": [
        "clean_korean(corpus[0])"
      ]
    },
    {
      "cell_type": "code",
      "execution_count": null,
      "metadata": {
        "colab": {
          "base_uri": "https://localhost:8080/",
          "height": 36
        },
        "id": "66kDFb0z4akr",
        "outputId": "b80b5d6d-5c78-4be8-d4a8-798a8b4d57f4"
      },
      "outputs": [
        {
          "data": {
            "application/vnd.google.colaboratory.intrinsic+json": {
              "type": "string"
            },
            "text/plain": [
              "'건설업 구직자들은 올해 취업난 해소에 대한 기대감이 높은 것으로 나타났다'"
            ]
          },
          "execution_count": 31,
          "metadata": {},
          "output_type": "execute_result"
        }
      ],
      "source": [
        "clean_korean(corpus[1])"
      ]
    },
    {
      "cell_type": "code",
      "execution_count": null,
      "metadata": {
        "id": "ktanChtgKatE"
      },
      "outputs": [],
      "source": [
        "corpus_clean = [clean_korean(i) for i in corpus]"
      ]
    },
    {
      "cell_type": "code",
      "execution_count": null,
      "metadata": {
        "id": "DP7EHGrAuJHk"
      },
      "outputs": [],
      "source": [
        "okt = Okt() # 형태소 분석 클래스 instance\n",
        "use_tag = ['Noun', 'Verb', 'Adjective']\n",
        "preprocess_corpus = []"
      ]
    },
    {
      "cell_type": "code",
      "execution_count": null,
      "metadata": {
        "colab": {
          "base_uri": "https://localhost:8080/"
        },
        "id": "NtBWyTRUuex_",
        "outputId": "f0e908f3-c24b-4265-c78a-7a248bc00ed9"
      },
      "outputs": [
        {
          "name": "stdout",
          "output_type": "stream",
          "text": [
            "x: 미국 증시는  월달 민간 부분 고용이 크게 늘어났다는소식이 긍정적으로 작용하면서 어제의 급락에서 벗어나 상승세를 탔지만 오후까지 이 상승세를 지키지 못하고 보합으로 장을 마감했습니다\n",
            "y: 1\n"
          ]
        }
      ],
      "source": [
        "x = corpus_clean[0] #x는 깨끗이 처리된 문장 저장\n",
        "y = sentiment[0]\n",
        "print(\"x:\", x)\n",
        "print(\"y:\", y)"
      ]
    },
    {
      "cell_type": "code",
      "execution_count": null,
      "metadata": {
        "colab": {
          "base_uri": "https://localhost:8080/"
        },
        "id": "Z8Wmfc9Ouj7j",
        "outputId": "abac9d6b-8e17-4b5a-da4a-228a8fd9e87f"
      },
      "outputs": [
        {
          "data": {
            "text/plain": [
              "[('미국', 'Noun'),\n",
              " ('증시', 'Noun'),\n",
              " ('는', 'Josa'),\n",
              " ('월달', 'Noun'),\n",
              " ('민간', 'Noun'),\n",
              " ('부분', 'Noun'),\n",
              " ('고용', 'Noun'),\n",
              " ('이', 'Josa'),\n",
              " ('크게', 'Noun'),\n",
              " ('늘어났다는', 'Verb'),\n",
              " ('소식', 'Noun'),\n",
              " ('이', 'Josa'),\n",
              " ('긍정', 'Noun'),\n",
              " ('적', 'Suffix'),\n",
              " ('으로', 'Josa'),\n",
              " ('작용', 'Noun'),\n",
              " ('하면서', 'Verb'),\n",
              " ('어제', 'Noun'),\n",
              " ('의', 'Josa'),\n",
              " ('급락', 'Noun'),\n",
              " ('에서', 'Josa'),\n",
              " ('벗어나', 'Verb'),\n",
              " ('상승세', 'Noun'),\n",
              " ('를', 'Josa'),\n",
              " ('탔지만', 'Verb'),\n",
              " ('오후', 'Noun'),\n",
              " ('까지', 'Josa'),\n",
              " ('이', 'Noun'),\n",
              " ('상승세', 'Noun'),\n",
              " ('를', 'Josa'),\n",
              " ('지키지', 'Verb'),\n",
              " ('못', 'Noun'),\n",
              " ('하고', 'Josa'),\n",
              " ('보합', 'Noun'),\n",
              " ('으로', 'Josa'),\n",
              " ('장', 'Noun'),\n",
              " ('을', 'Josa'),\n",
              " ('마감', 'Noun'),\n",
              " ('했습니다', 'Verb')]"
            ]
          },
          "execution_count": 35,
          "metadata": {},
          "output_type": "execute_result"
        }
      ],
      "source": [
        "#명사 조사 부사 형용사 ...가 단어와 쌍으로 sent에 저장\n",
        "sent = okt.pos(x)\n",
        "sent"
      ]
    },
    {
      "cell_type": "code",
      "execution_count": null,
      "metadata": {
        "colab": {
          "base_uri": "https://localhost:8080/"
        },
        "id": "E43wLpU6vPBC",
        "outputId": "990c9480-e3be-4328-f9d1-0670725ded34"
      },
      "outputs": [
        {
          "data": {
            "text/plain": [
              "['미국_1',\n",
              " '증시_1',\n",
              " '월달_1',\n",
              " '민간_1',\n",
              " '부분_1',\n",
              " '고용_1',\n",
              " '크게_1',\n",
              " '늘어났다는_1',\n",
              " '소식_1',\n",
              " '긍정_1',\n",
              " '작용_1',\n",
              " '하면서_1',\n",
              " '어제_1',\n",
              " '급락_1',\n",
              " '벗어나_1',\n",
              " '상승세_1',\n",
              " '탔지만_1',\n",
              " '오후_1',\n",
              " '상승세_1',\n",
              " '지키지_1',\n",
              " '보합_1',\n",
              " '마감_1',\n",
              " '했습니다_1']"
            ]
          },
          "execution_count": 36,
          "metadata": {},
          "output_type": "execute_result"
        }
      ],
      "source": [
        "[s[0] + '_' + str(y) for s in sent if s[1] in use_tag and len(s[0]) > 1] #s는 위에있는 튜플들을 의미하며 noun verb adjective(use tag)미며 길이가 2자 이상인 것만 가져와서 감정을 붙이겠다."
      ]
    },
    {
      "cell_type": "code",
      "execution_count": null,
      "metadata": {
        "id": "2yLM9hXLZiJS"
      },
      "outputs": [],
      "source": []
    },
    {
      "cell_type": "code",
      "execution_count": null,
      "metadata": {
        "colab": {
          "background_save": true
        },
        "id": "MshdIsk5uPxK"
      },
      "outputs": [],
      "source": [
        "for x, y in zip(corpus_clean, sentiment): #zip으로 묶어서 앞에 있는것과 뒤에있는 것을 튜플로 해줘서 x는 corpus_clean의 원소, sentiment의 원소를 y로서 사용!\n",
        "    sent = okt.pos(x)\n",
        "    if y == 2: y = 0\n",
        "    sent = [s[0] + '_' + str(y) for s in sent if s[1] in use_tag and len(s[0]) > 1]\n",
        "    preprocess_corpus.append(sent)"
      ]
    },
    {
      "cell_type": "code",
      "execution_count": null,
      "metadata": {
        "colab": {
          "background_save": true
        },
        "id": "4JYcetGgK6QK"
      },
      "outputs": [],
      "source": []
    },
    {
      "cell_type": "code",
      "execution_count": null,
      "metadata": {
        "colab": {
          "background_save": true,
          "base_uri": "https://localhost:8080/"
        },
        "id": "cDFO0GPkvu71",
        "outputId": "eb2e1d04-d8b1-4f43-bf6e-b68011a2ce3f"
      },
      "outputs": [
        {
          "data": {
            "text/plain": [
              "1000"
            ]
          },
          "execution_count": 38,
          "metadata": {},
          "output_type": "execute_result"
        }
      ],
      "source": [
        "len(preprocess_corpus) #"
      ]
    },
    {
      "cell_type": "code",
      "execution_count": null,
      "metadata": {
        "colab": {
          "background_save": true
        },
        "id": "HgsEIhbtvfL-"
      },
      "outputs": [],
      "source": [
        "#여기서 부터가 진짜!!!!!!!!!!!!!!!!!!!!!!!\n",
        "#원핫벡터도 만들고 사전도 만들어주는 역할 toknizer\n",
        "from tensorflow.keras import preprocessing\n",
        "tokenizer=preprocessing.text.Tokenizer()\n",
        "tokenizer.fit_on_texts(preprocess_corpus)"
      ]
    },
    {
      "cell_type": "markdown",
      "metadata": {
        "id": "GXsZN7zNwZp4"
      },
      "source": [
        "The fit_on_texts method is a part of Keras tokenizer class which is used to update the internal vocabulary for the texts list. We need to call be before using other methods of texts_to_sequences or texts_to_matrix."
      ]
    },
    {
      "cell_type": "code",
      "execution_count": null,
      "metadata": {
        "colab": {
          "background_save": true,
          "base_uri": "https://localhost:8080/"
        },
        "id": "SIjf3XqGv6me",
        "outputId": "53e31ee5-e694-4f54-ac3b-64fb1f320a18"
      },
      "outputs": [
        {
          "name": "stdout",
          "output_type": "stream",
          "text": [
            "Text is: ['미국_1', '증시_1', '월달_1', '민간_1', '부분_1', '고용_1', '크게_1', '늘어났다는_1', '소식_1', '긍정_1', '작용_1', '하면서_1', '어제_1', '급락_1', '벗어나_1', '상승세_1', '탔지만_1', '오후_1', '상승세_1', '지키지_1', '보합_1', '마감_1', '했습니다_1']\n",
            "The sequences generated from text are :  [45, 110, 939, 54, 465, 10, 86, 1235, 294, 163, 466, 192, 940, 1236, 1237, 378, 1878, 941, 378, 1879, 942, 417, 379]\n"
          ]
        }
      ],
      "source": [
        "sequences=tokenizer.texts_to_sequences(preprocess_corpus) #preprocess_corpus가 원래 사전보다 작아도 된다! text를 sequence로 바꿔준다 preprocess_corpus를 숫자로 바꿔준다!\n",
        "#밑의 결과의 1줄이 2줄의 숫자로 변했음!\n",
        "print(\"Text is:\", preprocess_corpus[0])  #target이 민간이라면 sequence가 54임을 볼 수 있음\n",
        "print(\"The sequences generated from text are : \",sequences[0])\n"
      ]
    },
    {
      "cell_type": "code",
      "execution_count": null,
      "metadata": {
        "colab": {
          "background_save": true
        },
        "id": "9sSXjh51wwlQ"
      },
      "outputs": [],
      "source": [
        "vocab=tokenizer.word_index\n",
        "#vocab.values()\n",
        "#vocab은 단어-감정과 sequnce가 딕셔너리로묵임 1시작"
      ]
    },
    {
      "cell_type": "code",
      "execution_count": null,
      "metadata": {
        "colab": {
          "background_save": true
        },
        "id": "pciHjDIGMmlA"
      },
      "outputs": [],
      "source": []
    },
    {
      "cell_type": "code",
      "execution_count": null,
      "metadata": {
        "colab": {
          "background_save": true
        },
        "id": "zO3slPdbMokJ"
      },
      "outputs": [],
      "source": []
    },
    {
      "cell_type": "code",
      "execution_count": null,
      "metadata": {
        "colab": {
          "background_save": true
        },
        "id": "MpZTzOoYxUEJ"
      },
      "outputs": [],
      "source": [
        "#'pad에는 아무것도 없는 공간 표시 dictionary의 vocabulary에 pad : 0을 할당한디! ##### 자주쓰는 테크닉임!\n",
        "vocab['pad'] = 0\n",
        "vocab = {x:y for x,y in sorted(vocab.items(), key=lambda x: x[1])}"
      ]
    },
    {
      "cell_type": "code",
      "execution_count": null,
      "metadata": {
        "colab": {
          "background_save": true
        },
        "id": "Wz3_DavOM9rp"
      },
      "outputs": [],
      "source": []
    },
    {
      "cell_type": "code",
      "execution_count": null,
      "metadata": {
        "colab": {
          "background_save": true,
          "base_uri": "https://localhost:8080/",
          "height": 452
        },
        "id": "2JyobGeqywFZ",
        "outputId": "7a86e9c6-fe4b-4f5c-c775-0336728b1fba"
      },
      "outputs": [
        {
          "data": {
            "image/png": "[encoded data removed]",
            "text/plain": [
              "<Figure size 640x480 with 1 Axes>"
            ]
          },
          "metadata": {},
          "output_type": "display_data"
        }
      ],
      "source": [
        "#sequence는 1000개의 문장에서 1문장의 토큰을 묶어 []로 2번째도 묶어 []로 이중 리스트로 저장, [len(x) for x in sequences] 는 각각의 문장이 몇개의 단어로 이루어지는가 의미\n",
        "#%%\n",
        "plt.hist([len(x) for x in sequences])\n",
        "plt.title('sequence length histogram')\n",
        "plt.show()"
      ]
    },
    {
      "cell_type": "code",
      "execution_count": null,
      "metadata": {
        "colab": {
          "background_save": true
        },
        "id": "iquFtYtVykut"
      },
      "outputs": [],
      "source": [
        "# from scipy.stats import mode 촤대 길이 문장\n",
        "all_context_window = np.max([len(x) for x in sequences])"
      ]
    },
    {
      "cell_type": "code",
      "execution_count": null,
      "metadata": {
        "colab": {
          "background_save": true
        },
        "id": "zUUYRiLhNssn"
      },
      "outputs": [],
      "source": []
    },
    {
      "cell_type": "code",
      "execution_count": null,
      "metadata": {
        "colab": {
          "background_save": true,
          "base_uri": "https://localhost:8080/"
        },
        "id": "5JPanwV60bDH",
        "outputId": "a4c6c69b-f4da-48ee-ce67-6746ade880f4"
      },
      "outputs": [
        {
          "data": {
            "text/plain": [
              "51"
            ]
          },
          "execution_count": 45,
          "metadata": {},
          "output_type": "execute_result"
        }
      ],
      "source": [
        "all_context_window"
      ]
    },
    {
      "cell_type": "code",
      "execution_count": null,
      "metadata": {
        "colab": {
          "background_save": true
        },
        "id": "ZuO-3cRh0Z0Z"
      },
      "outputs": [],
      "source": [
        "vocab_reverse = {i:x for x,i in vocab.items()}\n",
        "vocab_size = len(vocab)"
      ]
    },
    {
      "cell_type": "code",
      "execution_count": null,
      "metadata": {
        "colab": {
          "background_save": true,
          "base_uri": "https://localhost:8080/"
        },
        "id": "H0B-C6c40ipx",
        "outputId": "ecd64be5-4358-463c-8732-9d0f9107348b"
      },
      "outputs": [
        {
          "name": "stderr",
          "output_type": "stream",
          "text": [
            "100%|██████████| 1000/1000 [00:00<00:00, 2794.70it/s]"
          ]
        },
        {
          "name": "stdout",
          "output_type": "stream",
          "text": [
            "\n",
            "length of contexts: 16667\n",
            "length of targets: 16667\n",
            "length of all_contexts: 16667\n",
            "length of labels: 16667\n"
          ]
        },
        {
          "name": "stderr",
          "output_type": "stream",
          "text": [
            "\n"
          ]
        }
      ],
      "source": [
        "#문장이 10개의 토큰이 있다면 target을 10번 바꾸기 가능!\n",
        "#%%\n",
        "'''CBOW context, target 생성'''\n",
        "targets = []\n",
        "contexts = []\n",
        "#문장 전체의 context모아둔 리스트\n",
        "all_contexts = []\n",
        "#감성단어에 대한 레이블\n",
        "labels = []\n",
        "# target과 주변단어의 인덱스 길이\n",
        "window_size = 4\n",
        "\n",
        "for num in tqdm(range(len(sequences))):\n",
        "    sent = sequences[num] #첫 문장을 가져와 sent에 저장\n",
        "    l = len(sent) # 주어진 문장의 길이 #문장의 길이만큼 target단어가 있음!!!\n",
        "    #target을 바꾸면서 주변단어를 context에 저장함!\n",
        "    for index in range(l): # 주어진 문장의 길이 #문장의 길이만큼 target단어가 있음!!! 따라서 문장길이 만큼  for문\n",
        "        s = index - window_size # window 시작 위치\n",
        "        e = index + window_size + 1 # window 끝 위치\n",
        "        #context:주변단어리스트\n",
        "        context = []\n",
        "        for i in range(s, e):\n",
        "            if 0 <= i < l and i != index: # window가 주어진 문장의 길이를 벗어나지 않고, 중심에 있는 단어(target)가 아닐 경우\n",
        "                context.append(sent[i])\n",
        "        #contexts들은 ppt에서 x값들 의미\n",
        "        contexts.append(context)\n",
        "        #타겟단어 저장 ppt에서 y로 표현\n",
        "        targets.append(sent[index])\n",
        "        #sent(문장전체)를 저장\n",
        "        all_contexts.append(sent)\n",
        "        if sentiment[num] == 2: # 부정\n",
        "            y = 0\n",
        "        else: # 긍정\n",
        "            y = 1\n",
        "        #감정을 label에 추가\n",
        "        labels.append(float(y))\n",
        "\n",
        "print(\"\")\n",
        "print(\"length of contexts:\", len(contexts))\n",
        "print(\"length of targets:\", len(targets))\n",
        "print(\"length of all_contexts:\", len(all_contexts))\n",
        "print(\"length of labels:\", len(labels))"
      ]
    },
    {
      "cell_type": "code",
      "execution_count": null,
      "metadata": {
        "colab": {
          "background_save": true,
          "base_uri": "https://localhost:8080/"
        },
        "id": "VeHuLUXlPHu_",
        "outputId": "384170eb-009b-4848-9162-a44c31106a98"
      },
      "outputs": [
        {
          "data": {
            "text/plain": [
              "[110, 939, 54, 465]"
            ]
          },
          "execution_count": 48,
          "metadata": {},
          "output_type": "execute_result"
        }
      ],
      "source": [
        "contexts[0]"
      ]
    },
    {
      "cell_type": "code",
      "execution_count": null,
      "metadata": {
        "colab": {
          "background_save": true,
          "base_uri": "https://localhost:8080/"
        },
        "id": "8TqvX7c0PNoE",
        "outputId": "0ec4285c-0835-4cdb-bfe3-30602d89eca2"
      },
      "outputs": [
        {
          "data": {
            "text/plain": [
              "45"
            ]
          },
          "execution_count": 49,
          "metadata": {},
          "output_type": "execute_result"
        }
      ],
      "source": [
        "targets[0]"
      ]
    },
    {
      "cell_type": "code",
      "execution_count": null,
      "metadata": {
        "colab": {
          "background_save": true
        },
        "id": "deZFRM5dM1D5"
      },
      "outputs": [],
      "source": [
        "#padding을 어디다 넣을건지는 상관없으나 통일해야함! contexts가 첫단어와 끝단어는 길이가 짧으므로 windowsize *2보다 작다면 padding으로 늘려주기! post면 뒤에 pre면 앞에 생긴다!!!!  1237  378 1878  941  378 1879  942  417  379    0    0    0    0    0 같이\n",
        "#pre앞 post이후\n",
        "#%%\n",
        "contexts = tf.keras.preprocessing.sequence.pad_sequences(contexts,\n",
        "                                                        maxlen=window_size*2, #길이를 windowsize *2로 맞추기\n",
        "                                                        dtype='int32',\n",
        "                                                        padding='post',\n",
        "                                                        value=0) #추가되는 값은 0으로 pad를 0으로 정의했기 때문에\n",
        "\n",
        "all_contexts = tf.keras.preprocessing.sequence.pad_sequences(all_contexts,\n",
        "                                                        maxlen=all_context_window,\n",
        "                                                        dtype='int32',\n",
        "                                                        padding='post',\n",
        "                                                        value=0)\n",
        "#target 변수를 one-hot인코딩 실시!\n",
        "targets = tf.one_hot(targets, depth=len(vocab))\n"
      ]
    },
    {
      "cell_type": "code",
      "execution_count": null,
      "metadata": {
        "colab": {
          "background_save": true,
          "base_uri": "https://localhost:8080/"
        },
        "id": "ENhJe21eQV9k",
        "outputId": "a76fdfda-232b-4f3f-df5f-b56304807652"
      },
      "outputs": [
        {
          "name": "stdout",
          "output_type": "stream",
          "text": [
            "context[0]: [110 939  54 465   0   0   0   0]\n",
            "all_contexts: [  45  110  939   54  465   10   86 1235  294  163  466  192  940 1236\n",
            " 1237  378 1878  941  378 1879  942  417  379    0    0    0    0    0\n",
            "    0    0    0    0    0    0    0    0    0    0    0    0    0    0\n",
            "    0    0    0    0    0    0    0    0    0]\n",
            "targets[0]: tf.Tensor([0. 0. 0. ... 0. 0. 0.], shape=(4318,), dtype=float32)\n"
          ]
        }
      ],
      "source": [
        "print(\"context[0]:\", contexts[0])\n",
        "print(\"all_contexts:\", all_contexts[0])\n",
        "print(\"targets[0]:\", targets[0])\n",
        "#첫번째 문서:target[0]이면 첫번째 문서 타겟  --> x_it가 원핫벡터로 targets[0]: tf.Tensor([0. 0. 0. ... 0. 0. 0.], shape=(4318,), dtype=float32) 의미\n",
        "#c_it 110 939  54 465 주변단어 의미"
      ]
    },
    {
      "cell_type": "code",
      "execution_count": null,
      "metadata": {
        "colab": {
          "background_save": true,
          "base_uri": "https://localhost:8080/"
        },
        "id": "okGdc2SIQdwD",
        "outputId": "f68900c1-c730-4007-fdfb-fe5e111474a5"
      },
      "outputs": [
        {
          "data": {
            "text/plain": [
              "array([  45,  110,  939,   54,  465,   10,   86, 1235,  294,  163,  466,\n",
              "        192,  940, 1236, 1237,  378, 1878,  941,  378, 1879,  942,  417,\n",
              "        379,    0,    0,    0,    0,    0,    0,    0,    0,    0,    0,\n",
              "          0,    0,    0,    0,    0,    0,    0,    0,    0,    0,    0,\n",
              "          0,    0,    0,    0,    0,    0,    0], dtype=int32)"
            ]
          },
          "execution_count": 52,
          "metadata": {},
          "output_type": "execute_result"
        }
      ],
      "source": [
        "all_contexts[0]"
      ]
    },
    {
      "cell_type": "code",
      "execution_count": null,
      "metadata": {
        "colab": {
          "background_save": true
        },
        "id": "LkydkhBTPjbX"
      },
      "outputs": [],
      "source": [
        "#optimize 하는 부분 128개를 batch로\n",
        "#%%\n",
        "batch_size = 128\n",
        "train_dataset = tf.data.Dataset.from_tensor_slices((contexts, targets, all_contexts, labels)).shuffle(len(contexts), reshuffle_each_iteration=True).batch(batch_size)"
      ]
    },
    {
      "cell_type": "code",
      "execution_count": null,
      "metadata": {
        "colab": {
          "background_save": true
        },
        "id": "QF6vVZn1ia93"
      },
      "outputs": [],
      "source": [
        "#단어가 있으면 단어를 2차원으로 바꾸겠다는 뜻 embedding = 2, embedding_layer는 슬라이드에서 U 매트릭스 기능 !\n",
        "#%%\n",
        "'''modeling'''\n",
        "embedding_size = 2  #단어 1개가 대응되는 숫자의 수\n",
        "embedding_layer = K.layers.Embedding(len(vocab), embedding_size) #len(vocab) 범주형 변수의 종류수, 카테고리형 변수를 숫자로 바꾸기!!!!"
      ]
    },
    {
      "cell_type": "code",
      "execution_count": null,
      "metadata": {
        "colab": {
          "background_save": true,
          "base_uri": "https://localhost:8080/"
        },
        "id": "y5lHMC0WjCqp",
        "outputId": "909f9062-c993-4037-fb40-2fc960b02a91"
      },
      "outputs": [
        {
          "name": "stdout",
          "output_type": "stream",
          "text": [
            "length of tokines: 8\n",
            "tf.Tensor(\n",
            "[[ 0.00224119  0.00793898]\n",
            " [ 0.02960665 -0.00019007]\n",
            " [ 0.03739419  0.01274229]\n",
            " [-0.0157874  -0.0423492 ]\n",
            " [ 0.01931803 -0.01852331]\n",
            " [ 0.03255249 -0.04320501]\n",
            " [ 0.02757854  0.018379  ]\n",
            " [-0.04204855  0.02159751]], shape=(8, 2), dtype=float32)\n"
          ]
        }
      ],
      "source": [
        "print('length of tokines:', len(contexts[0]))\n",
        "h = embedding_layer(contexts[10])\n",
        "print(h)"
      ]
    },
    {
      "cell_type": "code",
      "execution_count": null,
      "metadata": {
        "colab": {
          "background_save": true
        },
        "id": "9-9KyZW2PIkh"
      },
      "outputs": [],
      "source": []
    },
    {
      "cell_type": "code",
      "execution_count": null,
      "metadata": {
        "colab": {
          "background_save": true,
          "base_uri": "https://localhost:8080/"
        },
        "id": "7H2cJaEuk6NI",
        "outputId": "24cde9b6-674f-42a2-9969-f2cb711b5c66"
      },
      "outputs": [
        {
          "name": "stdout",
          "output_type": "stream",
          "text": [
            "length of tokines: 8\n",
            "tf.Tensor(\n",
            "[[[-4.4572663e-02 -3.2708514e-02]\n",
            "  [-3.3867203e-02  4.4532571e-02]\n",
            "  [-2.7857304e-02  3.4300040e-02]\n",
            "  [-4.1811634e-02  9.3421116e-03]\n",
            "  [-4.1467499e-02 -1.3352834e-02]\n",
            "  [-4.1467499e-02 -1.3352834e-02]\n",
            "  [-4.1467499e-02 -1.3352834e-02]\n",
            "  [-4.1467499e-02 -1.3352834e-02]]\n",
            "\n",
            " [[ 5.9615821e-05  4.9858477e-02]\n",
            "  [-3.3867203e-02  4.4532571e-02]\n",
            "  [-2.7857304e-02  3.4300040e-02]\n",
            "  [-4.1811634e-02  9.3421116e-03]\n",
            "  [-2.2791898e-02 -3.6677789e-02]\n",
            "  [-4.1467499e-02 -1.3352834e-02]\n",
            "  [-4.1467499e-02 -1.3352834e-02]\n",
            "  [-4.1467499e-02 -1.3352834e-02]]], shape=(2, 8, 2), dtype=float32)\n"
          ]
        },
        {
          "data": {
            "text/plain": [
              "TensorShape([2, 8, 2])"
            ]
          },
          "execution_count": 56,
          "metadata": {},
          "output_type": "execute_result"
        }
      ],
      "source": [
        "print('length of tokines:', len(contexts[0]))\n",
        "h = embedding_layer(contexts[0:2])\n",
        "print(h)\n",
        "h.shape"
      ]
    },
    {
      "cell_type": "code",
      "execution_count": null,
      "metadata": {
        "colab": {
          "background_save": true,
          "base_uri": "https://localhost:8080/"
        },
        "id": "U8-_COJZkjPg",
        "outputId": "d59a1e60-02e2-4dd2-dec9-9134273ae6b0"
      },
      "outputs": [
        {
          "data": {
            "text/plain": [
              "<tf.Tensor: shape=(2, 2), dtype=float32, numpy=\n",
              "array([[-0.03924735,  0.00025686],\n",
              "       [-0.03133386,  0.00766211]], dtype=float32)>"
            ]
          },
          "execution_count": 57,
          "metadata": {},
          "output_type": "execute_result"
        }
      ],
      "source": [
        "K.layers.GlobalAveragePooling1D()(h)  #함수의 입력값을 h로 한 결과"
      ]
    },
    {
      "cell_type": "code",
      "execution_count": null,
      "metadata": {
        "colab": {
          "background_save": true,
          "base_uri": "https://localhost:8080/"
        },
        "id": "OaP2c3-2jlbj",
        "outputId": "e44a84f5-d5db-4009-c5a6-82badbd175f0"
      },
      "outputs": [
        {
          "data": {
            "text/plain": [
              "<tf.Tensor: shape=(4318,), dtype=float32, numpy=\n",
              "array([0.00023149, 0.00023141, 0.00023176, ..., 0.00023158, 0.00023124,\n",
              "       0.00023139], dtype=float32)>"
            ]
          },
          "execution_count": 58,
          "metadata": {},
          "output_type": "execute_result"
        }
      ],
      "source": [
        "#len(vocab)은 output차원이며 softmax를 이용해 출력하겠다!\n",
        "#4318개의 0과 1사이이고 합치면 1인 수를 만들어준다!\n",
        "output_layer = K.layers.Dense(len(vocab), activation='softmax')\n",
        "output_layer(h)[0,0,:]"
      ]
    },
    {
      "cell_type": "code",
      "execution_count": null,
      "metadata": {
        "colab": {
          "background_save": true
        },
        "id": "HBkfS7pMi6fj"
      },
      "outputs": [],
      "source": [
        "output_layer = K.layers.Dense(len(vocab), activation='softmax') #simplelex값\n",
        "sentiment_layer = K.layers.Dense(1, activation='sigmoid')\n",
        "\n",
        "'''문맥 정보'''\n",
        "context_input = K.layers.Input((window_size*2, )) #8의 input을 받는놈 즉 행이 8개 열은 조정 가능하므로 빈칸\n",
        "context_h = K.layers.GlobalAveragePooling1D()(embedding_layer(context_input)) # context embedding vector들을 평균\n",
        "\n",
        "all_context_input = K.layers.Input((all_context_window, ))\n",
        "all_context_h = K.layers.GlobalAveragePooling1D()(embedding_layer(all_context_input)) # 문장 embedding vector들을 평균 8행(windowsize*2) 2열짜리가 다시 2차원 벡터로 변환된다!\n",
        "\n",
        "h = context_h + all_context_h #주변정보 + 전체정보를 feature로 했다\n",
        "target_output = output_layer(h) #output layer는 길이가 len(vocab)인 softmax 함수\n",
        "\n",
        "'''감성 정보'''\n",
        "sentiment_output = sentiment_layer(all_context_h)\n",
        "#\n",
        "model = K.models.Model([context_input, all_context_input], [target_output, sentiment_output]) #인풋이 주변정보와 문장정보 2개, 아웃풋은 target_output(y hat의미),sentimet_output(감정추정값)"
      ]
    },
    {
      "cell_type": "code",
      "execution_count": null,
      "metadata": {
        "colab": {
          "background_save": true
        },
        "id": "Ag5WX2WrRf3o"
      },
      "outputs": [],
      "source": []
    },
    {
      "cell_type": "markdown",
      "metadata": {
        "id": "nwosZAiCTYNt"
      },
      "source": [
        "train_dataset 은 contexts, target, all_contexts, labels로 구성되어 있다. train_dataset 에서 하나의 샘플을 추출하면, 네 개의 구성요소의 샘플들을 얻을 수 있다."
      ]
    },
    {
      "cell_type": "code",
      "execution_count": null,
      "metadata": {
        "colab": {
          "background_save": true
        },
        "id": "B-KLv0EIQ0wB"
      },
      "outputs": [],
      "source": [
        "#%%\n",
        "'''modeling'''\n",
        "embedding_size = 32\n",
        "def build_model(embedding_size):\n",
        "    embedding_layer = K.layers.Embedding(len(vocab), embedding_size)\n",
        "    output_layer = K.layers.Dense(len(vocab), activation='softmax')\n",
        "    sentiment_layer = K.layers.Dense(1, activation='sigmoid')\n",
        "\n",
        "    '''문맥 정보'''\n",
        "    context_input = K.layers.Input((window_size*2, ))\n",
        "    context_h = K.layers.GlobalAveragePooling1D()(embedding_layer(context_input)) # context embedding vector들을 평균\n",
        "\n",
        "    all_context_input = K.layers.Input((all_context_window, ))\n",
        "    all_context_h = K.layers.GlobalAveragePooling1D()(embedding_layer(all_context_input)) # 문장 embedding vector들을 평균\n",
        "\n",
        "    h = context_h + all_context_h\n",
        "    target_output = output_layer(h)\n",
        "\n",
        "    '''감성 정보'''\n",
        "    sentiment_output = sentiment_layer(all_context_h)\n",
        "\n",
        "    model = K.models.Model([context_input, all_context_input], [target_output, sentiment_output])\n",
        "\n",
        "    # model.summary()\n",
        "\n",
        "    return model\n",
        "#%%\n"
      ]
    },
    {
      "cell_type": "code",
      "execution_count": null,
      "metadata": {
        "colab": {
          "background_save": true
        },
        "id": "-T_NuNxRMFj5"
      },
      "outputs": [],
      "source": [
        "input_shape = (2, 3, 4)\n",
        "x = tf.random.normal(input_shape)"
      ]
    },
    {
      "cell_type": "markdown",
      "metadata": {
        "id": "I-38vH89hzB8"
      },
      "source": [
        "Input 에 feature값을 참조하여 average값은 반환하는 메소드\n",
        "\n",
        "Input shape:\n",
        "- If data_format='channels_last': 3D tensor with shape: (batch_size, steps, features)\n",
        "- If data_format='channels_first': 3D tensor with shape: (batch_size, features, steps)\n",
        "\n",
        "Output shape:\n",
        "\n",
        "- If keepdims=False: 2D tensor with shape (batch_size, features).\n",
        "- If keepdims=True:\n",
        " - If data_format='channels_last': 3D tensor with shape (batch_size, 1, features)\n",
        " - If data_format='channels_first': 3D tensor with shape (batch_size, features, 1)"
      ]
    },
    {
      "cell_type": "code",
      "execution_count": null,
      "metadata": {
        "colab": {
          "background_save": true,
          "base_uri": "https://localhost:8080/"
        },
        "id": "R6CzcpSAMIxd",
        "outputId": "52c8528c-e05e-4961-8322-dc4926f0c816"
      },
      "outputs": [
        {
          "data": {
            "text/plain": [
              "<tf.Tensor: shape=(2, 3, 4), dtype=float32, numpy=\n",
              "array([[[ 0.67748904,  1.6623014 , -0.17188586,  1.9654675 ],\n",
              "        [-0.00529248,  1.3151137 , -1.027802  , -0.49731788],\n",
              "        [-1.884371  ,  0.8261093 ,  1.2338676 ,  0.40036297]],\n",
              "\n",
              "       [[-0.40221158, -1.332043  , -1.2443985 , -0.35412398],\n",
              "        [-0.47769964,  0.30419096,  2.4211028 , -0.6996597 ],\n",
              "        [-0.08663423,  1.2630657 , -0.8666049 ,  0.80513984]]],\n",
              "      dtype=float32)>"
            ]
          },
          "execution_count": 62,
          "metadata": {},
          "output_type": "execute_result"
        }
      ],
      "source": [
        "x\n"
      ]
    },
    {
      "cell_type": "code",
      "execution_count": null,
      "metadata": {
        "colab": {
          "background_save": true,
          "base_uri": "https://localhost:8080/"
        },
        "id": "r8tym4IwMHLA",
        "outputId": "68540648-d8a8-466f-cc23-ff9cb0af8d94"
      },
      "outputs": [
        {
          "name": "stdout",
          "output_type": "stream",
          "text": [
            "(2, 4)\n"
          ]
        }
      ],
      "source": [
        "y = tf.keras.layers.GlobalAveragePooling1D()(x)\n",
        "print(y.shape)\n"
      ]
    },
    {
      "cell_type": "code",
      "execution_count": null,
      "metadata": {
        "colab": {
          "background_save": true,
          "base_uri": "https://localhost:8080/"
        },
        "id": "q_0XPJ0JMQXt",
        "outputId": "6bb66360-cba9-409b-dd1c-834a83ddb40a"
      },
      "outputs": [
        {
          "data": {
            "text/plain": [
              "<tf.Tensor: shape=(2, 4), dtype=float32, numpy=\n",
              "array([[-0.40405813,  1.2678415 ,  0.01139327,  0.6228375 ],\n",
              "       [-0.3221818 ,  0.07840455,  0.10336646, -0.08288127]],\n",
              "      dtype=float32)>"
            ]
          },
          "execution_count": 64,
          "metadata": {},
          "output_type": "execute_result"
        }
      ],
      "source": [
        "y"
      ]
    },
    {
      "cell_type": "code",
      "execution_count": null,
      "metadata": {
        "colab": {
          "background_save": true
        },
        "id": "Ea-dOkJeRMdD"
      },
      "outputs": [],
      "source": [
        "\n",
        "optimizer = K.optimizers.Adam(0.001)\n",
        "model = build_model(embedding_size)\n",
        "\n",
        "@tf.function\n",
        "def train_step(batch_context, batch_target, batch_all_contexts, batch_labels):\n",
        "    with tf.GradientTape() as tape:\n",
        "        context_pred, label_pred = model([batch_context, batch_all_contexts])\n",
        "        context_loss = tf.reduce_mean(tf.reduce_sum(batch_target * tf.math.log(tf.clip_by_value(context_pred, 1e-10, 1.)), axis=1))\n",
        "        sentiment_loss = batch_labels[:, tf.newaxis] * tf.math.log(tf.clip_by_value(label_pred, 1e-10, 1.))\n",
        "        sentiment_loss += (1. - batch_labels[:, tf.newaxis]) * tf.math.log(tf.clip_by_value(1. - label_pred, 1e-10, 1.))\n",
        "        sentiment_loss = tf.reduce_mean(sentiment_loss)\n",
        "        loss = beta * context_loss + (1. - beta) * sentiment_loss\n",
        "    grad = tape.gradient(loss, model.trainable_weights)\n",
        "    optimizer.apply_gradients(zip(grad, model.trainable_weights))\n",
        "    return loss, context_loss, sentiment_loss\n",
        "#%%\n"
      ]
    },
    {
      "cell_type": "code",
      "execution_count": null,
      "metadata": {
        "colab": {
          "background_save": true,
          "base_uri": "https://localhost:8080/"
        },
        "id": "doWBwBgXRREG",
        "outputId": "6cc91810-7677-49b9-a361-5c81fc2ab56e"
      },
      "outputs": [
        {
          "name": "stderr",
          "output_type": "stream",
          "text": [
            "iteration 999/1000 | loss -22.890, context -23.026, sentiment -9.394: 100%|█████████▉| 999/1000 [00:36<00:00, 27.27it/s]\n"
          ]
        }
      ],
      "source": [
        "\n",
        "iterator = iter(train_dataset)\n",
        "beta = 0.99\n",
        "\n",
        "iteration = 1000\n",
        "step = 0\n",
        "progress_bar = tqdm(range(iteration))\n",
        "progress_bar.set_description('iteration {}/{} | current loss ?'.format(step, iteration))\n",
        "\n",
        "for _ in progress_bar:\n",
        "    try:\n",
        "        batch_context, batch_target, batch_all_contexts, batch_labels = next(iterator)\n",
        "    except:\n",
        "        iterator = iter(train_dataset)\n",
        "        batch_context, batch_target, batch_all_contexts, batch_labels = next(iterator)\n",
        "\n",
        "    loss, context_loss, sentiment_loss = train_step(batch_context, batch_target, batch_all_contexts, batch_labels)\n",
        "\n",
        "    progress_bar.set_description('iteration {}/{} | loss {:.3f}, context {:.3f}, sentiment {:.3f}'.format(\n",
        "        step, iteration,\n",
        "        loss.numpy(), context_loss.numpy(), sentiment_loss.numpy()))\n",
        "\n",
        "    step += 1\n",
        "\n",
        "    if step == iteration: break\n",
        "#%%\n",
        "#'''save embedding matrix'''\n",
        "#np.save('./assets/embedding_matrix_{}'.format(beta), embedding_matrix)\n",
        "#%%"
      ]
    },
    {
      "cell_type": "code",
      "execution_count": null,
      "metadata": {
        "colab": {
          "background_save": true,
          "base_uri": "https://localhost:8080/"
        },
        "id": "oujKBoUd59zu",
        "outputId": "d82b034c-b830-47a6-a97d-bd62c46f70cc"
      },
      "outputs": [
        {
          "data": {
            "text/plain": [
              "(4318, 32)"
            ]
          },
          "execution_count": 67,
          "metadata": {},
          "output_type": "execute_result"
        }
      ],
      "source": [
        "embedding_matrix = model.layers[2].weights[0]\n",
        "embedding_matrix = embedding_matrix.numpy()\n",
        "embedding_matrix.shape\n"
      ]
    },
    {
      "cell_type": "code",
      "execution_count": null,
      "metadata": {
        "colab": {
          "background_save": true,
          "base_uri": "https://localhost:8080/"
        },
        "id": "-aBoHneISAH7",
        "outputId": "ba610ddd-379e-4e26-ccd2-ec12fab531f1"
      },
      "outputs": [
        {
          "name": "stdout",
          "output_type": "stream",
          "text": [
            "Model: \"model_1\"\n",
            "__________________________________________________________________________________________________\n",
            " Layer (type)                   Output Shape         Param #     Connected to                     \n",
            "==================================================================================================\n",
            " input_3 (InputLayer)           [(None, 8)]          0           []                               \n",
            "                                                                                                  \n",
            " input_4 (InputLayer)           [(None, 51)]         0           []                               \n",
            "                                                                                                  \n",
            " embedding_1 (Embedding)        multiple             138176      ['input_3[0][0]',                \n",
            "                                                                  'input_4[0][0]']                \n",
            "                                                                                                  \n",
            " global_average_pooling1d_4 (Gl  (None, 32)          0           ['embedding_1[0][0]']            \n",
            " obalAveragePooling1D)                                                                            \n",
            "                                                                                                  \n",
            " global_average_pooling1d_5 (Gl  (None, 32)          0           ['embedding_1[1][0]']            \n",
            " obalAveragePooling1D)                                                                            \n",
            "                                                                                                  \n",
            " tf.__operators__.add_1 (TFOpLa  (None, 32)          0           ['global_average_pooling1d_4[0][0\n",
            " mbda)                                                           ]',                              \n",
            "                                                                  'global_average_pooling1d_5[0][0\n",
            "                                                                 ]']                              \n",
            "                                                                                                  \n",
            " dense_3 (Dense)                (None, 4318)         142494      ['tf.__operators__.add_1[0][0]'] \n",
            "                                                                                                  \n",
            " dense_4 (Dense)                (None, 1)            33          ['global_average_pooling1d_5[0][0\n",
            "                                                                 ]']                              \n",
            "                                                                                                  \n",
            "==================================================================================================\n",
            "Total params: 280,703\n",
            "Trainable params: 280,703\n",
            "Non-trainable params: 0\n",
            "__________________________________________________________________________________________________\n"
          ]
        }
      ],
      "source": [
        "model.summary()"
      ]
    }
  ],
  "metadata": {
    "colab": {
      "provenance": []
    },
    "kernelspec": {
      "display_name": "Python 3",
      "name": "python3"
    },
    "language_info": {
      "name": "python"
    }
  },
  "nbformat": 4,
  "nbformat_minor": 0
}